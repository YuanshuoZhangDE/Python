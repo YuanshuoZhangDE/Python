{
 "cells": [
  {
   "cell_type": "markdown",
   "metadata": {},
   "source": [
    "## 变量"
   ]
  },
  {
   "cell_type": "markdown",
   "metadata": {},
   "source": [
    "变量就是可以改变的量。"
   ]
  },
  {
   "cell_type": "markdown",
   "metadata": {},
   "source": [
    "### 变量赋值"
   ]
  },
  {
   "cell_type": "code",
   "execution_count": null,
   "metadata": {},
   "outputs": [],
   "source": [
    "变量名 = 值"
   ]
  },
  {
   "cell_type": "code",
   "execution_count": null,
   "metadata": {
    "ExecuteTime": {
     "end_time": "2020-02-10T04:11:22.438920Z",
     "start_time": "2020-02-10T04:11:22.432449Z"
    }
   },
   "outputs": [],
   "source": [
    "#变量赋值\n",
    "bottle = 'Tsingtao'\n",
    "#输出变量\n",
    "print(bottle)"
   ]
  },
  {
   "cell_type": "markdown",
   "metadata": {},
   "source": [
    "### 变量的命名规范：\n",
    "- 汉字变量可以使用，但是不推荐\n",
    "- 可以使用数字，但是不能以数字开头\n",
    "- 不可以使用特殊字符，除了_\n",
    "- 变量严格区分大小写\n",
    "- 变量命名要有意义\n",
    "- 变量命名要避免和系统使用的保留关键字冲突"
   ]
  },
  {
   "cell_type": "code",
   "execution_count": null,
   "metadata": {
    "ExecuteTime": {
     "end_time": "2020-02-10T04:07:32.283309Z",
     "start_time": "2020-02-10T04:07:32.276749Z"
    }
   },
   "outputs": [],
   "source": [
    "#查询系统保留关键字\n",
    "import keyword\n",
    "print(keyword.kwlist)"
   ]
  },
  {
   "cell_type": "markdown",
   "metadata": {},
   "source": [
    "### 其他变量赋值方式"
   ]
  },
  {
   "cell_type": "code",
   "execution_count": null,
   "metadata": {},
   "outputs": [],
   "source": [
    "变量名 = 值\n",
    "#多个变量赋相同值\n",
    "变量1 = 变量2 = 变量3 = 值\n",
    "#多个变量赋不同的值\n",
    "变量1, 变量2, 变量3 = 值1, 值2, 值3"
   ]
  },
  {
   "cell_type": "code",
   "execution_count": null,
   "metadata": {
    "ExecuteTime": {
     "end_time": "2020-02-10T04:33:25.113450Z",
     "start_time": "2020-02-10T04:33:25.106656Z"
    }
   },
   "outputs": [],
   "source": [
    "#多个变量赋相同的值\n",
    "girl_1 = girl_2 = girl_3 = '美丽的姑娘'\n",
    "print(girl_1)\n",
    "print(girl_2)\n",
    "print(girl_3)"
   ]
  },
  {
   "cell_type": "code",
   "execution_count": null,
   "metadata": {
    "ExecuteTime": {
     "end_time": "2020-02-10T04:36:47.300836Z",
     "start_time": "2020-02-10T04:36:47.293475Z"
    }
   },
   "outputs": [],
   "source": [
    "#多个变量赋不同的值\n",
    "girl_1, girl_2, girl_3 = '嫦娥仙子', '白骨夫人', '玉面狐狸'\n",
    "print(girl_1)\n",
    "print(girl_2)\n",
    "print(girl_3)"
   ]
  },
  {
   "cell_type": "markdown",
   "metadata": {},
   "source": [
    "## Python数据类型"
   ]
  },
  {
   "cell_type": "markdown",
   "metadata": {},
   "source": [
    "Python中可以自定义数据类型，可以具有无限种数据类型。"
   ]
  },
  {
   "cell_type": "markdown",
   "metadata": {},
   "source": [
    "Python提供默认6种数据类型\n",
    "- Number类型    数值类型\n",
    "- String类型    字符类型\n",
    "- List类型     列表类型\n",
    "- Tuple类型    元组类型\n",
    "- Dict类型     字典类型\n",
    "- Set类型     集合类型"
   ]
  },
  {
   "cell_type": "markdown",
   "metadata": {},
   "source": [
    "### Number 数值类型"
   ]
  },
  {
   "cell_type": "markdown",
   "metadata": {},
   "source": [
    "Number类型一共分为四个小类型：整型、浮点型、布尔型、复数"
   ]
  },
  {
   "cell_type": "markdown",
   "metadata": {},
   "source": [
    "#### 整型"
   ]
  },
  {
   "cell_type": "markdown",
   "metadata": {},
   "source": [
    "整型就是数学中的整数，包含正整数、0、负数"
   ]
  },
  {
   "cell_type": "markdown",
   "metadata": {},
   "source": [
    "声明整型有四种方式：\n",
    "- 十进制：0~9\n",
    "- 二进制：0b0~1\n",
    "- 八进制：0o0~7\n",
    "- 十六进制：0x0~9 + A~F"
   ]
  },
  {
   "cell_type": "code",
   "execution_count": null,
   "metadata": {
    "ExecuteTime": {
     "end_time": "2020-02-10T05:02:59.443183Z",
     "start_time": "2020-02-10T05:02:59.435326Z"
    }
   },
   "outputs": [],
   "source": [
    "#十进制\n",
    "integer = 999\n",
    "print(integer)\n",
    "\n",
    "#二进制\n",
    "integer_0b = 0b1010111\n",
    "print(integer_0b)\n",
    "\n",
    "#八进制\n",
    "integer_0o = 0o7070777\n",
    "print(integer_0o)\n",
    "\n",
    "#十六进制\n",
    "integer_0x = 0xFBD\n",
    "print(integer_0x)"
   ]
  },
  {
   "cell_type": "markdown",
   "metadata": {},
   "source": [
    "#### 浮点型"
   ]
  },
  {
   "cell_type": "markdown",
   "metadata": {},
   "source": [
    "浮点型就是小数类型。"
   ]
  },
  {
   "cell_type": "markdown",
   "metadata": {},
   "source": [
    "声明浮点型有两种方式：\n",
    "- 小数方式：变量 = 3.1415926\n",
    "- 科学计数法：变量 = 3.14e2 #相当于3.14 x 10^2"
   ]
  },
  {
   "cell_type": "code",
   "execution_count": 1,
   "metadata": {
    "ExecuteTime": {
     "end_time": "2020-02-10T05:14:56.821539Z",
     "start_time": "2020-02-10T05:14:56.814810Z"
    }
   },
   "outputs": [
    {
     "name": "stdout",
     "output_type": "stream",
     "text": [
      "<class 'float'>\n",
      "314.0\n"
     ]
    }
   ],
   "source": [
    "floats = 3.14e2\n",
    "print(type(floats))\n",
    "print(floats)"
   ]
  },
  {
   "cell_type": "markdown",
   "metadata": {},
   "source": [
    "#### 布尔类型"
   ]
  },
  {
   "cell_type": "markdown",
   "metadata": {},
   "source": [
    "计算机专用的数据类型，只有两个值：True和False"
   ]
  },
  {
   "cell_type": "markdown",
   "metadata": {},
   "source": [
    "True就是1 False就是0"
   ]
  },
  {
   "cell_type": "code",
   "execution_count": 2,
   "metadata": {
    "ExecuteTime": {
     "end_time": "2020-02-10T05:38:20.235483Z",
     "start_time": "2020-02-10T05:38:20.228911Z"
    }
   },
   "outputs": [
    {
     "name": "stdout",
     "output_type": "stream",
     "text": [
      "True\n",
      "<class 'bool'>\n"
     ]
    }
   ],
   "source": [
    "result = 5 > 3\n",
    "print(result)\n",
    "print(type(result))"
   ]
  },
  {
   "cell_type": "code",
   "execution_count": null,
   "metadata": {
    "ExecuteTime": {
     "end_time": "2020-02-10T05:49:54.579186Z",
     "start_time": "2020-02-10T05:49:54.571467Z"
    }
   },
   "outputs": [],
   "source": [
    "print(7+False)\n",
    "print(7+True)"
   ]
  },
  {
   "cell_type": "markdown",
   "metadata": {},
   "source": [
    "#### 复数"
   ]
  },
  {
   "cell_type": "markdown",
   "metadata": {},
   "source": [
    "复数的完整结构（实数部分+虚数部分）"
   ]
  },
  {
   "cell_type": "markdown",
   "metadata": {},
   "source": [
    "- 实数：现实存在的所有数值都是实数，真实存在的数字\n",
    "- 虚数：不是真实存在的数字（i的平方为-1作为基本单位），不存在的数字\n",
    "    - 数学：i^2 = -1，i就是虚部的基本单位，1i、2i、3i，i虚数单位\n",
    "    - 计算机中：用j来表示i即可，j虚数单位"
   ]
  },
  {
   "cell_type": "markdown",
   "metadata": {},
   "source": [
    "声明复数有两种方式\n",
    "- 表达式方式：变量 = 实数 + 虚数\n",
    "- 特定功能：变量 = complex(实数，虚数值)"
   ]
  },
  {
   "cell_type": "code",
   "execution_count": null,
   "metadata": {
    "ExecuteTime": {
     "end_time": "2020-02-10T06:00:40.369556Z",
     "start_time": "2020-02-10T06:00:40.362918Z"
    }
   },
   "outputs": [],
   "source": [
    "#表达式方式\n",
    "imaginary = 7 + 6j\n",
    "print(imaginary)\n",
    "print(type(imaginary))"
   ]
  },
  {
   "cell_type": "code",
   "execution_count": null,
   "metadata": {
    "ExecuteTime": {
     "end_time": "2020-02-10T06:01:28.701593Z",
     "start_time": "2020-02-10T06:01:28.694976Z"
    }
   },
   "outputs": [],
   "source": [
    "#特定功能\n",
    "imaginary = complex(7, 6)\n",
    "print(imaginary)\n",
    "print(type(imaginary))"
   ]
  },
  {
   "cell_type": "markdown",
   "metadata": {},
   "source": [
    "### String 字符类型"
   ]
  },
  {
   "cell_type": "markdown",
   "metadata": {},
   "source": [
    "字符类型就是文字类型。"
   ]
  },
  {
   "cell_type": "markdown",
   "metadata": {},
   "source": [
    "声明一个字符类型有三种方式：\n",
    "- 单引号：变量 = '内容'\n",
    "- 双引号：变量 = \"内容\"\n",
    "- 三引号：变量 = '''内容'''或者\"\"\"内容\"\"\""
   ]
  },
  {
   "cell_type": "markdown",
   "metadata": {},
   "source": [
    "注意事项：如何识别字符串，就看外层是否有引号。"
   ]
  },
  {
   "cell_type": "code",
   "execution_count": null,
   "metadata": {
    "ExecuteTime": {
     "end_time": "2020-02-10T06:20:53.638628Z",
     "start_time": "2020-02-10T06:20:53.631420Z"
    }
   },
   "outputs": [],
   "source": [
    "string = 'IT搞三年，母猪赛貂蝉！'\n",
    "print(string, type(string))"
   ]
  },
  {
   "cell_type": "code",
   "execution_count": null,
   "metadata": {
    "ExecuteTime": {
     "end_time": "2020-02-10T06:20:54.189878Z",
     "start_time": "2020-02-10T06:20:54.183420Z"
    }
   },
   "outputs": [],
   "source": [
    "string = \"IT搞三年，母猪赛貂蝉！\"\n",
    "print(string, type(string))"
   ]
  },
  {
   "cell_type": "code",
   "execution_count": null,
   "metadata": {
    "ExecuteTime": {
     "end_time": "2020-02-10T06:20:54.699254Z",
     "start_time": "2020-02-10T06:20:54.692824Z"
    }
   },
   "outputs": [],
   "source": [
    "string = '''IT搞三年，母猪赛貂蝉！'''\n",
    "print(string, type(string))"
   ]
  },
  {
   "cell_type": "code",
   "execution_count": null,
   "metadata": {
    "ExecuteTime": {
     "end_time": "2020-02-10T06:27:22.944282Z",
     "start_time": "2020-02-10T06:27:22.937995Z"
    }
   },
   "outputs": [],
   "source": [
    "string = True\n",
    "print(string, type(string))"
   ]
  },
  {
   "cell_type": "code",
   "execution_count": null,
   "metadata": {
    "ExecuteTime": {
     "end_time": "2020-02-10T06:27:47.408305Z",
     "start_time": "2020-02-10T06:27:47.401951Z"
    }
   },
   "outputs": [],
   "source": [
    "string = 'True'\n",
    "print(string, type(string))"
   ]
  },
  {
   "cell_type": "markdown",
   "metadata": {},
   "source": [
    "#### 转义字符"
   ]
  },
  {
   "cell_type": "markdown",
   "metadata": {
    "ExecuteTime": {
     "end_time": "2020-02-10T10:07:46.341863Z",
     "start_time": "2020-02-10T10:07:46.318695Z"
    }
   },
   "source": [
    "通过某种格式使得字符的意义发生改变，这就是转义字符。"
   ]
  },
  {
   "cell_type": "markdown",
   "metadata": {},
   "source": [
    "常见转义字符有以下内容：\n",
    "\n",
    "转义字符|描述\n",
    ":-: | :-: \n",
    "\\|反斜杠符号\n",
    "'|单引号\n",
    "\"|双引号\n",
    "\\a|响铃\n",
    "\\b|退格\n",
    "\\e|转义\n",
    "\\000|空\n",
    "\\n|换行\n",
    "\\v|纵向制表符\n",
    "\\t|横向制表符\n",
    "\\r|回车\n",
    "\\f|换页\n",
    "\\oyy|八进制数，yy代表的字符\n",
    "\\xyy|十六进制数，yy代表的字符\n",
    "\\other|其他的字符以普通格式输出"
   ]
  },
  {
   "cell_type": "code",
   "execution_count": null,
   "metadata": {
    "ExecuteTime": {
     "end_time": "2020-02-10T10:16:50.793020Z",
     "start_time": "2020-02-10T10:16:50.786611Z"
    }
   },
   "outputs": [],
   "source": [
    "#就要在单引号中使用单引号 / 双引号\n",
    "string = '毛主席说：\\'一切不以结婚为目的的恋爱，都是耍流氓。\\''\n",
    "print(string)"
   ]
  },
  {
   "cell_type": "code",
   "execution_count": null,
   "metadata": {
    "ExecuteTime": {
     "end_time": "2020-02-10T10:33:48.301553Z",
     "start_time": "2020-02-10T10:33:48.294589Z"
    }
   },
   "outputs": [],
   "source": [
    "string = '甘蔗男：开始很甜，最后\\n只剩渣的男人。'\n",
    "#print(string)\n",
    "string = '甘蔗男：开始很甜，最后\\r只剩渣的男人。'\n",
    "print(string)"
   ]
  },
  {
   "cell_type": "markdown",
   "metadata": {},
   "source": [
    "#### 元字符"
   ]
  },
  {
   "cell_type": "code",
   "execution_count": null,
   "metadata": {
    "ExecuteTime": {
     "end_time": "2020-02-10T10:41:37.768633Z",
     "start_time": "2020-02-10T10:41:37.761811Z"
    }
   },
   "outputs": [],
   "source": [
    "string = r'甘蔗男：开始很甜，最后\\n只剩渣的男人。'\n",
    "print(string)"
   ]
  },
  {
   "cell_type": "markdown",
   "metadata": {},
   "source": [
    "### List 列表类型"
   ]
  },
  {
   "cell_type": "markdown",
   "metadata": {},
   "source": [
    "列表就是一些数据的顺序组合，并且组合之后可以修改。"
   ]
  },
  {
   "cell_type": "markdown",
   "metadata": {},
   "source": [
    "列表格式：变量 = [值, 值, 值...]"
   ]
  },
  {
   "cell_type": "markdown",
   "metadata": {
    "ExecuteTime": {
     "end_time": "2020-02-10T12:15:18.559176Z",
     "start_time": "2020-02-10T12:15:18.551969Z"
    }
   },
   "source": [
    "列表的标志符号：[]"
   ]
  },
  {
   "cell_type": "code",
   "execution_count": null,
   "metadata": {
    "ExecuteTime": {
     "end_time": "2020-02-10T12:20:53.829090Z",
     "start_time": "2020-02-10T12:20:53.821952Z"
    }
   },
   "outputs": [],
   "source": [
    "#列表\n",
    "listvar = []\n",
    "listvar = ['张哆来', '王咪发', '李索拉']\n",
    "print(listvar, type(listvar))"
   ]
  },
  {
   "cell_type": "code",
   "execution_count": null,
   "metadata": {
    "ExecuteTime": {
     "end_time": "2020-02-10T12:22:26.421305Z",
     "start_time": "2020-02-10T12:22:26.414032Z"
    }
   },
   "outputs": [],
   "source": [
    "#列表\n",
    "listvar = []\n",
    "listvar = ['张哆来', '王咪发', '李索拉']\n",
    "listvar[2] = '李西西'\n",
    "print(listvar, type(listvar))"
   ]
  },
  {
   "cell_type": "markdown",
   "metadata": {},
   "source": [
    "### tuple 元组类型"
   ]
  },
  {
   "cell_type": "markdown",
   "metadata": {},
   "source": [
    "元组就是一些数据的顺序组合，并且组合之后不可修改。"
   ]
  },
  {
   "cell_type": "markdown",
   "metadata": {
    "ExecuteTime": {
     "end_time": "2020-02-10T12:21:07.778553Z",
     "start_time": "2020-02-10T12:21:07.771878Z"
    }
   },
   "source": [
    "元组格式：变量 = (值, 值, 值...)"
   ]
  },
  {
   "cell_type": "markdown",
   "metadata": {},
   "source": [
    "元组的标志符号：()"
   ]
  },
  {
   "cell_type": "code",
   "execution_count": null,
   "metadata": {
    "ExecuteTime": {
     "end_time": "2020-02-10T12:23:30.682514Z",
     "start_time": "2020-02-10T12:23:30.675663Z"
    }
   },
   "outputs": [],
   "source": [
    "#元组\n",
    "tuplevar = []\n",
    "tuplevar = ('张哆来', '王咪发', '李索拉')\n",
    "print(tuplevar, type(tuplevar))"
   ]
  },
  {
   "cell_type": "code",
   "execution_count": null,
   "metadata": {
    "ExecuteTime": {
     "end_time": "2020-02-10T12:25:47.251944Z",
     "start_time": "2020-02-10T12:25:47.239867Z"
    }
   },
   "outputs": [],
   "source": [
    "#元组\n",
    "tuplevar = []\n",
    "tuplevar = ('张哆来', '王咪发', '李索拉')\n",
    "tuplevar[2] = '李西西'\n",
    "#print(tuplevar[2])\n",
    "print(tuplevar, type(tuplevar))"
   ]
  },
  {
   "cell_type": "markdown",
   "metadata": {},
   "source": [
    "### Dict 字典类型"
   ]
  },
  {
   "cell_type": "markdown",
   "metadata": {},
   "source": [
    "字典就是具有键值映射关系的一组无序数据组合，可以修改。"
   ]
  },
  {
   "cell_type": "markdown",
   "metadata": {},
   "source": [
    "字典格式：变量 = {键:值, 键:值, 键:值...}"
   ]
  },
  {
   "cell_type": "markdown",
   "metadata": {},
   "source": [
    "字典的标志符号：{}"
   ]
  },
  {
   "cell_type": "code",
   "execution_count": null,
   "metadata": {
    "ExecuteTime": {
     "end_time": "2020-02-10T12:36:27.584236Z",
     "start_time": "2020-02-10T12:36:27.577072Z"
    }
   },
   "outputs": [],
   "source": [
    "#字典\n",
    "heros = {'呼保义':'宋江', '智多星':'吴用', '黑旋风':'李逵', '九纹龙':'史进'}\n",
    "print(heros, type(heros))"
   ]
  },
  {
   "cell_type": "code",
   "execution_count": null,
   "metadata": {
    "ExecuteTime": {
     "end_time": "2020-02-10T12:37:50.092641Z",
     "start_time": "2020-02-10T12:37:50.085092Z"
    }
   },
   "outputs": [],
   "source": [
    "#字典\n",
    "heros = {'呼保义':'宋江', '智多星':'吴用', '黑旋风':'李逵', '九纹龙':'史进'}\n",
    "print(heros['黑旋风'])\n",
    "print(heros, type(heros))"
   ]
  },
  {
   "cell_type": "markdown",
   "metadata": {},
   "source": [
    "### Set 集合类型"
   ]
  },
  {
   "cell_type": "markdown",
   "metadata": {},
   "source": [
    "一组特定数据的无需组合，所有数据不会重复。"
   ]
  },
  {
   "cell_type": "markdown",
   "metadata": {},
   "source": [
    "集合格式：变量 = {值, 值, 值...}"
   ]
  },
  {
   "cell_type": "markdown",
   "metadata": {},
   "source": [
    "集合的标志符号：无"
   ]
  },
  {
   "cell_type": "code",
   "execution_count": null,
   "metadata": {
    "ExecuteTime": {
     "end_time": "2020-02-10T12:41:26.494318Z",
     "start_time": "2020-02-10T12:41:26.487721Z"
    }
   },
   "outputs": [],
   "source": [
    "#集合\n",
    "setvar = {'香蕉', '茄子', '苦瓜', '榴莲'}\n",
    "print(setvar, type(setvar))"
   ]
  },
  {
   "cell_type": "code",
   "execution_count": null,
   "metadata": {
    "ExecuteTime": {
     "end_time": "2020-02-10T12:42:14.833050Z",
     "start_time": "2020-02-10T12:42:14.825959Z"
    }
   },
   "outputs": [],
   "source": [
    "#集合\n",
    "setvar = {'香蕉', '茄子', '苦瓜', '榴莲', '榴莲'}\n",
    "print(setvar, type(setvar))"
   ]
  },
  {
   "cell_type": "markdown",
   "metadata": {},
   "source": [
    "## 数据类型转换"
   ]
  },
  {
   "cell_type": "markdown",
   "metadata": {},
   "source": [
    "将数据由当前类型变化为其它类型的操作就是数据类型转换。"
   ]
  },
  {
   "cell_type": "markdown",
   "metadata": {},
   "source": [
    "数据类型转换一共分为两类：自动数据类型转换（隐式转换），强制数据类型转换（显示转换）。"
   ]
  },
  {
   "cell_type": "markdown",
   "metadata": {},
   "source": [
    "### 自动数据类型转换/隐式转换"
   ]
  },
  {
   "cell_type": "markdown",
   "metadata": {},
   "source": [
    "自动数据类型转换是程序根据运算要求进行的转换\n",
    "- 自动数据类型转换不需要人工干预\n",
    "- 自动数据类型转换多发生在运算或者判断过程中\n",
    "- 转化时向着更加精确的类型转换"
   ]
  },
  {
   "cell_type": "code",
   "execution_count": 3,
   "metadata": {
    "ExecuteTime": {
     "end_time": "2020-02-10T13:05:22.914077Z",
     "start_time": "2020-02-10T13:05:22.907006Z"
    }
   },
   "outputs": [
    {
     "name": "stdout",
     "output_type": "stream",
     "text": [
      "<class 'float'> <class 'int'> <class 'float'> 3.1109999999999998\n"
     ]
    }
   ],
   "source": [
    "#自动数据类型转换\n",
    "a = 1.111\n",
    "b = 2\n",
    "c = a + b\n",
    "print(type(a), type(b), type(c), c)"
   ]
  },
  {
   "cell_type": "markdown",
   "metadata": {},
   "source": [
    "### 强制数据类型转换/显示转换"
   ]
  },
  {
   "cell_type": "markdown",
   "metadata": {},
   "source": [
    "根据程序需要，由程序员人为改变数据类型的方式就是强制数据类型转换。"
   ]
  },
  {
   "cell_type": "markdown",
   "metadata": {},
   "source": [
    "#### int()将其他类型转化为整型"
   ]
  },
  {
   "cell_type": "markdown",
   "metadata": {},
   "source": [
    "- 数字整形转化后，还是原来的味道。\n",
    "- 浮点类型转化后，舍去小数部分。\n",
    "- 布尔值转化后，True-->1，False-->0\n",
    "- 字符串转化，仅纯整型字符串可以转化（浮点型或者带有其他字符都不可以转化）\n",
    "- 复数不可以转化"
   ]
  },
  {
   "cell_type": "code",
   "execution_count": null,
   "metadata": {
    "ExecuteTime": {
     "end_time": "2020-02-10T13:09:50.514022Z",
     "start_time": "2020-02-10T13:09:50.507008Z"
    }
   },
   "outputs": [],
   "source": [
    "var = '998'\n",
    "newvar = int(var)\n",
    "print(newvar)"
   ]
  },
  {
   "cell_type": "code",
   "execution_count": null,
   "metadata": {
    "ExecuteTime": {
     "end_time": "2020-02-10T13:10:12.021451Z",
     "start_time": "2020-02-10T13:10:12.009549Z"
    }
   },
   "outputs": [],
   "source": [
    "var = '白裤裆寒冬一击'\n",
    "newvar = int(var)\n",
    "print(newvar)"
   ]
  },
  {
   "cell_type": "markdown",
   "metadata": {
    "heading_collapsed": true
   },
   "source": [
    "#### float()将其他类型转化为浮点型"
   ]
  },
  {
   "cell_type": "markdown",
   "metadata": {
    "hidden": true
   },
   "source": [
    "- 整型转化后，可变为浮点型后 +.0\n",
    "- 浮点数不需要转化，转化也不会变化\n",
    "- 布尔值转化后，True-->1.0，False-->0.0\n",
    "- 字符串，纯整型字符串和纯浮点型字符串可以转化，其他都不行"
   ]
  },
  {
   "cell_type": "markdown",
   "metadata": {
    "heading_collapsed": true
   },
   "source": [
    "#### complex()将其他类型转化为复数"
   ]
  },
  {
   "cell_type": "markdown",
   "metadata": {
    "hidden": true
   },
   "source": [
    "- 整形转化后，整型+0j\n",
    "- 浮点型转化后，浮点型+0j\n",
    "- 布尔型转化后，True-->(1+0j)，False-->(0+0j)\n",
    "- 字符串，纯整型字符串和纯浮点型字符串可以转化，其他都不行\n",
    "- 复数，无需转化"
   ]
  },
  {
   "cell_type": "markdown",
   "metadata": {
    "heading_collapsed": true
   },
   "source": [
    "#### bool()将其他类型转化为布尔型"
   ]
  },
  {
   "cell_type": "markdown",
   "metadata": {
    "hidden": true
   },
   "source": [
    "转化为布尔值为false的情况：\n",
    "- 整型：0\n",
    "- 浮点型：0.0\n",
    "- 复数：0+0j\n",
    "- 布尔：False\n",
    "- 字符串：''空字符串\n",
    "- 列表：[]空列表\n",
    "- 元组：()空元组\n",
    "- 字典：{}空字典\n",
    "- 集合：set()空集合"
   ]
  },
  {
   "cell_type": "markdown",
   "metadata": {},
   "source": [
    "#### str()将其他类型转化为字符串"
   ]
  },
  {
   "cell_type": "markdown",
   "metadata": {},
   "source": [
    "所有转换均改变类型为字符串，表示方式依旧不变。"
   ]
  },
  {
   "cell_type": "markdown",
   "metadata": {
    "ExecuteTime": {
     "end_time": "2020-02-10T14:08:48.813516Z",
     "start_time": "2020-02-10T14:08:48.806757Z"
    }
   },
   "source": [
    "#### list()将其他类型转化为列表类型"
   ]
  },
  {
   "cell_type": "markdown",
   "metadata": {},
   "source": [
    "在Python中有五种可迭代序列，可以互相转换"
   ]
  },
  {
   "cell_type": "markdown",
   "metadata": {},
   "source": [
    "字符串、列表、元组、字典、集合"
   ]
  },
  {
   "cell_type": "markdown",
   "metadata": {},
   "source": [
    "注意：\n",
    "- 字符串转化时，每个字符变成列表中的一个值\n",
    "- 字典类型转化时，仅将字典的键部分转化为列表，忽略值部分"
   ]
  },
  {
   "cell_type": "markdown",
   "metadata": {},
   "source": [
    "#### tuple()将其他类型转化为元组类型"
   ]
  },
  {
   "cell_type": "markdown",
   "metadata": {},
   "source": [
    "注意：\n",
    "- 字符串转化时，每个字符变成元组中的一个值\n",
    "- 字典类型转化时，仅将字典的键部分转化为元组，忽略值部分"
   ]
  },
  {
   "cell_type": "markdown",
   "metadata": {},
   "source": [
    "#### set()将其他类型转化为集合类型"
   ]
  },
  {
   "cell_type": "markdown",
   "metadata": {},
   "source": [
    "注意：\n",
    "- 字符串转化时，每个字符变成集合中的一个值\n",
    "- 字典类型转化时，仅将字典的键部分转化为集合，忽略值部分"
   ]
  },
  {
   "cell_type": "markdown",
   "metadata": {},
   "source": [
    "#### dict()将其他类型转化为字典类型"
   ]
  },
  {
   "cell_type": "markdown",
   "metadata": {},
   "source": [
    "将其他类型转化为字典类型时需按照指定的格式才可以转化：（列表和元组的组合可以）"
   ]
  },
  {
   "cell_type": "code",
   "execution_count": null,
   "metadata": {
    "ExecuteTime": {
     "end_time": "2020-02-10T14:20:29.326028Z",
     "start_time": "2020-02-10T14:20:29.318418Z"
    }
   },
   "outputs": [],
   "source": [
    "var = [[1,'xixi'], [2,'haha'], [3,'wawa']]\n",
    "new_var = dict(var)\n",
    "print(var, type(var))\n",
    "print(new_var, type(new_var))"
   ]
  },
  {
   "cell_type": "code",
   "execution_count": null,
   "metadata": {
    "ExecuteTime": {
     "end_time": "2020-02-10T14:20:59.513668Z",
     "start_time": "2020-02-10T14:20:59.506678Z"
    }
   },
   "outputs": [],
   "source": [
    "var = ((1,'xixi'), [2,'haha'], [3,'wawa'])\n",
    "new_var = dict(var)\n",
    "print(var, type(var))\n",
    "print(new_var, type(new_var))"
   ]
  }
 ],
 "metadata": {
  "kernelspec": {
   "display_name": "Python 3",
   "language": "python",
   "name": "python3"
  },
  "language_info": {
   "codemirror_mode": {
    "name": "ipython",
    "version": 3
   },
   "file_extension": ".py",
   "mimetype": "text/x-python",
   "name": "python",
   "nbconvert_exporter": "python",
   "pygments_lexer": "ipython3",
   "version": "3.7.4"
  },
  "toc": {
   "base_numbering": 1,
   "nav_menu": {},
   "number_sections": true,
   "sideBar": true,
   "skip_h1_title": false,
   "title_cell": "Table of Contents",
   "title_sidebar": "Contents",
   "toc_cell": false,
   "toc_position": {
    "height": "calc(100% - 180px)",
    "left": "10px",
    "top": "150px",
    "width": "165px"
   },
   "toc_section_display": true,
   "toc_window_display": true
  },
  "varInspector": {
   "cols": {
    "lenName": 16,
    "lenType": 16,
    "lenVar": 40
   },
   "kernels_config": {
    "python": {
     "delete_cmd_postfix": "",
     "delete_cmd_prefix": "del ",
     "library": "var_list.py",
     "varRefreshCmd": "print(var_dic_list())"
    },
    "r": {
     "delete_cmd_postfix": ") ",
     "delete_cmd_prefix": "rm(",
     "library": "var_list.r",
     "varRefreshCmd": "cat(var_dic_list()) "
    }
   },
   "types_to_exclude": [
    "module",
    "function",
    "builtin_function_or_method",
    "instance",
    "_Feature"
   ],
   "window_display": false
  }
 },
 "nbformat": 4,
 "nbformat_minor": 2
}

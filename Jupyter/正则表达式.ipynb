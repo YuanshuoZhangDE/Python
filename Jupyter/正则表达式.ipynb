{
 "cells": [
  {
   "cell_type": "markdown",
   "metadata": {},
   "source": [
    "### 常见匹配模式"
   ]
  },
  {
   "cell_type": "markdown",
   "metadata": {},
   "source": [
    "字符  |  功能\n",
    ":-:|:-:\n",
    "单字符匹配规则\n",
    ".    |   匹配任意1个字符(除了\\n)\n",
    "[]    |  匹配[]中列举的字符\n",
    "\\d    |  匹配数字,也就是0-9\n",
    "\\D    |  匹配非数字,也就是匹配不是数字的字符\n",
    "\\s    |  匹配空白符,也就是 空格\\tab\n",
    "\\S   |   匹配非空白符,\\s取反\n",
    "\\w    |  陪陪单词字符, a-z, A-Z, 0-9, _\n",
    "\\W    |  匹配非单词字符, \\w取反\n",
    "表示数量规则\n",
    "*   |    匹配前一个字符出现0次多次或者无限次,可有可无,可多可少\n",
    "+    |   匹配前一个字符出现1次多次或则无限次,直到出现一次\n",
    "?    |   匹配前一个字符出现1次或者0次,要么有1次,要么没有\n",
    "{m}  |  匹配前一个字符出现m次\n",
    "{m,}  |  匹配前一个字符至少出现m次\n",
    "{m,n}  |  匹配前一个字符出现m到n次\n",
    "表示边界\n",
    "^    |   匹配字符串开头\n",
    "$    |   匹配字符串结尾\n",
    "\\b    |  匹配一个单词的边界\n",
    "\\B    |  匹配非单词边界\n",
    "匹配分组\n",
    "\\|     |      匹配左右任意一个表达式\n",
    "(ab)   |     将括号中字符作为一个分组\n",
    "\\num    |    引用分组num匹配到的字符串\n",
    "(?P<name>)|  分组起别名\n",
    "(?P=name)  | 引用别名为name分组匹配到的字符串"
   ]
  },
  {
   "cell_type": "markdown",
   "metadata": {},
   "source": [
    "## re.match\n",
    "re.match尝试从字符串的起始位置匹配一个模式，如果匹配不成功的话，match()就会返回none"
   ]
  },
  {
   "cell_type": "markdown",
   "metadata": {},
   "source": [
    "### 最常规的匹配"
   ]
  },
  {
   "cell_type": "code",
   "execution_count": 1,
   "metadata": {},
   "outputs": [
    {
     "name": "stdout",
     "output_type": "stream",
     "text": [
      "41\n",
      "<re.Match object; span=(0, 41), match='Hello 123 4567 World_This is a Regex Demo'>\n",
      "Hello 123 4567 World_This is a Regex Demo\n",
      "(0, 41)\n"
     ]
    }
   ],
   "source": [
    "import re\n",
    "\n",
    "content = 'Hello 123 4567 World_This is a Regex Demo'\n",
    "print(len(content))\n",
    "result = re.match('^Hello\\s\\d\\d\\d\\s\\d{4}\\s\\w{10}.*Demo$', content)\n",
    "print(result)\n",
    "print(result.group())\n",
    "print(result.span())"
   ]
  },
  {
   "cell_type": "markdown",
   "metadata": {},
   "source": [
    "### 泛匹配"
   ]
  },
  {
   "cell_type": "code",
   "execution_count": 2,
   "metadata": {},
   "outputs": [
    {
     "name": "stdout",
     "output_type": "stream",
     "text": [
      "41\n",
      "<re.Match object; span=(0, 41), match='Hello 123 4567 World_This is a Regex Demo'>\n",
      "Hello 123 4567 World_This is a Regex Demo\n",
      "(0, 41)\n"
     ]
    }
   ],
   "source": [
    "import re\n",
    "\n",
    "content = 'Hello 123 4567 World_This is a Regex Demo'\n",
    "print(len(content))\n",
    "result = re.match('^Hello.*Demo$', content)\n",
    "print(result)\n",
    "print(result.group())\n",
    "print(result.span())"
   ]
  },
  {
   "cell_type": "markdown",
   "metadata": {},
   "source": [
    "### 匹配目标"
   ]
  },
  {
   "cell_type": "code",
   "execution_count": 3,
   "metadata": {},
   "outputs": [
    {
     "name": "stdout",
     "output_type": "stream",
     "text": [
      "<re.Match object; span=(0, 40), match='Hello 1234567 World_This is a Regex Demo'>\n",
      "Hello\n",
      "(0, 40)\n"
     ]
    }
   ],
   "source": [
    "import re\n",
    "\n",
    "content = 'Hello 1234567 World_This is a Regex Demo'\n",
    "result = re.match('^(\\w+)\\s.*Demo$', content)\n",
    "print(result)\n",
    "print(result.group(1))\n",
    "print(result.span())"
   ]
  },
  {
   "cell_type": "markdown",
   "metadata": {},
   "source": [
    "### 贪婪匹配"
   ]
  },
  {
   "cell_type": "code",
   "execution_count": 4,
   "metadata": {},
   "outputs": [
    {
     "name": "stdout",
     "output_type": "stream",
     "text": [
      "<re.Match object; span=(0, 40), match='Hello 1234567 World_This is a Regex Demo'>\n",
      "7\n"
     ]
    }
   ],
   "source": [
    "import re\n",
    "\n",
    "content = 'Hello 1234567 World_This is a Regex Demo'\n",
    "result = re.match('^He.*(\\d+).*mo$', content)\n",
    "print(result)\n",
    "print(result.group(1))"
   ]
  },
  {
   "cell_type": "markdown",
   "metadata": {},
   "source": [
    "### 非贪婪匹配"
   ]
  },
  {
   "cell_type": "code",
   "execution_count": 5,
   "metadata": {},
   "outputs": [
    {
     "name": "stdout",
     "output_type": "stream",
     "text": [
      "<re.Match object; span=(0, 40), match='Hello 1234567 World_This is a Regex Demo'>\n",
      "1234567\n"
     ]
    }
   ],
   "source": [
    "import re\n",
    "\n",
    "content = 'Hello 1234567 World_This is a Regex Demo'\n",
    "result = re.match('^He.*?(\\d+).*mo$', content)\n",
    "print(result)\n",
    "print(result.group(1))"
   ]
  },
  {
   "cell_type": "markdown",
   "metadata": {},
   "source": [
    "### 匹配模式"
   ]
  },
  {
   "cell_type": "code",
   "execution_count": 6,
   "metadata": {},
   "outputs": [
    {
     "name": "stdout",
     "output_type": "stream",
     "text": [
      "None\n"
     ]
    }
   ],
   "source": [
    "import re\n",
    "\n",
    "content = '''Hello 1234567 World_This \n",
    "is a Regex Demo\n",
    "'''\n",
    "result = re.match('^H.*?(\\d+).*mo$', content)\n",
    "print(result)"
   ]
  },
  {
   "cell_type": "code",
   "execution_count": 7,
   "metadata": {},
   "outputs": [
    {
     "name": "stdout",
     "output_type": "stream",
     "text": [
      "<re.Match object; span=(0, 41), match='Hello 1234567 World_This \\nis a Regex Demo'>\n",
      "1234567\n"
     ]
    }
   ],
   "source": [
    "import re\n",
    "\n",
    "content = '''Hello 1234567 World_This \n",
    "is a Regex Demo\n",
    "'''\n",
    "result = re.match('^H.*?(\\d+).*mo$', content, re.S)\n",
    "print(result)\n",
    "print(result.group(1))"
   ]
  },
  {
   "cell_type": "markdown",
   "metadata": {},
   "source": [
    "### 转义"
   ]
  },
  {
   "cell_type": "code",
   "execution_count": 8,
   "metadata": {},
   "outputs": [
    {
     "name": "stdout",
     "output_type": "stream",
     "text": [
      "None\n"
     ]
    }
   ],
   "source": [
    "import re\n",
    "\n",
    "content = 'price is $5.00'\n",
    "result = re.match('price is $5.00', content)\n",
    "print(result)"
   ]
  },
  {
   "cell_type": "code",
   "execution_count": 9,
   "metadata": {},
   "outputs": [
    {
     "name": "stdout",
     "output_type": "stream",
     "text": [
      "<re.Match object; span=(0, 14), match='price is $5.00'>\n"
     ]
    }
   ],
   "source": [
    "import re\n",
    "\n",
    "content = 'price is $5.00'\n",
    "result = re.match('price is \\$5\\.00', content)\n",
    "print(result)"
   ]
  },
  {
   "cell_type": "markdown",
   "metadata": {},
   "source": [
    "总结：尽量使用泛匹配，使用括号得到匹配目标，尽量使用非贪婪模式，有换行符就用re.S"
   ]
  },
  {
   "cell_type": "markdown",
   "metadata": {},
   "source": [
    "## re.search"
   ]
  },
  {
   "cell_type": "markdown",
   "metadata": {},
   "source": [
    "re.search扫描整个字符串并返回第一个成功的匹配"
   ]
  },
  {
   "cell_type": "code",
   "execution_count": 10,
   "metadata": {},
   "outputs": [
    {
     "name": "stdout",
     "output_type": "stream",
     "text": [
      "None\n"
     ]
    }
   ],
   "source": [
    "import re\n",
    "\n",
    "content = 'Extra stings Hello 1234567 World_This is a Regex Demo Extra stings'\n",
    "result = re.match('Hello.*?(\\d+).*?Demo', content)\n",
    "print(result)"
   ]
  },
  {
   "cell_type": "code",
   "execution_count": 11,
   "metadata": {},
   "outputs": [
    {
     "name": "stdout",
     "output_type": "stream",
     "text": [
      "<re.Match object; span=(13, 53), match='Hello 1234567 World_This is a Regex Demo'>\n",
      "1234567\n"
     ]
    }
   ],
   "source": [
    "import re\n",
    "\n",
    "content = 'Extra stings Hello 1234567 World_This is a Regex Demo Extra stings'\n",
    "result = re.search('Hello.*?(\\d+).*?Demo', content)\n",
    "print(result)\n",
    "print(result.group(1))"
   ]
  },
  {
   "cell_type": "markdown",
   "metadata": {},
   "source": [
    "总结：为匹配方便，能用search就不用match"
   ]
  },
  {
   "cell_type": "markdown",
   "metadata": {},
   "source": [
    "### re.findall"
   ]
  },
  {
   "cell_type": "markdown",
   "metadata": {},
   "source": [
    "搜索字符串，以列表形式返回全部能匹配的子串"
   ]
  },
  {
   "cell_type": "code",
   "execution_count": 12,
   "metadata": {},
   "outputs": [
    {
     "name": "stdout",
     "output_type": "stream",
     "text": [
      "[('/song?id=145586', '拯救 - (电视剧《拿什么拯救你，我的爱人》片尾曲)', '孙楠'), ('/artist?id=4941', '神话情话&nbsp;(粤) - (1995年TVB版电视剧《神雕侠侣》主题曲)', '周华健/齐豫'), ('/artist?id=6456', '月半小夜曲', '李克勤'), ('/artist?id=3699', '唉声叹气', '郑秀文'), ('/artist?id=10571', '冷雨夜', 'Beyond'), ('/artist?id=11127', '你的眼神', '卫兰'), ('/artist?id=9605', '护花使者', '李克勤'), ('/artist?id=3699', '大约在冬季', '齐秦'), ('/artist?id=4813', '最熟悉的陌生人', '萧亚轩'), ('/artist?id=9945', '新不了情', '萧敬腾'), ('/artist?id=5768', '如果这都不算爱', '张学友'), ('/artist?id=6460', '梦一场', '萧敬腾'), ('/artist?id=5768', '漂洋过海来看你', '周深'), ('/artist?id=1030001', '傻女', '陈慧娴'), ('/artist?id=7225', '不再犹豫', 'Beyond'), ('/artist?id=11127', '失恋阵线联盟', '草蜢'), ('/artist?id=11265', '雨一直下 - (台视《情深到来生》片头主题曲)', '张宇'), ('/artist?id=6469', '天若有情 - (电影《天若有情》插曲)', '袁凤瑛'), ('/artist?id=10245', '忽然之间', '莫文蔚'), ('/artist?id=8926', '那就这样吧', '动力火车')]\n",
      "<class 'list'>\n",
      "/song?id=145586 拯救 - (电视剧《拿什么拯救你，我的爱人》片尾曲) 孙楠\n",
      "/artist?id=4941 神话情话&nbsp;(粤) - (1995年TVB版电视剧《神雕侠侣》主题曲) 周华健/齐豫\n",
      "/artist?id=6456 月半小夜曲 李克勤\n",
      "/artist?id=3699 唉声叹气 郑秀文\n",
      "/artist?id=10571 冷雨夜 Beyond\n",
      "/artist?id=11127 你的眼神 卫兰\n",
      "/artist?id=9605 护花使者 李克勤\n",
      "/artist?id=3699 大约在冬季 齐秦\n",
      "/artist?id=4813 最熟悉的陌生人 萧亚轩\n",
      "/artist?id=9945 新不了情 萧敬腾\n",
      "/artist?id=5768 如果这都不算爱 张学友\n",
      "/artist?id=6460 梦一场 萧敬腾\n",
      "/artist?id=5768 漂洋过海来看你 周深\n",
      "/artist?id=1030001 傻女 陈慧娴\n",
      "/artist?id=7225 不再犹豫 Beyond\n",
      "/artist?id=11127 失恋阵线联盟 草蜢\n",
      "/artist?id=11265 雨一直下 - (台视《情深到来生》片头主题曲) 张宇\n",
      "/artist?id=6469 天若有情 - (电影《天若有情》插曲) 袁凤瑛\n",
      "/artist?id=10245 忽然之间 莫文蔚\n",
      "/artist?id=8926 那就这样吧 动力火车\n"
     ]
    }
   ],
   "source": [
    "import re\n",
    "\n",
    "content = '''<tbody>\n",
    "<tr id=\"1455861580141327524\" class=\"even \"><td class=\"left\"><div class=\"hd \"><span data-res-id=\"145586\" data-res-type=\"18\" data-res-action=\"play\" data-res-from=\"13\" data-res-data=\"2945028696\" class=\"ply \">&nbsp;</span><span class=\"num\">1</span></div></td><td class=\"\"><div class=\"f-cb\"><div class=\"tt\"><div class=\"ttc\"><span class=\"txt\">\n",
    "<a href=\"/song?id=145586\"><b title=\"拯救 - (电视剧《拿什么拯救你，我的爱人》片尾曲)\">拯<div class=\"soil\">义克持</div>救</b></a><span title=\"电视剧《拿什么拯救你，我的爱人》片尾曲\" class=\"s-fc8\"> - (电视剧《拿什么拯救你，我<div class=\"soil\">务事</div>的爱人》片尾曲)</span><span data-res-id=\"145586\" data-res-action=\"mv\" title=\"播放mv\" class=\"mv\">MV</span></span></div></div></div></td><td class=\" s-fc3\"><span class=\"u-dur \">05:32</span><div class=\"opt hshow\"><a class=\"u-icn u-icn-81 icn-add\" href=\"javascript:;\" title=\"添加到播放列表\" hidefocus=\"true\" data-res-type=\"18\" data-res-id=\"145586\" data-res-action=\"addto\" data-res-from=\"13\" data-res-data=\"2945028696\"></a><span data-res-id=\"145586\" data-res-type=\"18\" data-res-action=\"fav\" class=\"icn icn-fav\" title=\"收藏\"></span><span data-res-id=\"145586\" data-res-type=\"18\" data-res-action=\"share\" data-res-name=\"拯救\" data-res-author=\"孙楠\" data-res-pic=\"http://p2.music.126.net/IBCYtNlA1-vVpe3mj9F-Jw==/130841883718470.jpg\" class=\"icn icn-share\" title=\"分享\">分享</span><span data-res-id=\"145586\" data-res-type=\"18\" data-res-action=\"download\" class=\"icn icn-dl\" title=\"下载\"></span></div></td><td class=\"\"><div class=\"text\" title=\"孙楠\"><span title=\"孙楠\"><a class=\"\" href=\"/artist?id=4941\" hidefocus=\"true\">孙<div class=\"soil\">鹙芺醢</div>楠</a></span></div></td><td class=\"\"><div class=\"text\"><a href=\"/album?id=14574\" title=\"缘份的天空\">缘份的<div class=\"soil\">得对府状</div>天空</a></div></td></tr><tr id=\"5559844131580141327524\" class=\" \"><td class=\"left\"><div class=\"hd \"><span data-res-id=\"555984413\" data-res-type=\"18\" data-res-action=\"play\" data-res-from=\"13\" data-res-data=\"2945028696\" class=\"ply \">&nbsp;</span><span class=\"num\">2</span></div></td><td class=\"\"><div class=\"f-cb\"><div class=\"tt\"><div class=\"ttc\"><span class=\"txt\"><a href=\"/song?id=555984413\"><b title=\"神话情话&nbsp;(粤) - (1995年TVB版电视剧《神雕侠侣》主题曲)\">神话情话&nbsp;(<div class=\"soil\">审韷梜獾</div>粤)</b></a><span title=\"1995年TVB版电视剧《神雕侠侣》主题曲\" class=\"s-fc8\"> - (1995<div class=\"soil\">议进被查</div>年TVB版电视剧《神雕侠侣》主题曲)</span></span></div></div></div></td><td class=\" s-fc3\"><span class=\"u-dur \">04:26</span><div class=\"opt hshow\"><a class=\"u-icn u-icn-81 icn-add\" href=\"javascript:;\" title=\"添加到播放列表\" hidefocus=\"true\" data-res-type=\"18\" data-res-id=\"555984413\" data-res-action=\"addto\" data-res-from=\"13\" data-res-data=\"2945028696\"></a><span data-res-id=\"555984413\" data-res-type=\"18\" data-res-action=\"fav\" class=\"icn icn-fav\" title=\"收藏\"></span><span data-res-id=\"555984413\" data-res-type=\"18\" data-res-action=\"share\" data-res-name=\"神话情话 (粤)\" data-res-author=\"周华健/齐豫\" data-res-pic=\"http://p1.music.126.net/Y1IIadn7rjGrZA5IAKLtBA==/109951163270175127.jpg\" class=\"icn icn-share\" title=\"分享\">分享</span><span data-res-id=\"555984413\" data-res-type=\"18\" data-res-action=\"download\" class=\"icn icn-dl\" title=\"下载\"></span></div></td><td class=\"\"><div class=\"text\" title=\"周华健/齐豫\"><span title=\"周华健/齐豫\"><a class=\"\" href=\"/artist?id=6456\" hidefocus=\"true\">周<div class=\"soil\">箟秝旝</div>华健</a>/<a class=\"\" href=\"/artist?id=9167\" hidefocus=\"true\">齐<div class=\"soil\">嘘剛诰</div>豫</a></span></div></td><td class=\"\"><div class=\"text\"><a href=\"/album?id=38512301\" title=\"两岸三地电视剧主题曲大比拼\">两岸三<div class=\"soil\">向山即而速</div>地电视剧主题曲大比拼</a></div></td></tr><tr id=\"1151621580141327524\" class=\"even \"><td class=\"left\"><div class=\"hd \"><span data-res-id=\"115162\" data-res-type=\"18\" data-res-action=\"play\" data-res-from=\"13\" data-res-data=\"2945028696\" class=\"ply \">&nbsp;</span><span class=\"num\">3</span></div></td><td class=\"\"><div class=\"f-cb\"><div class=\"tt\"><div class=\"ttc\"><span class=\"txt\"><a href=\"/song?id=115162\"><b title=\"月半小夜曲\">月半小<div class=\"soil\">禛勂</div>夜曲</b></a><span data-res-id=\"115162\" data-res-action=\"mv\" title=\"播放mv\" class=\"mv\">MV</span></span></div></div></div></td><td class=\" s-fc3\"><span class=\"u-dur \">04:51</span><div class=\"opt hshow\"><a class=\"u-icn u-icn-81 icn-add\" href=\"javascript:;\" title=\"添加到播放列表\" hidefocus=\"true\" data-res-type=\"18\" data-res-id=\"115162\" data-res-action=\"addto\" data-res-from=\"13\" data-res-data=\"2945028696\"></a><span data-res-id=\"115162\" data-res-type=\"18\" data-res-action=\"fav\" class=\"icn icn-fav\" title=\"收藏\"></span><span data-res-id=\"115162\" data-res-type=\"18\" data-res-action=\"share\" data-res-name=\"月半小夜曲\" data-res-author=\"李克勤\" data-res-pic=\"http://p1.music.126.net/bYTctrjUegSyzDPteIeNOw==/74766790705099.jpg\" class=\"icn icn-share\" title=\"分享\">分享</span><span data-res-id=\"115162\" data-res-type=\"18\" data-res-action=\"download\" class=\"icn icn-dl\" title=\"下载\"></span></div></td><td class=\"\"><div class=\"text\" title=\"李克勤\"><span title=\"李克勤\"><a class=\"\" href=\"/artist?id=3699\" hidefocus=\"true\">李<div class=\"soil\">战但术过情</div>克勤</a></span></div></td><td class=\"\"><div class=\"text\"><a href=\"/album?id=11279\" title=\"经典金曲\">经典<div class=\"soil\">警餂閗綩</div>金曲</a></div></td></tr><tr id=\"3281531580141327524\" class=\" \"><td class=\"left\"><div class=\"hd \"><span data-res-id=\"328153\" data-res-type=\"18\" data-res-action=\"play\" data-res-from=\"13\" data-res-data=\"2945028696\" class=\"ply \">&nbsp;</span><span class=\"num\">4</span></div></td><td class=\"\"><div class=\"f-cb\"><div class=\"tt\"><div class=\"ttc\"><span class=\"txt\"><a href=\"/song?id=328153\"><b title=\"唉声叹气\">唉<div class=\"soil\">住系完建群</div>声叹气</b></a></span></div></div></div></td><td class=\" s-fc3\"><span class=\"u-dur \">04:24</span><div class=\"opt hshow\"><a class=\"u-icn u-icn-81 icn-add\" href=\"javascript:;\" title=\"添加到播放列表\" hidefocus=\"true\" data-res-type=\"18\" data-res-id=\"328153\" data-res-action=\"addto\" data-res-from=\"13\" data-res-data=\"2945028696\"></a><span data-res-id=\"328153\" data-res-type=\"18\" data-res-action=\"fav\" class=\"icn icn-fav\" title=\"收藏\"></span><span data-res-id=\"328153\" data-res-type=\"18\" data-res-action=\"share\" data-res-name=\"唉声叹气\" data-res-author=\"郑秀文\" data-res-pic=\"http://p1.music.126.net/ikxvS5dg_GpBt1Rp20DE9w==/109951163449996065.jpg\" class=\"icn icn-share\" title=\"分享\">分享</span><span data-res-id=\"328153\" data-res-type=\"18\" data-res-action=\"download\" class=\"icn icn-dl\" title=\"下载\"></span></div></td><td class=\"\"><div class=\"text\" title=\"郑秀文\"><span title=\"郑秀文\"><a class=\"\" href=\"/artist?id=10571\" hidefocus=\"true\">郑<div class=\"soil\">潃</div>秀文</a></span></div></td><td class=\"\"><div class=\"text\"><a href=\"/album?id=32461\" title=\"Sammi&nbsp;Ultimate&nbsp;Collection\">Sammi&nbsp;Ultimate&nbsp;C<div class=\"soil\">1K</div>ollection</a></div></td></tr><tr id=\"3460691580141327524\" class=\"even \"><td class=\"left\"><div class=\"hd \"><span data-res-id=\"346069\" data-res-type=\"18\" data-res-action=\"play\" data-res-from=\"13\" data-res-data=\"2945028696\" class=\"ply \">&nbsp;</span><span class=\"num\">5</span></div></td><td class=\"\"><div class=\"f-cb\"><div class=\"tt\"><div class=\"ttc\"><span class=\"txt\"><a href=\"/song?id=346069\"><b title=\"冷雨夜\">冷<div class=\"soil\">碾羺</div>雨夜</b></a></span></div></div></div></td><td class=\" s-fc3\"><span class=\"u-dur \">04:21</span><div class=\"opt hshow\"><a class=\"u-icn u-icn-81 icn-add\" href=\"javascript:;\" title=\"添加到播放列表\" hidefocus=\"true\" data-res-type=\"18\" data-res-id=\"346069\" data-res-action=\"addto\" data-res-from=\"13\" data-res-data=\"2945028696\"></a><span data-res-id=\"346069\" data-res-type=\"18\" data-res-action=\"fav\" class=\"icn icn-fav\" title=\"收藏\"></span><span data-res-id=\"346069\" data-res-type=\"18\" data-res-action=\"share\" data-res-name=\"冷雨夜\" data-res-author=\"Beyond\" data-res-pic=\"http://p2.music.126.net/ghmbmEQS-IJfZPjdA3KGxg==/82463372084291.jpg\" class=\"icn icn-share\" title=\"分享\">分享</span><span data-res-id=\"346069\" data-res-type=\"18\" data-res-action=\"download\" class=\"icn icn-dl\" title=\"下载\"></span></div></td><td class=\"\"><div class=\"text\" title=\"Beyond\"><span title=\"Beyond\"><a class=\"\" href=\"/artist?id=11127\" hidefocus=\"true\">Be<div class=\"soil\">zF</div>yond</a></span></div></td><td class=\"\"><div class=\"text\"><a href=\"/album?id=34110\" title=\"25周年精选\">25<div class=\"soil\">日用志几</div>周年精选</a></div></td></tr><tr id=\"275912181580141327524\" class=\" \"><td class=\"left\"><div class=\"hd \"><span data-res-id=\"27591218\" data-res-type=\"18\" data-res-action=\"play\" data-res-from=\"13\" data-res-data=\"2945028696\" class=\"ply \">&nbsp;</span><span class=\"num\">6</span></div></td><td class=\"\"><div class=\"f-cb\"><div class=\"tt\"><div class=\"ttc\"><span class=\"txt\"><a href=\"/song?id=27591218\"><b title=\"你的眼神\">你的<div class=\"soil\">也要对及问</div>眼神</b></a></span></div></div></div></td><td class=\" s-fc3\"><span class=\"u-dur \">03:20</span><div class=\"opt hshow\"><a class=\"u-icn u-icn-81 icn-add\" href=\"javascript:;\" title=\"添加到播放列表\" hidefocus=\"true\" data-res-type=\"18\" data-res-id=\"27591218\" data-res-action=\"addto\" data-res-from=\"13\" data-res-data=\"2945028696\"></a><span data-res-id=\"27591218\" data-res-type=\"18\" data-res-action=\"fav\" class=\"icn icn-fav\" title=\"收藏\"></span><span data-res-id=\"27591218\" data-res-type=\"18\" data-res-action=\"share\" data-res-name=\"你的眼神\" data-res-author=\"卫兰\" data-res-pic=\"http://p1.music.126.net/cb9eURnGO_VHFsrLRyFVRw==/5705365836603818.jpg\" class=\"icn icn-share\" title=\"分享\">分享</span><span data-res-id=\"27591218\" data-res-type=\"18\" data-res-action=\"download\" class=\"icn icn-dl\" title=\"下载\"></span></div></td><td class=\"\"><div class=\"text\" title=\"卫兰\"><span title=\"卫兰\"><a class=\"\" href=\"/artist?id=9605\" hidefocus=\"true\">卫<div class=\"soil\">满习指解</div>兰</a></span></div></td><td class=\"\"><div class=\"text\"><a href=\"/album?id=2643122\" title=\"Wish\">W<div class=\"soil\">ks</div>ish</a></div></td></tr><tr id=\"1155691580141327524\" class=\"even \"><td class=\"left\"><div class=\"hd \"><span data-res-id=\"115569\" data-res-type=\"18\" data-res-action=\"play\" data-res-from=\"13\" data-res-data=\"2945028696\" class=\"ply \">&nbsp;</span><span class=\"num\">7</span></div></td><td class=\"\"><div class=\"f-cb\"><div class=\"tt\"><div class=\"ttc\"><span class=\"txt\"><a href=\"/song?id=115569\"><b title=\"护花使者\">护<div class=\"soil\">縀蚫麭</div>花使者</b></a><span data-res-id=\"115569\" data-res-action=\"mv\" title=\"播放mv\" class=\"mv\">MV</span></span></div></div></div></td><td class=\" s-fc3\"><span class=\"u-dur \">03:16</span><div class=\"opt hshow\"><a class=\"u-icn u-icn-81 icn-add\" href=\"javascript:;\" title=\"添加到播放列表\" hidefocus=\"true\" data-res-type=\"18\" data-res-id=\"115569\" data-res-action=\"addto\" data-res-from=\"13\" data-res-data=\"2945028696\"></a><span data-res-id=\"115569\" data-res-type=\"18\" data-res-action=\"fav\" class=\"icn icn-fav\" title=\"收藏\"></span><span data-res-id=\"115569\" data-res-type=\"18\" data-res-action=\"share\" data-res-name=\"护花使者\" data-res-author=\"李克勤\" data-res-pic=\"http://p1.music.126.net/dUF2QZtXNkjdtyHPD_cn5Q==/109951163157531184.jpg\" class=\"icn icn-share\" title=\"分享\">分享</span><span data-res-id=\"115569\" data-res-type=\"18\" data-res-action=\"download\" class=\"icn icn-dl\" title=\"下载\"></span></div></td><td class=\"\"><div class=\"text\" title=\"李克勤\"><span title=\"李克勤\"><a class=\"\" href=\"/artist?id=3699\" hidefocus=\"true\">李<div class=\"soil\">县本到算</div>克勤</a></span></div></td><td class=\"\"><div class=\"text\"><a href=\"/album?id=11312\" title=\"雨中街头剧\">雨中街<div class=\"soil\">櫢箕刓聎</div>头剧</a></div></td></tr><tr id=\"4859925061580141327524\" class=\" \"><td class=\"left\"><div class=\"hd \"><span data-res-id=\"485992506\" data-res-type=\"18\" data-res-action=\"play\" data-res-from=\"13\" data-res-data=\"2945028696\" class=\"ply \">&nbsp;</span><span class=\"num\">8</span></div></td><td class=\"\"><div class=\"f-cb\"><div class=\"tt\"><div class=\"ttc\"><span class=\"txt\"><a href=\"/song?id=485992506\"><b title=\"大约在冬季\">大约<div class=\"soil\">走改确想</div>在冬季</b></a></span></div></div></div></td><td class=\" s-fc3\"><span class=\"u-dur \">03:50</span><div class=\"opt hshow\"><a class=\"u-icn u-icn-81 icn-add\" href=\"javascript:;\" title=\"添加到播放列表\" hidefocus=\"true\" data-res-type=\"18\" data-res-id=\"485992506\" data-res-action=\"addto\" data-res-from=\"13\" data-res-data=\"2945028696\"></a><span data-res-id=\"485992506\" data-res-type=\"18\" data-res-action=\"fav\" class=\"icn icn-fav\" title=\"收藏\"></span><span data-res-id=\"485992506\" data-res-type=\"18\" data-res-action=\"share\" data-res-name=\"大约在冬季\" data-res-author=\"齐秦\" data-res-pic=\"http://p2.music.126.net/6IeN3pIIxJ56oKGmLQwKOQ==/17875860044768131.jpg\" class=\"icn icn-share\" title=\"分享\">分享</span><span data-res-id=\"485992506\" data-res-type=\"18\" data-res-action=\"download\" class=\"icn icn-dl\" title=\"下载\"></span></div></td><td class=\"\"><div class=\"text\" title=\"齐秦\"><span title=\"齐秦\"><a class=\"\" href=\"/artist?id=4813\" hidefocus=\"true\">齐<div class=\"soil\">阷侮礹</div>秦</a></span></div></td><td class=\"\"><div class=\"text\"><a href=\"/album?id=35630863\" title=\"Elements&nbsp;-&nbsp;国语歌曲\">Elements&nbsp;-&nbsp;国语<div class=\"soil\">过大有回</div>歌曲</a></div></td></tr><tr id=\"3071981580141327524\" class=\"even \"><td class=\"left\"><div class=\"hd \"><span data-res-id=\"307198\" data-res-type=\"18\" data-res-action=\"play\" data-res-from=\"13\" data-res-data=\"2945028696\" class=\"ply \">&nbsp;</span><span class=\"num\">9</span></div></td><td class=\"\"><div class=\"f-cb\"><div class=\"tt\"><div class=\"ttc\"><span class=\"txt\"><a href=\"/song?id=307198\"><b title=\"最熟悉的陌生人\">最<div class=\"soil\">半任毛文儿</div>熟悉的陌生人</b></a><span data-res-id=\"307198\" data-res-action=\"mv\" title=\"播放mv\" class=\"mv\">MV</span></span></div></div></div></td><td class=\" s-fc3\"><span class=\"u-dur \">04:22</span><div class=\"opt hshow\"><a class=\"u-icn u-icn-81 icn-add\" href=\"javascript:;\" title=\"添加到播放列表\" hidefocus=\"true\" data-res-type=\"18\" data-res-id=\"307198\" data-res-action=\"addto\" data-res-from=\"13\" data-res-data=\"2945028696\"></a><span data-res-id=\"307198\" data-res-type=\"18\" data-res-action=\"fav\" class=\"icn icn-fav\" title=\"收藏\"></span><span data-res-id=\"307198\" data-res-type=\"18\" data-res-action=\"share\" data-res-name=\"最熟悉的陌生人\" data-res-author=\"萧亚轩\" data-res-pic=\"http://p1.music.126.net/C3EQm52H53nEtX004JsRkA==/109951163250091338.jpg\" class=\"icn icn-share\" title=\"分享\">分享</span><span data-res-id=\"307198\" data-res-type=\"18\" data-res-action=\"download\" class=\"icn icn-dl\" title=\"下载\"></span></div></td><td class=\"\"><div class=\"text\" title=\"萧亚轩\"><span title=\"萧亚轩\"><a class=\"\" href=\"/artist?id=9945\" hidefocus=\"true\">萧<div class=\"soil\">转位条她</div>亚轩</a></span></div></td><td class=\"\"><div class=\"text\"><a href=\"/album?id=30508\" title=\"首选萧亚轩.美丽的插曲\">首选萧亚轩.<div class=\"soil\">烙</div>美丽的插曲</a></div></td></tr><tr id=\"1679121580141327524\" class=\" \"><td class=\"left\"><div class=\"hd \"><span data-res-id=\"167912\" data-res-type=\"18\" data-res-action=\"play\" data-res-from=\"13\" data-res-data=\"2945028696\" class=\"ply \">&nbsp;</span><span class=\"num\">10</span></div></td><td class=\"\"><div class=\"f-cb\"><div class=\"tt\"><div class=\"ttc\"><span class=\"txt\"><a href=\"/song?id=167912\"><b title=\"新不了情\">新不<div class=\"soil\">她之团</div>了情</b></a><span data-res-id=\"167912\" data-res-action=\"mv\" title=\"播放mv\" class=\"mv\">MV</span></span></div></div></div></td><td class=\" s-fc3\"><span class=\"u-dur \">04:24</span><div class=\"opt hshow\"><a class=\"u-icn u-icn-81 icn-add\" href=\"javascript:;\" title=\"添加到播放列表\" hidefocus=\"true\" data-res-type=\"18\" data-res-id=\"167912\" data-res-action=\"addto\" data-res-from=\"13\" data-res-data=\"2945028696\"></a><span data-res-id=\"167912\" data-res-type=\"18\" data-res-action=\"fav\" class=\"icn icn-fav\" title=\"收藏\"></span><span data-res-id=\"167912\" data-res-type=\"18\" data-res-action=\"share\" data-res-name=\"新不了情\" data-res-author=\"萧敬腾\" data-res-pic=\"http://p2.music.126.net/n4rCFiFFxb81OrJ8Bl9PXA==/109951163076302415.jpg\" class=\"icn icn-share\" title=\"分享\">分享</span><span data-res-id=\"167912\" data-res-type=\"18\" data-res-action=\"download\" class=\"icn icn-dl\" title=\"下载\"></span></div></td><td class=\"\"><div class=\"text\" title=\"萧敬腾\"><span title=\"萧敬腾\"><a class=\"\" href=\"/artist?id=5768\" hidefocus=\"true\">萧<div class=\"soil\">经法千集市</div>敬腾</a></span></div></td><td class=\"\"><div class=\"text\"><a href=\"/album?id=16958\" title=\"爱的时刻自选辑\">爱的<div class=\"soil\">莎宙</div>时刻自选辑</a></div></td></tr><tr id=\"1884321580141327524\" class=\"even \"><td class=\"left\"><div class=\"hd \"><span data-res-id=\"188432\" data-res-type=\"18\" data-res-action=\"play\" data-res-from=\"13\" data-res-data=\"2945028696\" class=\"ply \">&nbsp;</span><span class=\"num\">11</span></div></td><td class=\"\"><div class=\"f-cb\"><div class=\"tt\"><div class=\"ttc\"><span class=\"txt\"><a href=\"/song?id=188432\"><b title=\"如果这都不算爱\">如果<div class=\"soil\">乾瑝</div>这都不算爱</b></a></span></div></div></div></td><td class=\" s-fc3\"><span class=\"u-dur \">03:35</span><div class=\"opt hshow\"><a class=\"u-icn u-icn-81 icn-add\" href=\"javascript:;\" title=\"添加到播放列表\" hidefocus=\"true\" data-res-type=\"18\" data-res-id=\"188432\" data-res-action=\"addto\" data-res-from=\"13\" data-res-data=\"2945028696\"></a><span data-res-id=\"188432\" data-res-type=\"18\" data-res-action=\"fav\" class=\"icn icn-fav\" title=\"收藏\"></span><span data-res-id=\"188432\" data-res-type=\"18\" data-res-action=\"share\" data-res-name=\"如果这都不算爱\" data-res-author=\"张学友\" data-res-pic=\"http://p1.music.126.net/blZlhdVmYSUwgqSUxFs88Q==/19047939439853431.jpg\" class=\"icn icn-share\" title=\"分享\">分享</span><span data-res-id=\"188432\" data-res-type=\"18\" data-res-action=\"download\" class=\"icn icn-dl\" title=\"下载\"></span></div></td><td class=\"\"><div class=\"text\" title=\"张学友\"><span title=\"张学友\"><a class=\"\" href=\"/artist?id=6460\" hidefocus=\"true\">张<div class=\"soil\">少住习</div>学友</a></span></div></td><td class=\"\"><div class=\"text\"><a href=\"/album?id=19076\" title=\"学友&nbsp;热\">学<div class=\"soil\">碟訌豚</div>友&nbsp;热</a></div></td></tr><tr id=\"1679161580141327524\" class=\" \"><td class=\"left\"><div class=\"hd \"><span data-res-id=\"167916\" data-res-type=\"18\" data-res-action=\"play\" data-res-from=\"13\" data-res-data=\"2945028696\" class=\"ply \">&nbsp;</span><span class=\"num\">12</span></div></td><td class=\"\"><div class=\"f-cb\"><div class=\"tt\"><div class=\"ttc\"><span class=\"txt\"><a href=\"/song?id=167916\"><b title=\"梦一场\">梦<div class=\"soil\">坴</div>一场</b></a></span></div></div></div></td><td class=\" s-fc3\"><span class=\"u-dur \">03:46</span><div class=\"opt hshow\"><a class=\"u-icn u-icn-81 icn-add\" href=\"javascript:;\" title=\"添加到播放列表\" hidefocus=\"true\" data-res-type=\"18\" data-res-id=\"167916\" data-res-action=\"addto\" data-res-from=\"13\" data-res-data=\"2945028696\"></a><span data-res-id=\"167916\" data-res-type=\"18\" data-res-action=\"fav\" class=\"icn icn-fav\" title=\"收藏\"></span><span data-res-id=\"167916\" data-res-type=\"18\" data-res-action=\"share\" data-res-name=\"梦一场\" data-res-author=\"萧敬腾\" data-res-pic=\"http://p2.music.126.net/n4rCFiFFxb81OrJ8Bl9PXA==/109951163076302415.jpg\" class=\"icn icn-share\" title=\"分享\">分享</span><span data-res-id=\"167916\" data-res-type=\"18\" data-res-action=\"download\" class=\"icn icn-dl\" title=\"下载\"></span></div></td><td class=\"\"><div class=\"text\" title=\"萧敬腾\"><span title=\"萧敬腾\"><a class=\"\" href=\"/artist?id=5768\" hidefocus=\"true\">萧<div class=\"soil\">搏砰</div>敬腾</a></span></div></td><td class=\"\"><div class=\"text\"><a href=\"/album?id=16958\" title=\"爱的时刻自选辑\">爱的时刻<div class=\"soil\">九资离许</div>自选辑</a></div></td></tr><tr id=\"309031171580141327524\" class=\"even \"><td class=\"left\"><div class=\"hd \"><span data-res-id=\"30903117\" data-res-type=\"18\" data-res-action=\"play\" data-res-from=\"13\" data-res-data=\"2945028696\" class=\"ply \">&nbsp;</span><span class=\"num\">13</span></div></td><td class=\"\"><div class=\"f-cb\"><div class=\"tt\"><div class=\"ttc\"><span class=\"txt\"><a href=\"/song?id=30903117\"><b title=\"漂洋过海来看你\">漂<div class=\"soil\">快专太领</div>洋过海来看你</b></a></span></div></div></div></td><td class=\" s-fc3\"><span class=\"u-dur \">03:03</span><div class=\"opt hshow\"><a class=\"u-icn u-icn-81 icn-add\" href=\"javascript:;\" title=\"添加到播放列表\" hidefocus=\"true\" data-res-type=\"18\" data-res-id=\"30903117\" data-res-action=\"addto\" data-res-from=\"13\" data-res-data=\"2945028696\"></a><span data-res-id=\"30903117\" data-res-type=\"18\" data-res-action=\"fav\" class=\"icn icn-fav\" title=\"收藏\"></span><span data-res-id=\"30903117\" data-res-type=\"18\" data-res-action=\"share\" data-res-name=\"漂洋过海来看你\" data-res-author=\"周深\" data-res-pic=\"http://p1.music.126.net/nghrV1_ZW6lht9Ue7r4Ffg==/7697680906845029.jpg\" class=\"icn icn-share\" title=\"分享\">分享</span><span data-res-id=\"30903117\" data-res-type=\"18\" data-res-action=\"download\" class=\"icn icn-dl\" title=\"下载\"></span></div></td><td class=\"\"><div class=\"text\" title=\"周深\"><span title=\"周深\"><a class=\"\" href=\"/artist?id=1030001\" hidefocus=\"true\">周<div class=\"soil\">鉝擗</div>深</a></span></div></td><td class=\"\"><div class=\"text\"><a href=\"/album?id=3106026\" title=\"漂洋过海来看你\">漂<div class=\"soil\">往题性白</div>洋过海来看你</a></div></td></tr><tr id=\"2123761580141327524\" class=\" \"><td class=\"left\"><div class=\"hd \"><span data-res-id=\"212376\" data-res-type=\"18\" data-res-action=\"play\" data-res-from=\"13\" data-res-data=\"2945028696\" class=\"ply \">&nbsp;</span><span class=\"num\">14</span></div></td><td class=\"\"><div class=\"f-cb\"><div class=\"tt\"><div class=\"ttc\"><span class=\"txt\"><a href=\"/song?id=212376\"><b title=\"傻女\">傻<div class=\"soil\">卻</div>女</b></a></span></div></div></div></td><td class=\" s-fc3\"><span class=\"u-dur \">03:50</span><div class=\"opt hshow\"><a class=\"u-icn u-icn-81 icn-add\" href=\"javascript:;\" title=\"添加到播放列表\" hidefocus=\"true\" data-res-type=\"18\" data-res-id=\"212376\" data-res-action=\"addto\" data-res-from=\"13\" data-res-data=\"2945028696\"></a><span data-res-id=\"212376\" data-res-type=\"18\" data-res-action=\"fav\" class=\"icn icn-fav\" title=\"收藏\"></span><span data-res-id=\"212376\" data-res-type=\"18\" data-res-action=\"share\" data-res-name=\"傻女\" data-res-author=\"陈慧娴\" data-res-pic=\"http://p1.music.126.net/hPoSYFGVAfYjV3JiSObglQ==/109951163637041877.jpg\" class=\"icn icn-share\" title=\"分享\">分享</span><span data-res-id=\"212376\" data-res-type=\"18\" data-res-action=\"download\" class=\"icn icn-dl\" title=\"下载\"></span></div></td><td class=\"\"><div class=\"text\" title=\"陈慧娴\"><span title=\"陈慧娴\"><a class=\"\" href=\"/artist?id=7225\" hidefocus=\"true\">陈<div class=\"soil\">派性府</div>慧娴</a></span></div></td><td class=\"\"><div class=\"text\"><a href=\"/album?id=21521\" title=\"陈慧娴金曲精选26首\">陈慧娴金<div class=\"soil\">现生经</div>曲精选26首</a></div></td></tr><tr id=\"3475971580141327524\" class=\"even \"><td class=\"left\"><div class=\"hd \"><span data-res-id=\"347597\" data-res-type=\"18\" data-res-action=\"play\" data-res-from=\"13\" data-res-data=\"2945028696\" class=\"ply \">&nbsp;</span><span class=\"num\">15</span></div></td><td class=\"\"><div class=\"f-cb\"><div class=\"tt\"><div class=\"ttc\"><span class=\"txt\"><a href=\"/song?id=347597\"><b title=\"不再犹豫\">不<div class=\"soil\">曀</div>再犹豫</b></a><span data-res-id=\"347597\" data-res-action=\"mv\" title=\"播放mv\" class=\"mv\">MV</span></span></div></div></div></td><td class=\" s-fc3\"><span class=\"u-dur \">04:12</span><div class=\"opt hshow\"><a class=\"u-icn u-icn-81 icn-add\" href=\"javascript:;\" title=\"添加到播放列表\" hidefocus=\"true\" data-res-type=\"18\" data-res-id=\"347597\" data-res-action=\"addto\" data-res-from=\"13\" data-res-data=\"2945028696\"></a><span data-res-id=\"347597\" data-res-type=\"18\" data-res-action=\"fav\" class=\"icn icn-fav\" title=\"收藏\"></span><span data-res-id=\"347597\" data-res-type=\"18\" data-res-action=\"share\" data-res-name=\"不再犹豫\" data-res-author=\"Beyond\" data-res-pic=\"http://p2.music.126.net/jFVtPnc0-cBv4k2_Fuld-A==/54975581392009.jpg\" class=\"icn icn-share\" title=\"分享\">分享</span><span data-res-id=\"347597\" data-res-type=\"18\" data-res-action=\"download\" class=\"icn icn-dl\" title=\"下载\"></span></div></td><td class=\"\"><div class=\"text\" title=\"Beyond\"><span title=\"Beyond\"><a class=\"\" href=\"/artist?id=11127\" hidefocus=\"true\">Bey<div class=\"soil\">E</div>ond</a></span></div></td><td class=\"\"><div class=\"text\"><a href=\"/album?id=34250\" title=\"犹豫\">犹<div class=\"soil\">埑餺插</div>豫</a></div></td></tr><tr id=\"3498921580141327524\" class=\" \"><td class=\"left\"><div class=\"hd \"><span data-res-id=\"349892\" data-res-type=\"18\" data-res-action=\"play\" data-res-from=\"13\" data-res-data=\"2945028696\" class=\"ply \">&nbsp;</span><span class=\"num\">16</span></div></td><td class=\"\"><div class=\"f-cb\"><div class=\"tt\"><div class=\"ttc\"><span class=\"txt\"><a href=\"/song?id=349892\"><b title=\"失恋阵线联盟\">失<div class=\"soil\">知才同</div>恋阵线联盟</b></a><span data-res-id=\"349892\" data-res-action=\"mv\" title=\"播放mv\" class=\"mv\">MV</span></span></div></div></div></td><td class=\" s-fc3\"><span class=\"u-dur \">02:53</span><div class=\"opt hshow\"><a class=\"u-icn u-icn-81 icn-add\" href=\"javascript:;\" title=\"添加到播放列表\" hidefocus=\"true\" data-res-type=\"18\" data-res-id=\"349892\" data-res-action=\"addto\" data-res-from=\"13\" data-res-data=\"2945028696\"></a><span data-res-id=\"349892\" data-res-type=\"18\" data-res-action=\"fav\" class=\"icn icn-fav\" title=\"收藏\"></span><span data-res-id=\"349892\" data-res-type=\"18\" data-res-action=\"share\" data-res-name=\"失恋阵线联盟\" data-res-author=\"草蜢\" data-res-pic=\"http://p2.music.126.net/tkwRHzFfJjnJBhUIt3l5_w==/109951163023777895.jpg\" class=\"icn icn-share\" title=\"分享\">分享</span><span data-res-id=\"349892\" data-res-type=\"18\" data-res-action=\"download\" class=\"icn icn-dl\" title=\"下载\"></span></div></td><td class=\"\"><div class=\"text\" title=\"草蜢\"><span title=\"草蜢\"><a class=\"\" href=\"/artist?id=11265\" hidefocus=\"true\">草<div class=\"soil\">鑢椷畟</div>蜢</a></span></div></td><td class=\"\"><div class=\"text\"><a href=\"/album?id=34488\" title=\"失恋阵线联盟\">失恋阵线<div class=\"soil\">裹疲沉</div>联盟</a></div></td></tr><tr id=\"1904951580141327524\" class=\"even \"><td class=\"left\"><div class=\"hd \"><span data-res-id=\"190495\" data-res-type=\"18\" data-res-action=\"play\" data-res-from=\"13\" data-res-data=\"2945028696\" class=\"ply \">&nbsp;</span><span class=\"num\">17</span></div></td><td class=\"\"><div class=\"f-cb\"><div class=\"tt\"><div class=\"ttc\"><span class=\"txt\"><a href=\"/song?id=190495\"><b title=\"雨一直下 - (台视《情深到来生》片头主题曲)\">雨<div class=\"soil\">天九满运位</div>一直下</b></a><span title=\"台视《情深到来生》片头主题曲\" class=\"s-fc8\"> - (台<div class=\"soil\">畠</div>视《情深到来生》片头主题曲)</span></span></div></div></div></td><td class=\" s-fc3\"><span class=\"u-dur \">04:54</span><div class=\"opt hshow\"><a class=\"u-icn u-icn-81 icn-add\" href=\"javascript:;\" title=\"添加到播放列表\" hidefocus=\"true\" data-res-type=\"18\" data-res-id=\"190495\" data-res-action=\"addto\" data-res-from=\"13\" data-res-data=\"2945028696\"></a><span data-res-id=\"190495\" data-res-type=\"18\" data-res-action=\"fav\" class=\"icn icn-fav\" title=\"收藏\"></span><span data-res-id=\"190495\" data-res-type=\"18\" data-res-action=\"share\" data-res-name=\"雨一直下\" data-res-author=\"张宇\" data-res-pic=\"http://p1.music.126.net/otCQ-2wUgLaEN2_W8Nf_DA==/57174604656249.jpg\" class=\"icn icn-share\" title=\"分享\">分享</span><span data-res-id=\"190495\" data-res-type=\"18\" data-res-action=\"download\" class=\"icn icn-dl\" title=\"下载\"></span></div></td><td class=\"\"><div class=\"text\" title=\"张宇\"><span title=\"张宇\"><a class=\"\" href=\"/artist?id=6469\" hidefocus=\"true\">张<div class=\"soil\">变往必以</div>宇</a></span></div></td><td class=\"\"><div class=\"text\"><a href=\"/album?id=19247\" title=\"雨一直下\">雨<div class=\"soil\">騉崐盤碶</div>一直下</a></div></td></tr><tr id=\"3477051580141327524\" class=\" \"><td class=\"left\"><div class=\"hd \"><span data-res-id=\"347705\" data-res-type=\"18\" data-res-action=\"play\" data-res-from=\"13\" data-res-data=\"2945028696\" class=\"ply \">&nbsp;</span><span class=\"num\">18</span></div></td><td class=\"\"><div class=\"f-cb\"><div class=\"tt\"><div class=\"ttc\"><span class=\"txt\"><a href=\"/song?id=347705\"><b title=\"天若有情 - (电影《天若有情》插曲)\">天<div class=\"soil\">书提</div>若有情</b></a><span title=\"电影《天若有情》插曲\" class=\"s-fc8\"> - (电影《天若有情》<div class=\"soil\">杉頭</div>插曲)</span></span></div></div></div></td><td class=\" s-fc3\"><span class=\"u-dur \">03:51</span><div class=\"opt hshow\"><a class=\"u-icn u-icn-81 icn-add\" href=\"javascript:;\" title=\"添加到播放列表\" hidefocus=\"true\" data-res-type=\"18\" data-res-id=\"347705\" data-res-action=\"addto\" data-res-from=\"13\" data-res-data=\"2945028696\"></a><span data-res-id=\"347705\" data-res-type=\"18\" data-res-action=\"fav\" class=\"icn icn-fav\" title=\"收藏\"></span><span data-res-id=\"347705\" data-res-type=\"18\" data-res-action=\"share\" data-res-name=\"天若有情\" data-res-author=\"袁凤瑛\" data-res-pic=\"http://p1.music.126.net/f2_DZSqxD4PU3shoi-yTPQ==/106652627897489.jpg\" class=\"icn icn-share\" title=\"分享\">分享</span><span data-res-id=\"347705\" data-res-type=\"18\" data-res-action=\"download\" class=\"icn icn-dl\" title=\"下载\"></span></div></td><td class=\"\"><div class=\"text\" title=\"袁凤瑛\"><span title=\"袁凤瑛\"><a class=\"\" href=\"/artist?id=10245\" hidefocus=\"true\">袁<div class=\"soil\">赲赻苭</div>凤瑛</a></span></div></td><td class=\"\"><div class=\"text\"><a href=\"/album?id=34264\" title=\"天若有情\">天<div class=\"soil\">备轅</div>若有情</a></div></td></tr><tr id=\"279374661580141327524\" class=\"even \"><td class=\"left\"><div class=\"hd \"><span data-res-id=\"27937466\" data-res-type=\"18\" data-res-action=\"play\" data-res-from=\"13\" data-res-data=\"2945028696\" class=\"ply \">&nbsp;</span><span class=\"num\">19</span></div></td><td class=\"\"><div class=\"f-cb\"><div class=\"tt\"><div class=\"ttc\"><span class=\"txt\"><a href=\"/song?id=27937466\"><b title=\"忽然之间\">忽<div class=\"soil\">筊秧穸阫</div>然之间</b></a></span></div></div></div></td><td class=\" s-fc3\"><span class=\"u-dur \">03:22</span><div class=\"opt hshow\"><a class=\"u-icn u-icn-81 icn-add\" href=\"javascript:;\" title=\"添加到播放列表\" hidefocus=\"true\" data-res-type=\"18\" data-res-id=\"27937466\" data-res-action=\"addto\" data-res-from=\"13\" data-res-data=\"2945028696\"></a><span data-res-id=\"27937466\" data-res-type=\"18\" data-res-action=\"fav\" class=\"icn icn-fav\" title=\"收藏\"></span><span data-res-id=\"27937466\" data-res-type=\"18\" data-res-action=\"share\" data-res-name=\"忽然之间\" data-res-author=\"莫文蔚\" data-res-pic=\"http://p1.music.126.net/iNcrt344tK6tME6tCbcbTw==/5818615534203000.jpg\" class=\"icn icn-share\" title=\"分享\">分享</span><span data-res-id=\"27937466\" data-res-type=\"18\" data-res-action=\"download\" class=\"icn icn-dl\" title=\"下载\"></span></div></td><td class=\"\"><div class=\"text\" title=\"莫文蔚\"><span title=\"莫文蔚\"><a class=\"\" href=\"/artist?id=8926\" hidefocus=\"true\">莫<div class=\"soil\">汖</div>文蔚</a></span></div></td><td class=\"\"><div class=\"text\"><a href=\"/album?id=2685303\" title=\"莫后年代&nbsp;莫文蔚20周年世纪典藏\">莫后年<div class=\"soil\">褤</div>代&nbsp;莫文蔚20周年世纪典藏</a></div></td></tr><tr id=\"3512711580141327524\" class=\" \"><td class=\"left\"><div class=\"hd \"><span data-res-id=\"351271\" data-res-type=\"18\" data-res-action=\"play\" data-res-from=\"13\" data-res-data=\"2945028696\" class=\"ply \">&nbsp;</span><span class=\"num\">20</span></div></td><td class=\"\"><div class=\"f-cb\"><div class=\"tt\"><div class=\"ttc\"><span class=\"txt\"><a href=\"/song?id=351271\"><b title=\"那就这样吧\">那就<div class=\"soil\">頪</div>这样吧</b></a></span></div></div></div></td><td class=\" s-fc3\"><span class=\"u-dur \">04:36</span><div class=\"opt hshow\"><a class=\"u-icn u-icn-81 icn-add\" href=\"javascript:;\" title=\"添加到播放列表\" hidefocus=\"true\" data-res-type=\"18\" data-res-id=\"351271\" data-res-action=\"addto\" data-res-from=\"13\" data-res-data=\"2945028696\"></a><span data-res-id=\"351271\" data-res-type=\"18\" data-res-action=\"fav\" class=\"icn icn-fav\" title=\"收藏\"></span><span data-res-id=\"351271\" data-res-type=\"18\" data-res-action=\"share\" data-res-name=\"那就这样吧\" data-res-author=\"动力火车\" data-res-pic=\"http://p2.music.126.net/OgwL-MYu5rdXUw_PIGKp4g==/109951163167393472.jpg\" class=\"icn icn-share\" title=\"分享\">分享</span><span data-res-id=\"351271\" data-res-type=\"18\" data-res-action=\"download\" class=\"icn icn-dl\" title=\"下载\"></span></div></td><td class=\"\"><div class=\"text\" title=\"动力火车\"><span title=\"动力火车\"><a class=\"\" href=\"/artist?id=11363\" hidefocus=\"true\">动<div class=\"soil\">己间府中</div>力火车</a></span></div></td><td class=\"\"><div class=\"text\"><a href=\"/album?id=34613\" title=\"再见我的爱人\">再见<div class=\"soil\">明几百角基</div>我的爱人</a></div></td></tr></tbody>\n",
    "'''\n",
    "\n",
    "request = re.findall('href=\"(.*?)\".*?<b title=\"(.*?)\".*?data-res-author=\"(.*?)\"', content, re.S)\n",
    "print(request)\n",
    "print(type(request))\n",
    "for result in request:\n",
    "    print(result[0], result[1], result[2])"
   ]
  },
  {
   "cell_type": "markdown",
   "metadata": {},
   "source": [
    "### re.sub"
   ]
  },
  {
   "cell_type": "markdown",
   "metadata": {},
   "source": [
    "替换字符串中每一个匹配的子串后返回替换后的字符串"
   ]
  },
  {
   "cell_type": "code",
   "execution_count": 13,
   "metadata": {},
   "outputs": [
    {
     "name": "stdout",
     "output_type": "stream",
     "text": [
      "Extra stings Hello  World_This is a Regex Demo Extra stings\n"
     ]
    }
   ],
   "source": [
    "import re\n",
    "\n",
    "content = 'Extra stings Hello 1234567 World_This is a Regex Demo Extra stings'\n",
    "content = re.sub('\\d+', '', content)\n",
    "print(content)"
   ]
  },
  {
   "cell_type": "code",
   "execution_count": 14,
   "metadata": {},
   "outputs": [
    {
     "name": "stdout",
     "output_type": "stream",
     "text": [
      "Extra stings Hello Replacement World_This is a Regex Demo Extra stings\n"
     ]
    }
   ],
   "source": [
    "import re\n",
    "\n",
    "content = 'Extra stings Hello 1234567 World_This is a Regex Demo Extra stings'\n",
    "content = re.sub('\\d+', 'Replacement', content)\n",
    "print(content)"
   ]
  },
  {
   "cell_type": "code",
   "execution_count": 15,
   "metadata": {},
   "outputs": [
    {
     "name": "stdout",
     "output_type": "stream",
     "text": [
      "Extra stings Hello 1234567 7777 World_This is a Regex Demo Extra stings\n"
     ]
    }
   ],
   "source": [
    "import re\n",
    "\n",
    "content = 'Extra stings Hello 1234567 World_This is a Regex Demo Extra stings'\n",
    "content = re.sub('(\\d+)', r'\\1 7777', content)#将第一个括号中的字符提出来做操作\n",
    "print(content)"
   ]
  },
  {
   "cell_type": "code",
   "execution_count": null,
   "metadata": {},
   "outputs": [],
   "source": [
    "import re\n",
    "\n",
    "content = '''<tbody>\n",
    "<tr id=\"1455861580141327524\" class=\"even \"><td class=\"left\"><div class=\"hd \"><span data-res-id=\"145586\" data-res-type=\"18\" data-res-action=\"play\" data-res-from=\"13\" data-res-data=\"2945028696\" class=\"ply \">&nbsp;</span><span class=\"num\">1</span></div></td><td class=\"\"><div class=\"f-cb\"><div class=\"tt\"><div class=\"ttc\"><span class=\"txt\">\n",
    "<a href=\"/song?id=145586\"><b title=\"拯救 - (电视剧《拿什么拯救你，我的爱人》片尾曲)\">拯<div class=\"soil\">义克持</div>救</b></a><span title=\"电视剧《拿什么拯救你，我的爱人》片尾曲\" class=\"s-fc8\"> - (电视剧《拿什么拯救你，我<div class=\"soil\">务事</div>的爱人》片尾曲)</span><span data-res-id=\"145586\" data-res-action=\"mv\" title=\"播放mv\" class=\"mv\">MV</span></span></div></div></div></td><td class=\" s-fc3\"><span class=\"u-dur \">05:32</span><div class=\"opt hshow\"><a class=\"u-icn u-icn-81 icn-add\" href=\"javascript:;\" title=\"添加到播放列表\" hidefocus=\"true\" data-res-type=\"18\" data-res-id=\"145586\" data-res-action=\"addto\" data-res-from=\"13\" data-res-data=\"2945028696\"></a><span data-res-id=\"145586\" data-res-type=\"18\" data-res-action=\"fav\" class=\"icn icn-fav\" title=\"收藏\"></span><span data-res-id=\"145586\" data-res-type=\"18\" data-res-action=\"share\" data-res-name=\"拯救\" data-res-author=\"孙楠\" data-res-pic=\"http://p2.music.126.net/IBCYtNlA1-vVpe3mj9F-Jw==/130841883718470.jpg\" class=\"icn icn-share\" title=\"分享\">分享</span><span data-res-id=\"145586\" data-res-type=\"18\" data-res-action=\"download\" class=\"icn icn-dl\" title=\"下载\"></span></div></td><td class=\"\"><div class=\"text\" title=\"孙楠\"><span title=\"孙楠\"><a class=\"\" href=\"/artist?id=4941\" hidefocus=\"true\">孙<div class=\"soil\">鹙芺醢</div>楠</a></span></div></td><td class=\"\"><div class=\"text\"><a href=\"/album?id=14574\" title=\"缘份的天空\">缘份的<div class=\"soil\">得对府状</div>天空</a></div></td></tr><tr id=\"5559844131580141327524\" class=\" \"><td class=\"left\"><div class=\"hd \"><span data-res-id=\"555984413\" data-res-type=\"18\" data-res-action=\"play\" data-res-from=\"13\" data-res-data=\"2945028696\" class=\"ply \">&nbsp;</span><span class=\"num\">2</span></div></td><td class=\"\"><div class=\"f-cb\"><div class=\"tt\"><div class=\"ttc\"><span class=\"txt\"><a href=\"/song?id=555984413\"><b title=\"神话情话&nbsp;(粤) - (1995年TVB版电视剧《神雕侠侣》主题曲)\">神话情话&nbsp;(<div class=\"soil\">审韷梜獾</div>粤)</b></a><span title=\"1995年TVB版电视剧《神雕侠侣》主题曲\" class=\"s-fc8\"> - (1995<div class=\"soil\">议进被查</div>年TVB版电视剧《神雕侠侣》主题曲)</span></span></div></div></div></td><td class=\" s-fc3\"><span class=\"u-dur \">04:26</span><div class=\"opt hshow\"><a class=\"u-icn u-icn-81 icn-add\" href=\"javascript:;\" title=\"添加到播放列表\" hidefocus=\"true\" data-res-type=\"18\" data-res-id=\"555984413\" data-res-action=\"addto\" data-res-from=\"13\" data-res-data=\"2945028696\"></a><span data-res-id=\"555984413\" data-res-type=\"18\" data-res-action=\"fav\" class=\"icn icn-fav\" title=\"收藏\"></span><span data-res-id=\"555984413\" data-res-type=\"18\" data-res-action=\"share\" data-res-name=\"神话情话 (粤)\" data-res-author=\"周华健/齐豫\" data-res-pic=\"http://p1.music.126.net/Y1IIadn7rjGrZA5IAKLtBA==/109951163270175127.jpg\" class=\"icn icn-share\" title=\"分享\">分享</span><span data-res-id=\"555984413\" data-res-type=\"18\" data-res-action=\"download\" class=\"icn icn-dl\" title=\"下载\"></span></div></td><td class=\"\"><div class=\"text\" title=\"周华健/齐豫\"><span title=\"周华健/齐豫\"><a class=\"\" href=\"/artist?id=6456\" hidefocus=\"true\">周<div class=\"soil\">箟秝旝</div>华健</a>/<a class=\"\" href=\"/artist?id=9167\" hidefocus=\"true\">齐<div class=\"soil\">嘘剛诰</div>豫</a></span></div></td><td class=\"\"><div class=\"text\"><a href=\"/album?id=38512301\" title=\"两岸三地电视剧主题曲大比拼\">两岸三<div class=\"soil\">向山即而速</div>地电视剧主题曲大比拼</a></div></td></tr><tr id=\"1151621580141327524\" class=\"even \"><td class=\"left\"><div class=\"hd \"><span data-res-id=\"115162\" data-res-type=\"18\" data-res-action=\"play\" data-res-from=\"13\" data-res-data=\"2945028696\" class=\"ply \">&nbsp;</span><span class=\"num\">3</span></div></td><td class=\"\"><div class=\"f-cb\"><div class=\"tt\"><div class=\"ttc\"><span class=\"txt\"><a href=\"/song?id=115162\"><b title=\"月半小夜曲\">月半小<div class=\"soil\">禛勂</div>夜曲</b></a><span data-res-id=\"115162\" data-res-action=\"mv\" title=\"播放mv\" class=\"mv\">MV</span></span></div></div></div></td><td class=\" s-fc3\"><span class=\"u-dur \">04:51</span><div class=\"opt hshow\"><a class=\"u-icn u-icn-81 icn-add\" href=\"javascript:;\" title=\"添加到播放列表\" hidefocus=\"true\" data-res-type=\"18\" data-res-id=\"115162\" data-res-action=\"addto\" data-res-from=\"13\" data-res-data=\"2945028696\"></a><span data-res-id=\"115162\" data-res-type=\"18\" data-res-action=\"fav\" class=\"icn icn-fav\" title=\"收藏\"></span><span data-res-id=\"115162\" data-res-type=\"18\" data-res-action=\"share\" data-res-name=\"月半小夜曲\" data-res-author=\"李克勤\" data-res-pic=\"http://p1.music.126.net/bYTctrjUegSyzDPteIeNOw==/74766790705099.jpg\" class=\"icn icn-share\" title=\"分享\">分享</span><span data-res-id=\"115162\" data-res-type=\"18\" data-res-action=\"download\" class=\"icn icn-dl\" title=\"下载\"></span></div></td><td class=\"\"><div class=\"text\" title=\"李克勤\"><span title=\"李克勤\"><a class=\"\" href=\"/artist?id=3699\" hidefocus=\"true\">李<div class=\"soil\">战但术过情</div>克勤</a></span></div></td><td class=\"\"><div class=\"text\"><a href=\"/album?id=11279\" title=\"经典金曲\">经典<div class=\"soil\">警餂閗綩</div>金曲</a></div></td></tr><tr id=\"3281531580141327524\" class=\" \"><td class=\"left\"><div class=\"hd \"><span data-res-id=\"328153\" data-res-type=\"18\" data-res-action=\"play\" data-res-from=\"13\" data-res-data=\"2945028696\" class=\"ply \">&nbsp;</span><span class=\"num\">4</span></div></td><td class=\"\"><div class=\"f-cb\"><div class=\"tt\"><div class=\"ttc\"><span class=\"txt\"><a href=\"/song?id=328153\"><b title=\"唉声叹气\">唉<div class=\"soil\">住系完建群</div>声叹气</b></a></span></div></div></div></td><td class=\" s-fc3\"><span class=\"u-dur \">04:24</span><div class=\"opt hshow\"><a class=\"u-icn u-icn-81 icn-add\" href=\"javascript:;\" title=\"添加到播放列表\" hidefocus=\"true\" data-res-type=\"18\" data-res-id=\"328153\" data-res-action=\"addto\" data-res-from=\"13\" data-res-data=\"2945028696\"></a><span data-res-id=\"328153\" data-res-type=\"18\" data-res-action=\"fav\" class=\"icn icn-fav\" title=\"收藏\"></span><span data-res-id=\"328153\" data-res-type=\"18\" data-res-action=\"share\" data-res-name=\"唉声叹气\" data-res-author=\"郑秀文\" data-res-pic=\"http://p1.music.126.net/ikxvS5dg_GpBt1Rp20DE9w==/109951163449996065.jpg\" class=\"icn icn-share\" title=\"分享\">分享</span><span data-res-id=\"328153\" data-res-type=\"18\" data-res-action=\"download\" class=\"icn icn-dl\" title=\"下载\"></span></div></td><td class=\"\"><div class=\"text\" title=\"郑秀文\"><span title=\"郑秀文\"><a class=\"\" href=\"/artist?id=10571\" hidefocus=\"true\">郑<div class=\"soil\">潃</div>秀文</a></span></div></td><td class=\"\"><div class=\"text\"><a href=\"/album?id=32461\" title=\"Sammi&nbsp;Ultimate&nbsp;Collection\">Sammi&nbsp;Ultimate&nbsp;C<div class=\"soil\">1K</div>ollection</a></div></td></tr><tr id=\"3460691580141327524\" class=\"even \"><td class=\"left\"><div class=\"hd \"><span data-res-id=\"346069\" data-res-type=\"18\" data-res-action=\"play\" data-res-from=\"13\" data-res-data=\"2945028696\" class=\"ply \">&nbsp;</span><span class=\"num\">5</span></div></td><td class=\"\"><div class=\"f-cb\"><div class=\"tt\"><div class=\"ttc\"><span class=\"txt\"><a href=\"/song?id=346069\"><b title=\"冷雨夜\">冷<div class=\"soil\">碾羺</div>雨夜</b></a></span></div></div></div></td><td class=\" s-fc3\"><span class=\"u-dur \">04:21</span><div class=\"opt hshow\"><a class=\"u-icn u-icn-81 icn-add\" href=\"javascript:;\" title=\"添加到播放列表\" hidefocus=\"true\" data-res-type=\"18\" data-res-id=\"346069\" data-res-action=\"addto\" data-res-from=\"13\" data-res-data=\"2945028696\"></a><span data-res-id=\"346069\" data-res-type=\"18\" data-res-action=\"fav\" class=\"icn icn-fav\" title=\"收藏\"></span><span data-res-id=\"346069\" data-res-type=\"18\" data-res-action=\"share\" data-res-name=\"冷雨夜\" data-res-author=\"Beyond\" data-res-pic=\"http://p2.music.126.net/ghmbmEQS-IJfZPjdA3KGxg==/82463372084291.jpg\" class=\"icn icn-share\" title=\"分享\">分享</span><span data-res-id=\"346069\" data-res-type=\"18\" data-res-action=\"download\" class=\"icn icn-dl\" title=\"下载\"></span></div></td><td class=\"\"><div class=\"text\" title=\"Beyond\"><span title=\"Beyond\"><a class=\"\" href=\"/artist?id=11127\" hidefocus=\"true\">Be<div class=\"soil\">zF</div>yond</a></span></div></td><td class=\"\"><div class=\"text\"><a href=\"/album?id=34110\" title=\"25周年精选\">25<div class=\"soil\">日用志几</div>周年精选</a></div></td></tr><tr id=\"275912181580141327524\" class=\" \"><td class=\"left\"><div class=\"hd \"><span data-res-id=\"27591218\" data-res-type=\"18\" data-res-action=\"play\" data-res-from=\"13\" data-res-data=\"2945028696\" class=\"ply \">&nbsp;</span><span class=\"num\">6</span></div></td><td class=\"\"><div class=\"f-cb\"><div class=\"tt\"><div class=\"ttc\"><span class=\"txt\"><a href=\"/song?id=27591218\"><b title=\"你的眼神\">你的<div class=\"soil\">也要对及问</div>眼神</b></a></span></div></div></div></td><td class=\" s-fc3\"><span class=\"u-dur \">03:20</span><div class=\"opt hshow\"><a class=\"u-icn u-icn-81 icn-add\" href=\"javascript:;\" title=\"添加到播放列表\" hidefocus=\"true\" data-res-type=\"18\" data-res-id=\"27591218\" data-res-action=\"addto\" data-res-from=\"13\" data-res-data=\"2945028696\"></a><span data-res-id=\"27591218\" data-res-type=\"18\" data-res-action=\"fav\" class=\"icn icn-fav\" title=\"收藏\"></span><span data-res-id=\"27591218\" data-res-type=\"18\" data-res-action=\"share\" data-res-name=\"你的眼神\" data-res-author=\"卫兰\" data-res-pic=\"http://p1.music.126.net/cb9eURnGO_VHFsrLRyFVRw==/5705365836603818.jpg\" class=\"icn icn-share\" title=\"分享\">分享</span><span data-res-id=\"27591218\" data-res-type=\"18\" data-res-action=\"download\" class=\"icn icn-dl\" title=\"下载\"></span></div></td><td class=\"\"><div class=\"text\" title=\"卫兰\"><span title=\"卫兰\"><a class=\"\" href=\"/artist?id=9605\" hidefocus=\"true\">卫<div class=\"soil\">满习指解</div>兰</a></span></div></td><td class=\"\"><div class=\"text\"><a href=\"/album?id=2643122\" title=\"Wish\">W<div class=\"soil\">ks</div>ish</a></div></td></tr><tr id=\"1155691580141327524\" class=\"even \"><td class=\"left\"><div class=\"hd \"><span data-res-id=\"115569\" data-res-type=\"18\" data-res-action=\"play\" data-res-from=\"13\" data-res-data=\"2945028696\" class=\"ply \">&nbsp;</span><span class=\"num\">7</span></div></td><td class=\"\"><div class=\"f-cb\"><div class=\"tt\"><div class=\"ttc\"><span class=\"txt\"><a href=\"/song?id=115569\"><b title=\"护花使者\">护<div class=\"soil\">縀蚫麭</div>花使者</b></a><span data-res-id=\"115569\" data-res-action=\"mv\" title=\"播放mv\" class=\"mv\">MV</span></span></div></div></div></td><td class=\" s-fc3\"><span class=\"u-dur \">03:16</span><div class=\"opt hshow\"><a class=\"u-icn u-icn-81 icn-add\" href=\"javascript:;\" title=\"添加到播放列表\" hidefocus=\"true\" data-res-type=\"18\" data-res-id=\"115569\" data-res-action=\"addto\" data-res-from=\"13\" data-res-data=\"2945028696\"></a><span data-res-id=\"115569\" data-res-type=\"18\" data-res-action=\"fav\" class=\"icn icn-fav\" title=\"收藏\"></span><span data-res-id=\"115569\" data-res-type=\"18\" data-res-action=\"share\" data-res-name=\"护花使者\" data-res-author=\"李克勤\" data-res-pic=\"http://p1.music.126.net/dUF2QZtXNkjdtyHPD_cn5Q==/109951163157531184.jpg\" class=\"icn icn-share\" title=\"分享\">分享</span><span data-res-id=\"115569\" data-res-type=\"18\" data-res-action=\"download\" class=\"icn icn-dl\" title=\"下载\"></span></div></td><td class=\"\"><div class=\"text\" title=\"李克勤\"><span title=\"李克勤\"><a class=\"\" href=\"/artist?id=3699\" hidefocus=\"true\">李<div class=\"soil\">县本到算</div>克勤</a></span></div></td><td class=\"\"><div class=\"text\"><a href=\"/album?id=11312\" title=\"雨中街头剧\">雨中街<div class=\"soil\">櫢箕刓聎</div>头剧</a></div></td></tr><tr id=\"4859925061580141327524\" class=\" \"><td class=\"left\"><div class=\"hd \"><span data-res-id=\"485992506\" data-res-type=\"18\" data-res-action=\"play\" data-res-from=\"13\" data-res-data=\"2945028696\" class=\"ply \">&nbsp;</span><span class=\"num\">8</span></div></td><td class=\"\"><div class=\"f-cb\"><div class=\"tt\"><div class=\"ttc\"><span class=\"txt\"><a href=\"/song?id=485992506\"><b title=\"大约在冬季\">大约<div class=\"soil\">走改确想</div>在冬季</b></a></span></div></div></div></td><td class=\" s-fc3\"><span class=\"u-dur \">03:50</span><div class=\"opt hshow\"><a class=\"u-icn u-icn-81 icn-add\" href=\"javascript:;\" title=\"添加到播放列表\" hidefocus=\"true\" data-res-type=\"18\" data-res-id=\"485992506\" data-res-action=\"addto\" data-res-from=\"13\" data-res-data=\"2945028696\"></a><span data-res-id=\"485992506\" data-res-type=\"18\" data-res-action=\"fav\" class=\"icn icn-fav\" title=\"收藏\"></span><span data-res-id=\"485992506\" data-res-type=\"18\" data-res-action=\"share\" data-res-name=\"大约在冬季\" data-res-author=\"齐秦\" data-res-pic=\"http://p2.music.126.net/6IeN3pIIxJ56oKGmLQwKOQ==/17875860044768131.jpg\" class=\"icn icn-share\" title=\"分享\">分享</span><span data-res-id=\"485992506\" data-res-type=\"18\" data-res-action=\"download\" class=\"icn icn-dl\" title=\"下载\"></span></div></td><td class=\"\"><div class=\"text\" title=\"齐秦\"><span title=\"齐秦\"><a class=\"\" href=\"/artist?id=4813\" hidefocus=\"true\">齐<div class=\"soil\">阷侮礹</div>秦</a></span></div></td><td class=\"\"><div class=\"text\"><a href=\"/album?id=35630863\" title=\"Elements&nbsp;-&nbsp;国语歌曲\">Elements&nbsp;-&nbsp;国语<div class=\"soil\">过大有回</div>歌曲</a></div></td></tr><tr id=\"3071981580141327524\" class=\"even \"><td class=\"left\"><div class=\"hd \"><span data-res-id=\"307198\" data-res-type=\"18\" data-res-action=\"play\" data-res-from=\"13\" data-res-data=\"2945028696\" class=\"ply \">&nbsp;</span><span class=\"num\">9</span></div></td><td class=\"\"><div class=\"f-cb\"><div class=\"tt\"><div class=\"ttc\"><span class=\"txt\"><a href=\"/song?id=307198\"><b title=\"最熟悉的陌生人\">最<div class=\"soil\">半任毛文儿</div>熟悉的陌生人</b></a><span data-res-id=\"307198\" data-res-action=\"mv\" title=\"播放mv\" class=\"mv\">MV</span></span></div></div></div></td><td class=\" s-fc3\"><span class=\"u-dur \">04:22</span><div class=\"opt hshow\"><a class=\"u-icn u-icn-81 icn-add\" href=\"javascript:;\" title=\"添加到播放列表\" hidefocus=\"true\" data-res-type=\"18\" data-res-id=\"307198\" data-res-action=\"addto\" data-res-from=\"13\" data-res-data=\"2945028696\"></a><span data-res-id=\"307198\" data-res-type=\"18\" data-res-action=\"fav\" class=\"icn icn-fav\" title=\"收藏\"></span><span data-res-id=\"307198\" data-res-type=\"18\" data-res-action=\"share\" data-res-name=\"最熟悉的陌生人\" data-res-author=\"萧亚轩\" data-res-pic=\"http://p1.music.126.net/C3EQm52H53nEtX004JsRkA==/109951163250091338.jpg\" class=\"icn icn-share\" title=\"分享\">分享</span><span data-res-id=\"307198\" data-res-type=\"18\" data-res-action=\"download\" class=\"icn icn-dl\" title=\"下载\"></span></div></td><td class=\"\"><div class=\"text\" title=\"萧亚轩\"><span title=\"萧亚轩\"><a class=\"\" href=\"/artist?id=9945\" hidefocus=\"true\">萧<div class=\"soil\">转位条她</div>亚轩</a></span></div></td><td class=\"\"><div class=\"text\"><a href=\"/album?id=30508\" title=\"首选萧亚轩.美丽的插曲\">首选萧亚轩.<div class=\"soil\">烙</div>美丽的插曲</a></div></td></tr><tr id=\"1679121580141327524\" class=\" \"><td class=\"left\"><div class=\"hd \"><span data-res-id=\"167912\" data-res-type=\"18\" data-res-action=\"play\" data-res-from=\"13\" data-res-data=\"2945028696\" class=\"ply \">&nbsp;</span><span class=\"num\">10</span></div></td><td class=\"\"><div class=\"f-cb\"><div class=\"tt\"><div class=\"ttc\"><span class=\"txt\"><a href=\"/song?id=167912\"><b title=\"新不了情\">新不<div class=\"soil\">她之团</div>了情</b></a><span data-res-id=\"167912\" data-res-action=\"mv\" title=\"播放mv\" class=\"mv\">MV</span></span></div></div></div></td><td class=\" s-fc3\"><span class=\"u-dur \">04:24</span><div class=\"opt hshow\"><a class=\"u-icn u-icn-81 icn-add\" href=\"javascript:;\" title=\"添加到播放列表\" hidefocus=\"true\" data-res-type=\"18\" data-res-id=\"167912\" data-res-action=\"addto\" data-res-from=\"13\" data-res-data=\"2945028696\"></a><span data-res-id=\"167912\" data-res-type=\"18\" data-res-action=\"fav\" class=\"icn icn-fav\" title=\"收藏\"></span><span data-res-id=\"167912\" data-res-type=\"18\" data-res-action=\"share\" data-res-name=\"新不了情\" data-res-author=\"萧敬腾\" data-res-pic=\"http://p2.music.126.net/n4rCFiFFxb81OrJ8Bl9PXA==/109951163076302415.jpg\" class=\"icn icn-share\" title=\"分享\">分享</span><span data-res-id=\"167912\" data-res-type=\"18\" data-res-action=\"download\" class=\"icn icn-dl\" title=\"下载\"></span></div></td><td class=\"\"><div class=\"text\" title=\"萧敬腾\"><span title=\"萧敬腾\"><a class=\"\" href=\"/artist?id=5768\" hidefocus=\"true\">萧<div class=\"soil\">经法千集市</div>敬腾</a></span></div></td><td class=\"\"><div class=\"text\"><a href=\"/album?id=16958\" title=\"爱的时刻自选辑\">爱的<div class=\"soil\">莎宙</div>时刻自选辑</a></div></td></tr><tr id=\"1884321580141327524\" class=\"even \"><td class=\"left\"><div class=\"hd \"><span data-res-id=\"188432\" data-res-type=\"18\" data-res-action=\"play\" data-res-from=\"13\" data-res-data=\"2945028696\" class=\"ply \">&nbsp;</span><span class=\"num\">11</span></div></td><td class=\"\"><div class=\"f-cb\"><div class=\"tt\"><div class=\"ttc\"><span class=\"txt\"><a href=\"/song?id=188432\"><b title=\"如果这都不算爱\">如果<div class=\"soil\">乾瑝</div>这都不算爱</b></a></span></div></div></div></td><td class=\" s-fc3\"><span class=\"u-dur \">03:35</span><div class=\"opt hshow\"><a class=\"u-icn u-icn-81 icn-add\" href=\"javascript:;\" title=\"添加到播放列表\" hidefocus=\"true\" data-res-type=\"18\" data-res-id=\"188432\" data-res-action=\"addto\" data-res-from=\"13\" data-res-data=\"2945028696\"></a><span data-res-id=\"188432\" data-res-type=\"18\" data-res-action=\"fav\" class=\"icn icn-fav\" title=\"收藏\"></span><span data-res-id=\"188432\" data-res-type=\"18\" data-res-action=\"share\" data-res-name=\"如果这都不算爱\" data-res-author=\"张学友\" data-res-pic=\"http://p1.music.126.net/blZlhdVmYSUwgqSUxFs88Q==/19047939439853431.jpg\" class=\"icn icn-share\" title=\"分享\">分享</span><span data-res-id=\"188432\" data-res-type=\"18\" data-res-action=\"download\" class=\"icn icn-dl\" title=\"下载\"></span></div></td><td class=\"\"><div class=\"text\" title=\"张学友\"><span title=\"张学友\"><a class=\"\" href=\"/artist?id=6460\" hidefocus=\"true\">张<div class=\"soil\">少住习</div>学友</a></span></div></td><td class=\"\"><div class=\"text\"><a href=\"/album?id=19076\" title=\"学友&nbsp;热\">学<div class=\"soil\">碟訌豚</div>友&nbsp;热</a></div></td></tr><tr id=\"1679161580141327524\" class=\" \"><td class=\"left\"><div class=\"hd \"><span data-res-id=\"167916\" data-res-type=\"18\" data-res-action=\"play\" data-res-from=\"13\" data-res-data=\"2945028696\" class=\"ply \">&nbsp;</span><span class=\"num\">12</span></div></td><td class=\"\"><div class=\"f-cb\"><div class=\"tt\"><div class=\"ttc\"><span class=\"txt\"><a href=\"/song?id=167916\"><b title=\"梦一场\">梦<div class=\"soil\">坴</div>一场</b></a></span></div></div></div></td><td class=\" s-fc3\"><span class=\"u-dur \">03:46</span><div class=\"opt hshow\"><a class=\"u-icn u-icn-81 icn-add\" href=\"javascript:;\" title=\"添加到播放列表\" hidefocus=\"true\" data-res-type=\"18\" data-res-id=\"167916\" data-res-action=\"addto\" data-res-from=\"13\" data-res-data=\"2945028696\"></a><span data-res-id=\"167916\" data-res-type=\"18\" data-res-action=\"fav\" class=\"icn icn-fav\" title=\"收藏\"></span><span data-res-id=\"167916\" data-res-type=\"18\" data-res-action=\"share\" data-res-name=\"梦一场\" data-res-author=\"萧敬腾\" data-res-pic=\"http://p2.music.126.net/n4rCFiFFxb81OrJ8Bl9PXA==/109951163076302415.jpg\" class=\"icn icn-share\" title=\"分享\">分享</span><span data-res-id=\"167916\" data-res-type=\"18\" data-res-action=\"download\" class=\"icn icn-dl\" title=\"下载\"></span></div></td><td class=\"\"><div class=\"text\" title=\"萧敬腾\"><span title=\"萧敬腾\"><a class=\"\" href=\"/artist?id=5768\" hidefocus=\"true\">萧<div class=\"soil\">搏砰</div>敬腾</a></span></div></td><td class=\"\"><div class=\"text\"><a href=\"/album?id=16958\" title=\"爱的时刻自选辑\">爱的时刻<div class=\"soil\">九资离许</div>自选辑</a></div></td></tr><tr id=\"309031171580141327524\" class=\"even \"><td class=\"left\"><div class=\"hd \"><span data-res-id=\"30903117\" data-res-type=\"18\" data-res-action=\"play\" data-res-from=\"13\" data-res-data=\"2945028696\" class=\"ply \">&nbsp;</span><span class=\"num\">13</span></div></td><td class=\"\"><div class=\"f-cb\"><div class=\"tt\"><div class=\"ttc\"><span class=\"txt\"><a href=\"/song?id=30903117\"><b title=\"漂洋过海来看你\">漂<div class=\"soil\">快专太领</div>洋过海来看你</b></a></span></div></div></div></td><td class=\" s-fc3\"><span class=\"u-dur \">03:03</span><div class=\"opt hshow\"><a class=\"u-icn u-icn-81 icn-add\" href=\"javascript:;\" title=\"添加到播放列表\" hidefocus=\"true\" data-res-type=\"18\" data-res-id=\"30903117\" data-res-action=\"addto\" data-res-from=\"13\" data-res-data=\"2945028696\"></a><span data-res-id=\"30903117\" data-res-type=\"18\" data-res-action=\"fav\" class=\"icn icn-fav\" title=\"收藏\"></span><span data-res-id=\"30903117\" data-res-type=\"18\" data-res-action=\"share\" data-res-name=\"漂洋过海来看你\" data-res-author=\"周深\" data-res-pic=\"http://p1.music.126.net/nghrV1_ZW6lht9Ue7r4Ffg==/7697680906845029.jpg\" class=\"icn icn-share\" title=\"分享\">分享</span><span data-res-id=\"30903117\" data-res-type=\"18\" data-res-action=\"download\" class=\"icn icn-dl\" title=\"下载\"></span></div></td><td class=\"\"><div class=\"text\" title=\"周深\"><span title=\"周深\"><a class=\"\" href=\"/artist?id=1030001\" hidefocus=\"true\">周<div class=\"soil\">鉝擗</div>深</a></span></div></td><td class=\"\"><div class=\"text\"><a href=\"/album?id=3106026\" title=\"漂洋过海来看你\">漂<div class=\"soil\">往题性白</div>洋过海来看你</a></div></td></tr><tr id=\"2123761580141327524\" class=\" \"><td class=\"left\"><div class=\"hd \"><span data-res-id=\"212376\" data-res-type=\"18\" data-res-action=\"play\" data-res-from=\"13\" data-res-data=\"2945028696\" class=\"ply \">&nbsp;</span><span class=\"num\">14</span></div></td><td class=\"\"><div class=\"f-cb\"><div class=\"tt\"><div class=\"ttc\"><span class=\"txt\"><a href=\"/song?id=212376\"><b title=\"傻女\">傻<div class=\"soil\">卻</div>女</b></a></span></div></div></div></td><td class=\" s-fc3\"><span class=\"u-dur \">03:50</span><div class=\"opt hshow\"><a class=\"u-icn u-icn-81 icn-add\" href=\"javascript:;\" title=\"添加到播放列表\" hidefocus=\"true\" data-res-type=\"18\" data-res-id=\"212376\" data-res-action=\"addto\" data-res-from=\"13\" data-res-data=\"2945028696\"></a><span data-res-id=\"212376\" data-res-type=\"18\" data-res-action=\"fav\" class=\"icn icn-fav\" title=\"收藏\"></span><span data-res-id=\"212376\" data-res-type=\"18\" data-res-action=\"share\" data-res-name=\"傻女\" data-res-author=\"陈慧娴\" data-res-pic=\"http://p1.music.126.net/hPoSYFGVAfYjV3JiSObglQ==/109951163637041877.jpg\" class=\"icn icn-share\" title=\"分享\">分享</span><span data-res-id=\"212376\" data-res-type=\"18\" data-res-action=\"download\" class=\"icn icn-dl\" title=\"下载\"></span></div></td><td class=\"\"><div class=\"text\" title=\"陈慧娴\"><span title=\"陈慧娴\"><a class=\"\" href=\"/artist?id=7225\" hidefocus=\"true\">陈<div class=\"soil\">派性府</div>慧娴</a></span></div></td><td class=\"\"><div class=\"text\"><a href=\"/album?id=21521\" title=\"陈慧娴金曲精选26首\">陈慧娴金<div class=\"soil\">现生经</div>曲精选26首</a></div></td></tr><tr id=\"3475971580141327524\" class=\"even \"><td class=\"left\"><div class=\"hd \"><span data-res-id=\"347597\" data-res-type=\"18\" data-res-action=\"play\" data-res-from=\"13\" data-res-data=\"2945028696\" class=\"ply \">&nbsp;</span><span class=\"num\">15</span></div></td><td class=\"\"><div class=\"f-cb\"><div class=\"tt\"><div class=\"ttc\"><span class=\"txt\"><a href=\"/song?id=347597\"><b title=\"不再犹豫\">不<div class=\"soil\">曀</div>再犹豫</b></a><span data-res-id=\"347597\" data-res-action=\"mv\" title=\"播放mv\" class=\"mv\">MV</span></span></div></div></div></td><td class=\" s-fc3\"><span class=\"u-dur \">04:12</span><div class=\"opt hshow\"><a class=\"u-icn u-icn-81 icn-add\" href=\"javascript:;\" title=\"添加到播放列表\" hidefocus=\"true\" data-res-type=\"18\" data-res-id=\"347597\" data-res-action=\"addto\" data-res-from=\"13\" data-res-data=\"2945028696\"></a><span data-res-id=\"347597\" data-res-type=\"18\" data-res-action=\"fav\" class=\"icn icn-fav\" title=\"收藏\"></span><span data-res-id=\"347597\" data-res-type=\"18\" data-res-action=\"share\" data-res-name=\"不再犹豫\" data-res-author=\"Beyond\" data-res-pic=\"http://p2.music.126.net/jFVtPnc0-cBv4k2_Fuld-A==/54975581392009.jpg\" class=\"icn icn-share\" title=\"分享\">分享</span><span data-res-id=\"347597\" data-res-type=\"18\" data-res-action=\"download\" class=\"icn icn-dl\" title=\"下载\"></span></div></td><td class=\"\"><div class=\"text\" title=\"Beyond\"><span title=\"Beyond\"><a class=\"\" href=\"/artist?id=11127\" hidefocus=\"true\">Bey<div class=\"soil\">E</div>ond</a></span></div></td><td class=\"\"><div class=\"text\"><a href=\"/album?id=34250\" title=\"犹豫\">犹<div class=\"soil\">埑餺插</div>豫</a></div></td></tr><tr id=\"3498921580141327524\" class=\" \"><td class=\"left\"><div class=\"hd \"><span data-res-id=\"349892\" data-res-type=\"18\" data-res-action=\"play\" data-res-from=\"13\" data-res-data=\"2945028696\" class=\"ply \">&nbsp;</span><span class=\"num\">16</span></div></td><td class=\"\"><div class=\"f-cb\"><div class=\"tt\"><div class=\"ttc\"><span class=\"txt\"><a href=\"/song?id=349892\"><b title=\"失恋阵线联盟\">失<div class=\"soil\">知才同</div>恋阵线联盟</b></a><span data-res-id=\"349892\" data-res-action=\"mv\" title=\"播放mv\" class=\"mv\">MV</span></span></div></div></div></td><td class=\" s-fc3\"><span class=\"u-dur \">02:53</span><div class=\"opt hshow\"><a class=\"u-icn u-icn-81 icn-add\" href=\"javascript:;\" title=\"添加到播放列表\" hidefocus=\"true\" data-res-type=\"18\" data-res-id=\"349892\" data-res-action=\"addto\" data-res-from=\"13\" data-res-data=\"2945028696\"></a><span data-res-id=\"349892\" data-res-type=\"18\" data-res-action=\"fav\" class=\"icn icn-fav\" title=\"收藏\"></span><span data-res-id=\"349892\" data-res-type=\"18\" data-res-action=\"share\" data-res-name=\"失恋阵线联盟\" data-res-author=\"草蜢\" data-res-pic=\"http://p2.music.126.net/tkwRHzFfJjnJBhUIt3l5_w==/109951163023777895.jpg\" class=\"icn icn-share\" title=\"分享\">分享</span><span data-res-id=\"349892\" data-res-type=\"18\" data-res-action=\"download\" class=\"icn icn-dl\" title=\"下载\"></span></div></td><td class=\"\"><div class=\"text\" title=\"草蜢\"><span title=\"草蜢\"><a class=\"\" href=\"/artist?id=11265\" hidefocus=\"true\">草<div class=\"soil\">鑢椷畟</div>蜢</a></span></div></td><td class=\"\"><div class=\"text\"><a href=\"/album?id=34488\" title=\"失恋阵线联盟\">失恋阵线<div class=\"soil\">裹疲沉</div>联盟</a></div></td></tr><tr id=\"1904951580141327524\" class=\"even \"><td class=\"left\"><div class=\"hd \"><span data-res-id=\"190495\" data-res-type=\"18\" data-res-action=\"play\" data-res-from=\"13\" data-res-data=\"2945028696\" class=\"ply \">&nbsp;</span><span class=\"num\">17</span></div></td><td class=\"\"><div class=\"f-cb\"><div class=\"tt\"><div class=\"ttc\"><span class=\"txt\"><a href=\"/song?id=190495\"><b title=\"雨一直下 - (台视《情深到来生》片头主题曲)\">雨<div class=\"soil\">天九满运位</div>一直下</b></a><span title=\"台视《情深到来生》片头主题曲\" class=\"s-fc8\"> - (台<div class=\"soil\">畠</div>视《情深到来生》片头主题曲)</span></span></div></div></div></td><td class=\" s-fc3\"><span class=\"u-dur \">04:54</span><div class=\"opt hshow\"><a class=\"u-icn u-icn-81 icn-add\" href=\"javascript:;\" title=\"添加到播放列表\" hidefocus=\"true\" data-res-type=\"18\" data-res-id=\"190495\" data-res-action=\"addto\" data-res-from=\"13\" data-res-data=\"2945028696\"></a><span data-res-id=\"190495\" data-res-type=\"18\" data-res-action=\"fav\" class=\"icn icn-fav\" title=\"收藏\"></span><span data-res-id=\"190495\" data-res-type=\"18\" data-res-action=\"share\" data-res-name=\"雨一直下\" data-res-author=\"张宇\" data-res-pic=\"http://p1.music.126.net/otCQ-2wUgLaEN2_W8Nf_DA==/57174604656249.jpg\" class=\"icn icn-share\" title=\"分享\">分享</span><span data-res-id=\"190495\" data-res-type=\"18\" data-res-action=\"download\" class=\"icn icn-dl\" title=\"下载\"></span></div></td><td class=\"\"><div class=\"text\" title=\"张宇\"><span title=\"张宇\"><a class=\"\" href=\"/artist?id=6469\" hidefocus=\"true\">张<div class=\"soil\">变往必以</div>宇</a></span></div></td><td class=\"\"><div class=\"text\"><a href=\"/album?id=19247\" title=\"雨一直下\">雨<div class=\"soil\">騉崐盤碶</div>一直下</a></div></td></tr><tr id=\"3477051580141327524\" class=\" \"><td class=\"left\"><div class=\"hd \"><span data-res-id=\"347705\" data-res-type=\"18\" data-res-action=\"play\" data-res-from=\"13\" data-res-data=\"2945028696\" class=\"ply \">&nbsp;</span><span class=\"num\">18</span></div></td><td class=\"\"><div class=\"f-cb\"><div class=\"tt\"><div class=\"ttc\"><span class=\"txt\"><a href=\"/song?id=347705\"><b title=\"天若有情 - (电影《天若有情》插曲)\">天<div class=\"soil\">书提</div>若有情</b></a><span title=\"电影《天若有情》插曲\" class=\"s-fc8\"> - (电影《天若有情》<div class=\"soil\">杉頭</div>插曲)</span></span></div></div></div></td><td class=\" s-fc3\"><span class=\"u-dur \">03:51</span><div class=\"opt hshow\"><a class=\"u-icn u-icn-81 icn-add\" href=\"javascript:;\" title=\"添加到播放列表\" hidefocus=\"true\" data-res-type=\"18\" data-res-id=\"347705\" data-res-action=\"addto\" data-res-from=\"13\" data-res-data=\"2945028696\"></a><span data-res-id=\"347705\" data-res-type=\"18\" data-res-action=\"fav\" class=\"icn icn-fav\" title=\"收藏\"></span><span data-res-id=\"347705\" data-res-type=\"18\" data-res-action=\"share\" data-res-name=\"天若有情\" data-res-author=\"袁凤瑛\" data-res-pic=\"http://p1.music.126.net/f2_DZSqxD4PU3shoi-yTPQ==/106652627897489.jpg\" class=\"icn icn-share\" title=\"分享\">分享</span><span data-res-id=\"347705\" data-res-type=\"18\" data-res-action=\"download\" class=\"icn icn-dl\" title=\"下载\"></span></div></td><td class=\"\"><div class=\"text\" title=\"袁凤瑛\"><span title=\"袁凤瑛\"><a class=\"\" href=\"/artist?id=10245\" hidefocus=\"true\">袁<div class=\"soil\">赲赻苭</div>凤瑛</a></span></div></td><td class=\"\"><div class=\"text\"><a href=\"/album?id=34264\" title=\"天若有情\">天<div class=\"soil\">备轅</div>若有情</a></div></td></tr><tr id=\"279374661580141327524\" class=\"even \"><td class=\"left\"><div class=\"hd \"><span data-res-id=\"27937466\" data-res-type=\"18\" data-res-action=\"play\" data-res-from=\"13\" data-res-data=\"2945028696\" class=\"ply \">&nbsp;</span><span class=\"num\">19</span></div></td><td class=\"\"><div class=\"f-cb\"><div class=\"tt\"><div class=\"ttc\"><span class=\"txt\"><a href=\"/song?id=27937466\"><b title=\"忽然之间\">忽<div class=\"soil\">筊秧穸阫</div>然之间</b></a></span></div></div></div></td><td class=\" s-fc3\"><span class=\"u-dur \">03:22</span><div class=\"opt hshow\"><a class=\"u-icn u-icn-81 icn-add\" href=\"javascript:;\" title=\"添加到播放列表\" hidefocus=\"true\" data-res-type=\"18\" data-res-id=\"27937466\" data-res-action=\"addto\" data-res-from=\"13\" data-res-data=\"2945028696\"></a><span data-res-id=\"27937466\" data-res-type=\"18\" data-res-action=\"fav\" class=\"icn icn-fav\" title=\"收藏\"></span><span data-res-id=\"27937466\" data-res-type=\"18\" data-res-action=\"share\" data-res-name=\"忽然之间\" data-res-author=\"莫文蔚\" data-res-pic=\"http://p1.music.126.net/iNcrt344tK6tME6tCbcbTw==/5818615534203000.jpg\" class=\"icn icn-share\" title=\"分享\">分享</span><span data-res-id=\"27937466\" data-res-type=\"18\" data-res-action=\"download\" class=\"icn icn-dl\" title=\"下载\"></span></div></td><td class=\"\"><div class=\"text\" title=\"莫文蔚\"><span title=\"莫文蔚\"><a class=\"\" href=\"/artist?id=8926\" hidefocus=\"true\">莫<div class=\"soil\">汖</div>文蔚</a></span></div></td><td class=\"\"><div class=\"text\"><a href=\"/album?id=2685303\" title=\"莫后年代&nbsp;莫文蔚20周年世纪典藏\">莫后年<div class=\"soil\">褤</div>代&nbsp;莫文蔚20周年世纪典藏</a></div></td></tr><tr id=\"3512711580141327524\" class=\" \"><td class=\"left\"><div class=\"hd \"><span data-res-id=\"351271\" data-res-type=\"18\" data-res-action=\"play\" data-res-from=\"13\" data-res-data=\"2945028696\" class=\"ply \">&nbsp;</span><span class=\"num\">20</span></div></td><td class=\"\"><div class=\"f-cb\"><div class=\"tt\"><div class=\"ttc\"><span class=\"txt\"><a href=\"/song?id=351271\"><b title=\"那就这样吧\">那就<div class=\"soil\">頪</div>这样吧</b></a></span></div></div></div></td><td class=\" s-fc3\"><span class=\"u-dur \">04:36</span><div class=\"opt hshow\"><a class=\"u-icn u-icn-81 icn-add\" href=\"javascript:;\" title=\"添加到播放列表\" hidefocus=\"true\" data-res-type=\"18\" data-res-id=\"351271\" data-res-action=\"addto\" data-res-from=\"13\" data-res-data=\"2945028696\"></a><span data-res-id=\"351271\" data-res-type=\"18\" data-res-action=\"fav\" class=\"icn icn-fav\" title=\"收藏\"></span><span data-res-id=\"351271\" data-res-type=\"18\" data-res-action=\"share\" data-res-name=\"那就这样吧\" data-res-author=\"动力火车\" data-res-pic=\"http://p2.music.126.net/OgwL-MYu5rdXUw_PIGKp4g==/109951163167393472.jpg\" class=\"icn icn-share\" title=\"分享\">分享</span><span data-res-id=\"351271\" data-res-type=\"18\" data-res-action=\"download\" class=\"icn icn-dl\" title=\"下载\"></span></div></td><td class=\"\"><div class=\"text\" title=\"动力火车\"><span title=\"动力火车\"><a class=\"\" href=\"/artist?id=11363\" hidefocus=\"true\">动<div class=\"soil\">己间府中</div>力火车</a></span></div></td><td class=\"\"><div class=\"text\"><a href=\"/album?id=34613\" title=\"再见我的爱人\">再见<div class=\"soil\">明几百角基</div>我的爱人</a></div></td></tr></tbody>\n",
    "'''\n",
    "content = re.sub('<tr.*?<span\\sclass=\"txt\">', '', content, re.S)\n",
    "\n",
    "print(content)"
   ]
  },
  {
   "cell_type": "markdown",
   "metadata": {},
   "source": [
    "### re.compile"
   ]
  },
  {
   "cell_type": "markdown",
   "metadata": {},
   "source": [
    "将正则字符串编译成正则表达式对象"
   ]
  },
  {
   "cell_type": "code",
   "execution_count": 17,
   "metadata": {},
   "outputs": [
    {
     "name": "stdout",
     "output_type": "stream",
     "text": [
      "<re.Match object; span=(0, 41), match='Hello 1234567 World_This \\nis a Regex Demo'>\n",
      "<re.Match object; span=(0, 41), match='Hello 1234567 World_This \\nis a Regex Demo'>\n"
     ]
    }
   ],
   "source": [
    "import re\n",
    "\n",
    "content = '''Hello 1234567 World_This \n",
    "is a Regex Demo\n",
    "'''\n",
    "pattern = re.compile('Hello.*Demo', re.S)\n",
    "result_p = re.match(pattern, content)\n",
    "result = re.match('Hello.*Demo',content, re.S)\n",
    "print(result_p)\n",
    "print(result)"
   ]
  },
  {
   "cell_type": "markdown",
   "metadata": {},
   "source": [
    "## 实战练习"
   ]
  },
  {
   "cell_type": "code",
   "execution_count": 13,
   "metadata": {},
   "outputs": [
    {
     "name": "stdout",
     "output_type": "stream",
     "text": [
      "https://book.douban.com/subject/34845967/?icn=index-latestbook-subject 猫的桌子 [加拿大]迈克尔·翁达杰 2020-1-2\n",
      "https://book.douban.com/subject/34875240/?icn=index-latestbook-subject 竹不如肉 张宇凌 2020-1-1\n",
      "https://book.douban.com/subject/34900198/?icn=index-latestbook-subject 说吧，房间 林白 2020-1-1\n",
      "https://book.douban.com/subject/34915474/?icn=index-latestbook-subject 殖民地时期的拉丁美洲艺术 [加]高文·亚历山大·贝利&nbsp;/&nbsp;GauvinAlexanderBailey 2020-1\n",
      "https://book.douban.com/subject/34912658/?icn=index-latestbook-subject 末世恋人 [法]恩基·比拉 2020-1\n",
      "https://book.douban.com/subject/34876107/?icn=index-latestbook-subject 无处安放的同情 [德]汉宁·里德 2020-1\n",
      "https://book.douban.com/subject/34901550/?icn=index-latestbook-subject 企鹅之旅 [意]埃米利亚诺·庞兹 2019-12-1\n",
      "https://book.douban.com/subject/34851670/?icn=index-latestbook-subject 建筑与虚无主义 [意]马西莫·卡奇亚里 2020-1\n",
      "https://book.douban.com/subject/34826160/?icn=index-latestbook-subject 好兵帅克 [捷克]雅洛斯拉夫·哈谢克 2019-12\n",
      "https://book.douban.com/subject/34894713/?icn=index-latestbook-subject 妻子们的思秋期 [日]斋藤茂男 2020-1\n",
      "https://book.douban.com/subject/34895981/?icn=index-latestbook-subject 罗密欧或朱丽叶 [加]瑞安·诺思 2020-1\n",
      "https://book.douban.com/subject/34895737/?icn=index-latestbook-subject 守山 肖林&nbsp;/&nbsp;王蕾 2020-1\n",
      "https://book.douban.com/subject/34899025/?icn=index-latestbook-subject 雾岛夜随 不流 2020-1\n",
      "https://book.douban.com/subject/34908331/?icn=index-latestbook-subject 交往在云端 [美]南希·K.拜厄姆 2020\n",
      "https://book.douban.com/subject/34441057/?icn=index-latestbook-subject 未来的最后一年 [加]罗伯特·查尔斯·威尔森 2020-1\n",
      "https://book.douban.com/subject/34907898/?icn=index-latestbook-subject 实验室女孩 [美]霍普·洁伦 2019-12\n",
      "https://book.douban.com/subject/34869654/?icn=index-latestbook-subject 埃郡往事 [加]杰夫·勒米尔 2020-1-10\n",
      "https://book.douban.com/subject/34895571/?icn=index-latestbook-subject 饱食穷民 [日]斋藤茂男 2020-1\n",
      "https://book.douban.com/subject/34911007/?icn=index-latestbook-subject 世界的误算3：永生之惑 宋钊 2020-1\n",
      "https://book.douban.com/subject/34911695/?icn=index-latestbook-subject 丝绸之路与唐帝国 森安孝夫 2020-1\n",
      "https://book.douban.com/subject/34884051/?icn=index-latestbook-subject 镖人 许先哲 2020-1\n",
      "https://book.douban.com/subject/34909866/?icn=index-latestbook-subject 四十年新闻摄影：图片社时代 [法]米歇尔·赛邦&nbsp;/&nbsp;玛丽·库赞 2019-12\n",
      "https://book.douban.com/subject/34879507/?icn=index-latestbook-subject 萨基短篇小说选 [英]萨基 2020-1\n",
      "https://book.douban.com/subject/34894034/?icn=index-latestbook-subject 摆脱共情 [加]保罗·布卢姆（PaulBloom） 2019-12-5\n",
      "https://book.douban.com/subject/34913278/?icn=index-latestbook-subject 记忆偏离 吴楚 2019-12-12\n",
      "https://book.douban.com/subject/30426213/?icn=index-latestbook-subject 西中有东 清华大学国学研究院编&nbsp;/&nbsp;[美]包华石主讲 2020-1\n",
      "https://book.douban.com/subject/34661992/?icn=index-latestbook-subject 不存在的骑士 [意]伊塔洛·卡尔维诺 2020-1\n",
      "https://book.douban.com/subject/34897038/?icn=index-latestbook-subject 地球上最孤单的动物 [英]米莉·玛洛塔&nbsp;/&nbsp;MillieMarotta 2020-2\n",
      "https://book.douban.com/subject/34710239/?icn=index-latestbook-subject 钢琴的重量 [美]克丽丝·坎德 2020-1-13\n",
      "https://book.douban.com/subject/34900595/?icn=index-latestbook-subject 食物探险者 [美]丹尼尔·斯通 2020-1-1\n",
      "https://book.douban.com/subject/34933266/?icn=index-latestbook-subject 隐 赵松 2020-2\n",
      "https://book.douban.com/subject/33420963/?icn=index-latestbook-subject 清酒之魂 [日]盐野米松；[日]农口尚彦 2020-2\n",
      "https://book.douban.com/subject/34894778/?icn=index-latestbook-subject 生命的滋味 【墨】莱娅·胡芙蕾莎 2019-12\n",
      "https://book.douban.com/subject/34840609/?icn=index-latestbook-subject 广场与高塔 尼尔·弗格森NiallFerguson 2020-1\n",
      "https://book.douban.com/subject/34857882/?icn=index-latestbook-subject 引恶之名 [日]真梨幸子 2020-1\n",
      "https://book.douban.com/subject/34434934/?icn=index-latestbook-subject 天才时代 [英]A.C.格雷林 2019-12\n",
      "https://book.douban.com/subject/34908129/?icn=index-latestbook-subject 2019年中国悬疑小说精选 华斯比选编&nbsp;/&nbsp;海漄&nbsp;/&nbsp;何慕&nbsp;/&nbsp;言桄&nbsp;/&nbsp;方洋&nbsp;/&nbsp;中生礼&nbsp;/&nbsp;凌小灵&nbsp;/&nbsp;青稞&nbsp;/&nbsp;柳荐棉&nbsp;/&nbsp;豆包&nbsp;/&nbsp;雷钧 2020-1\n",
      "https://book.douban.com/subject/34892525/?icn=index-latestbook-subject 几何原本 [古希腊]欧几里得 2019-12-10\n",
      "https://book.douban.com/subject/34921617/?icn=index-latestbook-subject 生命伴侣 朱文颖 2020-1\n",
      "https://book.douban.com/subject/30389717/?icn=index-latestbook-subject 花园里的哲学 [西]圣地亚哥•贝鲁埃特 2019-12\n"
     ]
    }
   ],
   "source": [
    "import requests\n",
    "import re\n",
    "\n",
    "proxies = {\n",
    "    'http':'http://127.0.0.1:1080',\n",
    "    'https':'https://127.0.0.1:1080'\n",
    "}\n",
    "headers = {\n",
    "    'user-agent': 'Mozilla/5.0 (Windows NT 10.0; Win64; x64) AppleWebKit/537.36 (KHTML, like Gecko) Chrome/79.0.3945.130 Safari/537.36'\n",
    "}\n",
    "html = requests.get('https://book.douban.com/', proxies=proxies, headers=headers).text\n",
    "#print(html.text)\n",
    "pattern = re.compile('<li.*?cover.*?href=\"(.*?)\"\\stitle=\"(.*?)\".*?more-meta.*?author\">(.*?)</span>.*?year\">(.*?)</span>.*?</li>', re.S)\n",
    "results = re.findall(pattern, html)\n",
    "for result in results:\n",
    "    url, name, author, date = result\n",
    "    author = re.sub('(\\s+)', '', author)\n",
    "    date = re.sub('(\\s+)', '', date)\n",
    "    print(url, name, author, date)"
   ]
  },
  {
   "cell_type": "code",
   "execution_count": 4,
   "metadata": {},
   "outputs": [
    {
     "name": "stdout",
     "output_type": "stream",
     "text": [
      "https://book.douban.com/subject/34661992/?icn=index-latestbook-subject 不存在的骑士 [意] 伊塔洛·卡尔维诺 2020-1\n",
      "https://book.douban.com/subject/34908331/?icn=index-latestbook-subject 交往在云端 [美] 南希·K.拜厄姆 2020\n",
      "https://book.douban.com/subject/34921617/?icn=index-latestbook-subject 生命伴侣 朱文颖 2020-1\n",
      "https://book.douban.com/subject/34915474/?icn=index-latestbook-subject 殖民地时期的拉丁美洲艺术 [加] 高文·亚历山大·贝利&nbsp;/&nbsp;Gauvin Alexander Bailey 2020-1\n",
      "https://book.douban.com/subject/34899025/?icn=index-latestbook-subject 雾岛夜随 不流 2020-1\n",
      "https://book.douban.com/subject/34897038/?icn=index-latestbook-subject 地球上最孤单的动物 [英] 米莉·玛洛塔&nbsp;/&nbsp;Millie Marotta 2020-2\n",
      "https://book.douban.com/subject/34933266/?icn=index-latestbook-subject 隐 赵松 2020-2\n",
      "https://book.douban.com/subject/34875240/?icn=index-latestbook-subject 竹不如肉 张宇凌 2020-1-1\n",
      "https://book.douban.com/subject/34710239/?icn=index-latestbook-subject 钢琴的重量 [美] 克丽丝·坎德 2020-1-13\n",
      "https://book.douban.com/subject/33420963/?icn=index-latestbook-subject 清酒之魂 [日] 盐野米松；[日] 农口尚彦 2020-2\n",
      "https://book.douban.com/subject/34857882/?icn=index-latestbook-subject 引恶之名 [日] 真梨幸子 2020-1\n",
      "https://book.douban.com/subject/34840609/?icn=index-latestbook-subject 广场与高塔 尼尔·弗格森 Niall Ferguson 2020-1\n",
      "https://book.douban.com/subject/34826160/?icn=index-latestbook-subject 好兵帅克 [捷克] 雅洛斯拉夫·哈谢克 2019-12\n",
      "https://book.douban.com/subject/34894713/?icn=index-latestbook-subject 妻子们的思秋期 [日]斋藤茂男 2020-1\n",
      "https://book.douban.com/subject/34901550/?icn=index-latestbook-subject 企鹅之旅 [意] 埃米利亚诺·庞兹 2019-12-1\n",
      "https://book.douban.com/subject/34911695/?icn=index-latestbook-subject 丝绸之路与唐帝国 森安孝夫 2020-1\n",
      "https://book.douban.com/subject/34912658/?icn=index-latestbook-subject 末世恋人 [法] 恩基·比拉 2020-1\n",
      "https://book.douban.com/subject/34909866/?icn=index-latestbook-subject 四十年新闻摄影：图片社时代 [法] 米歇尔·赛邦&nbsp;/&nbsp;玛丽·库赞 2019-12\n",
      "https://book.douban.com/subject/34884051/?icn=index-latestbook-subject 镖人 许先哲 2020-1\n",
      "https://book.douban.com/subject/34895737/?icn=index-latestbook-subject 守山 肖林&nbsp;/&nbsp;王蕾 2020-1\n",
      "https://book.douban.com/subject/34900198/?icn=index-latestbook-subject 说吧，房间 林白 2020-1-1\n",
      "https://book.douban.com/subject/34851670/?icn=index-latestbook-subject 建筑与虚无主义 [意]马西莫·卡奇亚里 2020-1\n",
      "https://book.douban.com/subject/34845967/?icn=index-latestbook-subject 猫的桌子 [加拿大] 迈克尔·翁达杰 2020-1-2\n",
      "https://book.douban.com/subject/34895571/?icn=index-latestbook-subject 饱食穷民 [日]斋藤茂男 2020-1\n",
      "https://book.douban.com/subject/34894778/?icn=index-latestbook-subject 生命的滋味 【墨】莱娅·胡芙蕾莎 2019-12\n",
      "https://book.douban.com/subject/30389717/?icn=index-latestbook-subject 花园里的哲学 [西] 圣地亚哥 • 贝鲁埃特 2019-12\n",
      "https://book.douban.com/subject/34441057/?icn=index-latestbook-subject 未来的最后一年 [加]罗伯特·查尔斯·威尔森 2020-1\n",
      "https://book.douban.com/subject/34876107/?icn=index-latestbook-subject 无处安放的同情 [德]汉宁·里德 2020-1\n",
      "https://book.douban.com/subject/34911007/?icn=index-latestbook-subject 世界的误算3：永生之惑 宋钊 2020-1\n",
      "https://book.douban.com/subject/34900595/?icn=index-latestbook-subject 食物探险者 [美] 丹尼尔·斯通 2020-1-1\n",
      "https://book.douban.com/subject/34908129/?icn=index-latestbook-subject 2019年中国悬疑小说精选 华斯比 选编&nbsp;/&nbsp;海漄&nbsp;/&nbsp;何慕&nbsp;/&nbsp;言桄&nbsp;/&nbsp;方洋&nbsp;/&nbsp;中生礼&nbsp;/&nbsp;凌小灵&nbsp;/&nbsp;青稞&nbsp;/&nbsp;柳荐棉&nbsp;/&nbsp;豆包&nbsp;/&nbsp;雷钧 2020-1\n",
      "https://book.douban.com/subject/34434934/?icn=index-latestbook-subject 天才时代 [英]A.C.格雷林 2019-12\n",
      "https://book.douban.com/subject/34879507/?icn=index-latestbook-subject 萨基短篇小说选 [英] 萨基 2020-1\n",
      "https://book.douban.com/subject/34892525/?icn=index-latestbook-subject 几何原本 [古希腊]欧几里得 2019-12-10\n",
      "https://book.douban.com/subject/34869654/?icn=index-latestbook-subject 埃郡往事 [加] 杰夫·勒米尔 2020-1-10\n",
      "https://book.douban.com/subject/34894034/?icn=index-latestbook-subject 摆脱共情 [加]保罗·布卢姆（Paul Bloom） 2019-12-5\n",
      "https://book.douban.com/subject/34913278/?icn=index-latestbook-subject 记忆偏离 吴楚 2019-12-12\n",
      "https://book.douban.com/subject/34907898/?icn=index-latestbook-subject 实验室女孩 [美] 霍普·洁伦 2019-12\n",
      "https://book.douban.com/subject/34895981/?icn=index-latestbook-subject 罗密欧或朱丽叶 [加]瑞安·诺思 2020-1\n",
      "https://book.douban.com/subject/30426213/?icn=index-latestbook-subject 西中有东 清华大学国学研究院编&nbsp;/&nbsp;[美]包华石 主讲 2020-1\n"
     ]
    }
   ],
   "source": [
    "import requests\n",
    "import re\n",
    "\n",
    "proxies = {\n",
    "    'http':'http://127.0.0.1:1080',\n",
    "    'https':'https://127.0.0.1:1080'\n",
    "}\n",
    "headers = {\n",
    "    'user-agent': 'Mozilla/5.0 (Windows NT 10.0; Win64; x64) AppleWebKit/537.36 (KHTML, like Gecko) Chrome/79.0.3945.130 Safari/537.36'\n",
    "}\n",
    "html = requests.get('https://book.douban.com/', proxies=proxies, headers=headers).text\n",
    "#print(html.text)\n",
    "pattern = re.compile('<li.*?cover.*?href=\"(.*?)\"\\stitle=\"(.*?)\".*?more-meta.*?author\">(.*?)</span>.*?year\">(.*?)</span>.*?</li>', re.S)\n",
    "results = re.findall(pattern, html)\n",
    "for result in results:\n",
    "    url, name, author, date = result\n",
    "#    author = re.sub('(\\s+)', '', author)\n",
    "#    date = re.sub('(\\s+)', '', date)\n",
    "    author = author.strip()\n",
    "    date = date.strip()\n",
    "    print(url, name, author, date)"
   ]
  }
 ],
 "metadata": {
  "kernelspec": {
   "display_name": "Python 3",
   "language": "python",
   "name": "python3"
  },
  "language_info": {
   "codemirror_mode": {
    "name": "ipython",
    "version": 3
   },
   "file_extension": ".py",
   "mimetype": "text/x-python",
   "name": "python",
   "nbconvert_exporter": "python",
   "pygments_lexer": "ipython3",
   "version": "3.7.4"
  },
  "toc": {
   "base_numbering": 1,
   "nav_menu": {},
   "number_sections": true,
   "sideBar": true,
   "skip_h1_title": false,
   "title_cell": "Table of Contents",
   "title_sidebar": "Contents",
   "toc_cell": false,
   "toc_position": {},
   "toc_section_display": true,
   "toc_window_display": true
  }
 },
 "nbformat": 4,
 "nbformat_minor": 2
}

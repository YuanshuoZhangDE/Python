{
 "cells": [
  {
   "cell_type": "code",
   "execution_count": 1,
   "metadata": {},
   "outputs": [],
   "source": [
    "import os"
   ]
  },
  {
   "cell_type": "code",
   "execution_count": 2,
   "metadata": {},
   "outputs": [],
   "source": [
    "indexes = [1, 2, 3]\n",
    "\n",
    "Mn_ls = [1721, 1719, 1725, 1727, 7934, 7933,\n",
    "         7932, 7935, 7936, 1728, 1724, 1722,\n",
    "         1720, 1726, 1723, 5177, 5175, 5181,\n",
    "         5183, 9982, 9981, 9980, 9983, 9984,\n",
    "         5184, 5180, 5178, 5176, 5182, 5179,\n",
    "         3449, 3447, 3453, 3455, 8958, 8957,\n",
    "         8956, 8959, 8960, 3456, 3452, 3450,\n",
    "         3448, 3454, 3451, 6905, 6903, 6909,\n",
    "         6911, 11006, 11005, 11004, 11007, 11008,\n",
    "         6912, 6908, 6906, 6904, 6910, 6907]\n",
    "\n",
    "directory = \"C:/Users/Yuanshuo/Desktop/-9/\"\n",
    "\n",
    "logT = open(\"logT.txt\", \"w\", encoding=\"utf-8\")"
   ]
  },
  {
   "cell_type": "code",
   "execution_count": 3,
   "metadata": {},
   "outputs": [],
   "source": [
    "for num in Mn_ls:\n",
    "    for index in indexes:\n",
    "        os.chdir(directory+\"Mn\"+str(num)+\"_\"+str(index)) # 切换到directory路径\n",
    "        log = open(\"log.lammps\", \"r\", encoding=\"utf-8\")\n",
    "        lines = log.readlines()\n",
    "        for i in range(len(lines)):\n",
    "            if lines[i].startswith(\"Climbing replica\"):\n",
    "                logT.write(\"Mn\"+str(num)+\"_\"+str(index)+\" \"+lines[i-1])\n",
    "                log.close()\n",
    "                os.chdir(directory)\n",
    "                break\n",
    "\n",
    "logT.close()\n",
    "        \n",
    "                \n",
    "        \n",
    "        \n",
    "        \n",
    "    "
   ]
  },
  {
   "cell_type": "code",
   "execution_count": 6,
   "metadata": {},
   "outputs": [],
   "source": [
    "#数据格式化\n",
    "datafile = open('C:/Users/Yuanshuo/Desktop/Repositories/Python/Jupyter/Lammps Data Analysis/文件生成/数据处理/logT.txt', 'r', encoding='utf-8')\n",
    "datas = datafile.readlines()\n",
    "#print(type(datas))\n",
    "datalist = []\n",
    "for i in range(len(datas)):\n",
    "    datas[i] = ' '.join(datas[i].split())\n",
    "    datalist.append(datas[i])\n",
    "\n",
    "#print(datalist)\n",
    "    \n",
    "datafile.close()\n",
    "\n",
    "\n",
    "\n",
    "datafile = open('C:/Users/Yuanshuo/Desktop/Repositories/Python/Jupyter/Lammps Data Analysis/文件生成/数据处理/final.txt', 'w', encoding=\"utf-8\")\n",
    "\n",
    "data = '\\n'.join(datalist)\n",
    "\n",
    "datafile.write(data)\n",
    "\n",
    "datafile.close()\n"
   ]
  },
  {
   "cell_type": "code",
   "execution_count": null,
   "metadata": {},
   "outputs": [],
   "source": []
  }
 ],
 "metadata": {
  "kernelspec": {
   "display_name": "Python 3",
   "language": "python",
   "name": "python3"
  },
  "language_info": {
   "codemirror_mode": {
    "name": "ipython",
    "version": 3
   },
   "file_extension": ".py",
   "mimetype": "text/x-python",
   "name": "python",
   "nbconvert_exporter": "python",
   "pygments_lexer": "ipython3",
   "version": "3.7.4"
  }
 },
 "nbformat": 4,
 "nbformat_minor": 2
}

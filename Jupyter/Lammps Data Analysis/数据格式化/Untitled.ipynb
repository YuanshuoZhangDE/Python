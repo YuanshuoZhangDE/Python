{
 "cells": [
  {
   "cell_type": "code",
   "execution_count": 2,
   "metadata": {},
   "outputs": [],
   "source": [
    "#数据格式化\n",
    "datafile = open('final.file', 'r', encoding='utf-8')\n",
    "datas = datafile.readlines()\n",
    "#print(type(datas))\n",
    "datalist = []\n",
    "for i in range(len(datas)):\n",
    "    datas[i] = ' '.join(datas[i].split())\n",
    "    datalist.append(datas[i])\n",
    "\n",
    "#print(datalist)\n",
    "    \n",
    "datafile.close()\n",
    "\n",
    "\n",
    "\n",
    "datafile = open('final.txt', 'w')\n",
    "\n",
    "data = '\\n'.join(datalist)\n",
    "\n",
    "datafile.write(data)\n",
    "\n",
    "datafile.close()\n"
   ]
  },
  {
   "cell_type": "code",
   "execution_count": null,
   "metadata": {},
   "outputs": [],
   "source": []
  }
 ],
 "metadata": {
  "kernelspec": {
   "display_name": "Python 3",
   "language": "python",
   "name": "python3"
  },
  "language_info": {
   "codemirror_mode": {
    "name": "ipython",
    "version": 3
   },
   "file_extension": ".py",
   "mimetype": "text/x-python",
   "name": "python",
   "nbconvert_exporter": "python",
   "pygments_lexer": "ipython3",
   "version": "3.7.4"
  }
 },
 "nbformat": 4,
 "nbformat_minor": 2
}

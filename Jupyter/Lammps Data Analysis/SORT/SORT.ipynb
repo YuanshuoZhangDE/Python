{
 "cells": [
  {
   "cell_type": "code",
   "execution_count": 1,
   "metadata": {},
   "outputs": [],
   "source": [
    "import pandas as pd\n",
    "import numpy as np\n",
    "import matplotlib.pyplot as plt"
   ]
  },
  {
   "cell_type": "code",
   "execution_count": 2,
   "metadata": {},
   "outputs": [
    {
     "data": {
      "text/html": [
       "<div>\n",
       "<style scoped>\n",
       "    .dataframe tbody tr th:only-of-type {\n",
       "        vertical-align: middle;\n",
       "    }\n",
       "\n",
       "    .dataframe tbody tr th {\n",
       "        vertical-align: top;\n",
       "    }\n",
       "\n",
       "    .dataframe thead th {\n",
       "        text-align: right;\n",
       "    }\n",
       "</style>\n",
       "<table border=\"1\" class=\"dataframe\">\n",
       "  <thead>\n",
       "    <tr style=\"text-align: right;\">\n",
       "      <th></th>\n",
       "      <th>@</th>\n",
       "      <th>id</th>\n",
       "      <th>energy</th>\n",
       "    </tr>\n",
       "  </thead>\n",
       "  <tbody>\n",
       "    <tr>\n",
       "      <td>0</td>\n",
       "      <td>@min</td>\n",
       "      <td>1</td>\n",
       "      <td>-1009.131922</td>\n",
       "    </tr>\n",
       "    <tr>\n",
       "      <td>1</td>\n",
       "      <td>@min</td>\n",
       "      <td>2</td>\n",
       "      <td>-1009.754664</td>\n",
       "    </tr>\n",
       "    <tr>\n",
       "      <td>2</td>\n",
       "      <td>@min</td>\n",
       "      <td>3</td>\n",
       "      <td>-1009.522955</td>\n",
       "    </tr>\n",
       "    <tr>\n",
       "      <td>3</td>\n",
       "      <td>@min</td>\n",
       "      <td>4</td>\n",
       "      <td>-1010.136140</td>\n",
       "    </tr>\n",
       "    <tr>\n",
       "      <td>4</td>\n",
       "      <td>@min</td>\n",
       "      <td>5</td>\n",
       "      <td>-1008.370682</td>\n",
       "    </tr>\n",
       "    <tr>\n",
       "      <td>...</td>\n",
       "      <td>...</td>\n",
       "      <td>...</td>\n",
       "      <td>...</td>\n",
       "    </tr>\n",
       "    <tr>\n",
       "      <td>4194366</td>\n",
       "      <td>@min</td>\n",
       "      <td>4194367</td>\n",
       "      <td>-1008.679047</td>\n",
       "    </tr>\n",
       "    <tr>\n",
       "      <td>4194367</td>\n",
       "      <td>@min</td>\n",
       "      <td>4194368</td>\n",
       "      <td>-1009.381603</td>\n",
       "    </tr>\n",
       "    <tr>\n",
       "      <td>4194368</td>\n",
       "      <td>@min</td>\n",
       "      <td>4194369</td>\n",
       "      <td>-1009.294993</td>\n",
       "    </tr>\n",
       "    <tr>\n",
       "      <td>4194369</td>\n",
       "      <td>@min</td>\n",
       "      <td>4194370</td>\n",
       "      <td>-1008.550920</td>\n",
       "    </tr>\n",
       "    <tr>\n",
       "      <td>4194370</td>\n",
       "      <td>@min</td>\n",
       "      <td>4194371</td>\n",
       "      <td>-1009.448225</td>\n",
       "    </tr>\n",
       "  </tbody>\n",
       "</table>\n",
       "<p>4194371 rows × 3 columns</p>\n",
       "</div>"
      ],
      "text/plain": [
       "            @       id       energy\n",
       "0        @min        1 -1009.131922\n",
       "1        @min        2 -1009.754664\n",
       "2        @min        3 -1009.522955\n",
       "3        @min        4 -1010.136140\n",
       "4        @min        5 -1008.370682\n",
       "...       ...      ...          ...\n",
       "4194366  @min  4194367 -1008.679047\n",
       "4194367  @min  4194368 -1009.381603\n",
       "4194368  @min  4194369 -1009.294993\n",
       "4194369  @min  4194370 -1008.550920\n",
       "4194370  @min  4194371 -1009.448225\n",
       "\n",
       "[4194371 rows x 3 columns]"
      ]
     },
     "execution_count": 2,
     "metadata": {},
     "output_type": "execute_result"
    }
   ],
   "source": [
    "data = pd.read_csv(\"vs.txt\", sep=\" \")\n",
    "data"
   ]
  },
  {
   "cell_type": "code",
   "execution_count": 9,
   "metadata": {},
   "outputs": [
    {
     "data": {
      "text/html": [
       "<div>\n",
       "<style scoped>\n",
       "    .dataframe tbody tr th:only-of-type {\n",
       "        vertical-align: middle;\n",
       "    }\n",
       "\n",
       "    .dataframe tbody tr th {\n",
       "        vertical-align: top;\n",
       "    }\n",
       "\n",
       "    .dataframe thead th {\n",
       "        text-align: right;\n",
       "    }\n",
       "</style>\n",
       "<table border=\"1\" class=\"dataframe\">\n",
       "  <thead>\n",
       "    <tr style=\"text-align: right;\">\n",
       "      <th></th>\n",
       "      <th>@</th>\n",
       "      <th>id</th>\n",
       "      <th>energy</th>\n",
       "    </tr>\n",
       "  </thead>\n",
       "  <tbody>\n",
       "    <tr>\n",
       "      <td>0</td>\n",
       "      <td>@min</td>\n",
       "      <td>694074</td>\n",
       "      <td>-1007.224189</td>\n",
       "    </tr>\n",
       "    <tr>\n",
       "      <td>1</td>\n",
       "      <td>@min</td>\n",
       "      <td>3824265</td>\n",
       "      <td>-1007.249143</td>\n",
       "    </tr>\n",
       "    <tr>\n",
       "      <td>2</td>\n",
       "      <td>@min</td>\n",
       "      <td>2884365</td>\n",
       "      <td>-1007.304333</td>\n",
       "    </tr>\n",
       "    <tr>\n",
       "      <td>3</td>\n",
       "      <td>@min</td>\n",
       "      <td>999499</td>\n",
       "      <td>-1007.350203</td>\n",
       "    </tr>\n",
       "    <tr>\n",
       "      <td>4</td>\n",
       "      <td>@min</td>\n",
       "      <td>218181</td>\n",
       "      <td>-1007.354332</td>\n",
       "    </tr>\n",
       "    <tr>\n",
       "      <td>...</td>\n",
       "      <td>...</td>\n",
       "      <td>...</td>\n",
       "      <td>...</td>\n",
       "    </tr>\n",
       "    <tr>\n",
       "      <td>4194366</td>\n",
       "      <td>@min</td>\n",
       "      <td>253647</td>\n",
       "      <td>-1011.501825</td>\n",
       "    </tr>\n",
       "    <tr>\n",
       "      <td>4194367</td>\n",
       "      <td>@min</td>\n",
       "      <td>3854476</td>\n",
       "      <td>-1011.539963</td>\n",
       "    </tr>\n",
       "    <tr>\n",
       "      <td>4194368</td>\n",
       "      <td>@min</td>\n",
       "      <td>883578</td>\n",
       "      <td>-1011.646047</td>\n",
       "    </tr>\n",
       "    <tr>\n",
       "      <td>4194369</td>\n",
       "      <td>@min</td>\n",
       "      <td>1088387</td>\n",
       "      <td>-1011.826285</td>\n",
       "    </tr>\n",
       "    <tr>\n",
       "      <td>4194370</td>\n",
       "      <td>@min</td>\n",
       "      <td>899618</td>\n",
       "      <td>-1011.838160</td>\n",
       "    </tr>\n",
       "  </tbody>\n",
       "</table>\n",
       "<p>4194371 rows × 3 columns</p>\n",
       "</div>"
      ],
      "text/plain": [
       "            @       id       energy\n",
       "0        @min   694074 -1007.224189\n",
       "1        @min  3824265 -1007.249143\n",
       "2        @min  2884365 -1007.304333\n",
       "3        @min   999499 -1007.350203\n",
       "4        @min   218181 -1007.354332\n",
       "...       ...      ...          ...\n",
       "4194366  @min   253647 -1011.501825\n",
       "4194367  @min  3854476 -1011.539963\n",
       "4194368  @min   883578 -1011.646047\n",
       "4194369  @min  1088387 -1011.826285\n",
       "4194370  @min   899618 -1011.838160\n",
       "\n",
       "[4194371 rows x 3 columns]"
      ]
     },
     "execution_count": 9,
     "metadata": {},
     "output_type": "execute_result"
    }
   ],
   "source": [
    "sort = data.sort_values(by='energy', ascending=False)\n",
    "sort.reset_index(drop=True, inplace=True)\n",
    "sort"
   ]
  },
  {
   "cell_type": "code",
   "execution_count": 7,
   "metadata": {},
   "outputs": [],
   "source": [
    "#ID = sort['id']\n",
    "ENERGY = sort['energy']"
   ]
  },
  {
   "cell_type": "code",
   "execution_count": 8,
   "metadata": {},
   "outputs": [
    {
     "data": {
      "text/plain": [
       "[<matplotlib.lines.Line2D at 0x177902a2fc8>]"
      ]
     },
     "execution_count": 8,
     "metadata": {},
     "output_type": "execute_result"
    },
    {
     "data": {
      "image/png": "[encoded data removed]",
      "text/plain": [
       "<Figure size 432x288 with 1 Axes>"
      ]
     },
     "metadata": {
      "needs_background": "light"
     },
     "output_type": "display_data"
    }
   ],
   "source": [
    "plt.xlabel(\"Index\")\n",
    "plt.ylabel(\"Energy\")\n",
    "plt.plot(ENERGY)"
   ]
  },
  {
   "cell_type": "code",
   "execution_count": null,
   "metadata": {},
   "outputs": [],
   "source": []
  }
 ],
 "metadata": {
  "kernelspec": {
   "display_name": "Python 3",
   "language": "python",
   "name": "python3"
  },
  "language_info": {
   "codemirror_mode": {
    "name": "ipython",
    "version": 3
   },
   "file_extension": ".py",
   "mimetype": "text/x-python",
   "name": "python",
   "nbconvert_exporter": "python",
   "pygments_lexer": "ipython3",
   "version": "3.7.4"
  }
 },
 "nbformat": 4,
 "nbformat_minor": 4
}

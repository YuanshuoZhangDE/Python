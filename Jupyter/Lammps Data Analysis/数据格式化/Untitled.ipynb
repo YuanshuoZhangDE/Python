{
 "cells": [
  {
   "cell_type": "code",
   "execution_count": 1,
   "metadata": {},
   "outputs": [],
   "source": [
    "filepath = \"C:/Users/Yuanshuo/Desktop/应力应变.txt\"\n",
    "\n",
    "#数据格式化\n",
    "datafile = open(filepath, 'r', encoding='utf-8')\n",
    "datas = datafile.readlines()\n",
    "#print(type(datas))\n",
    "datalist = []\n",
    "for i in range(len(datas)):\n",
    "    datas[i] = ' '.join(datas[i].split())\n",
    "    datalist.append(datas[i])\n",
    "\n",
    "#print(datalist)\n",
    "    \n",
    "datafile.close()\n",
    "\n",
    "\n",
    "\n",
    "datafile = open(filepath, 'w')\n",
    "\n",
    "data = '\\n'.join(datalist)\n",
    "\n",
    "datafile.write(data)\n",
    "\n",
    "datafile.close()\n"
   ]
  },
  {
   "cell_type": "code",
   "execution_count": null,
   "metadata": {},
   "outputs": [],
   "source": []
  }
 ],
 "metadata": {
  "kernelspec": {
   "display_name": "Python 3",
   "language": "python",
   "name": "python3"
  },
  "language_info": {
   "codemirror_mode": {
    "name": "ipython",
    "version": 3
   },
   "file_extension": ".py",
   "mimetype": "text/x-python",
   "name": "python",
   "nbconvert_exporter": "python",
   "pygments_lexer": "ipython3",
   "version": "3.7.4"
  }
 },
 "nbformat": 4,
 "nbformat_minor": 2
}

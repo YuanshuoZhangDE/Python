{
 "cells": [
  {
   "cell_type": "code",
   "execution_count": null,
   "metadata": {
    "ExecuteTime": {
     "end_time": "2020-01-30T06:25:52.230891Z",
     "start_time": "2020-01-30T06:25:51.913652Z"
    }
   },
   "outputs": [],
   "source": [
    "import json\n",
    "import requests\n",
    "from bs4 import BeautifulSoup\n",
    "from requests.exceptions import RequestException"
   ]
  },
  {
   "cell_type": "code",
   "execution_count": null,
   "metadata": {
    "ExecuteTime": {
     "end_time": "2020-01-30T06:25:52.243869Z",
     "start_time": "2020-01-30T06:25:52.236785Z"
    }
   },
   "outputs": [],
   "source": [
    "def get_one_page(url):\n",
    "    try:\n",
    "        headers = {\n",
    "            'user-agent': 'Mozilla/5.0 (Windows NT 10.0; Win64; x64) AppleWebKit/537.36 (KHTML, like Gecko) Chrome/79.0.3945.130 Safari/537.36'            \n",
    "        }\n",
    "        response = requests.get(url, headers=headers)\n",
    "        if response.status_code == 200:\n",
    "            return response.text\n",
    "        return None\n",
    "    except RequestException:\n",
    "        return None"
   ]
  },
  {
   "cell_type": "code",
   "execution_count": null,
   "metadata": {
    "ExecuteTime": {
     "end_time": "2020-01-30T06:25:52.257244Z",
     "start_time": "2020-01-30T06:25:52.247265Z"
    }
   },
   "outputs": [],
   "source": [
    "def parse_one_page(html):\n",
    "    soup = BeautifulSoup(html, 'lxml')\n",
    "    title_images = soup.select('dd .image-link .board-img') \n",
    "    actors = soup.select('dd div div div .star')\n",
    "    times = soup.select('dd div div div .releasetime')\n",
    "    scores = soup.select('dd div div div .score')\n",
    "    \n",
    "    for t_i, actor, time in zip(title_images, actors, times):\n",
    "        yield{\n",
    "            'title':t_i['alt'],\n",
    "            'image':t_i['data-src'],\n",
    "            'actor':actor.get_text().strip()[3:],\n",
    "            'time':time.get_text().strip()[5:]\n",
    "        }\n",
    "    "
   ]
  },
  {
   "cell_type": "code",
   "execution_count": null,
   "metadata": {
    "ExecuteTime": {
     "end_time": "2020-01-30T06:25:52.263878Z",
     "start_time": "2020-01-30T06:25:52.258894Z"
    }
   },
   "outputs": [],
   "source": [
    "def write_to_file(content):\n",
    "    with open('BS_Maoyan_Top100.txt', 'a', encoding='utf-8') as f:\n",
    "        f.write(json.dumps(content, ensure_ascii=False)+ '\\n')\n",
    "        f.close()"
   ]
  },
  {
   "cell_type": "code",
   "execution_count": null,
   "metadata": {
    "ExecuteTime": {
     "end_time": "2020-01-30T06:25:52.270861Z",
     "start_time": "2020-01-30T06:25:52.264875Z"
    }
   },
   "outputs": [],
   "source": [
    "def main(offset):\n",
    "    url = 'https://maoyan.com/board/4?offset=' + str(offset)\n",
    "    html = get_one_page(url)\n",
    "    for item in parse_one_page(html):\n",
    "        print(item)\n",
    "        write_to_file(item)\n",
    "    "
   ]
  },
  {
   "cell_type": "code",
   "execution_count": null,
   "metadata": {
    "ExecuteTime": {
     "end_time": "2020-01-30T06:25:54.219020Z",
     "start_time": "2020-01-30T06:25:52.272866Z"
    },
    "scrolled": true
   },
   "outputs": [],
   "source": [
    "if __name__ == '__main__':\n",
    "    for i in range(10):\n",
    "        main(i*10)"
   ]
  }
 ],
 "metadata": {
  "kernelspec": {
   "display_name": "Python 3",
   "language": "python",
   "name": "python3"
  },
  "language_info": {
   "codemirror_mode": {
    "name": "ipython",
    "version": 3
   },
   "file_extension": ".py",
   "mimetype": "text/x-python",
   "name": "python",
   "nbconvert_exporter": "python",
   "pygments_lexer": "ipython3",
   "version": "3.7.4"
  },
  "toc": {
   "base_numbering": 1,
   "nav_menu": {},
   "number_sections": true,
   "sideBar": true,
   "skip_h1_title": false,
   "title_cell": "Table of Contents",
   "title_sidebar": "Contents",
   "toc_cell": false,
   "toc_position": {},
   "toc_section_display": true,
   "toc_window_display": false
  }
 },
 "nbformat": 4,
 "nbformat_minor": 2
}

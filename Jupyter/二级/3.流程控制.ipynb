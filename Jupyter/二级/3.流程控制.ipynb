{
 "cells": [
  {
   "cell_type": "markdown",
   "metadata": {},
   "source": [
    "## 流程控制"
   ]
  },
  {
   "cell_type": "markdown",
   "metadata": {},
   "source": [
    "流程：计算机执行代码的顺序就是流程。"
   ]
  },
  {
   "cell_type": "markdown",
   "metadata": {},
   "source": [
    "流程控制：对计算机代码执行顺序的管理就是流程控制。"
   ]
  },
  {
   "cell_type": "markdown",
   "metadata": {},
   "source": [
    "流程控制一共分为三类：\n",
    "- 顺序结构\n",
    "- 分支结构/选择结构\n",
    "- 循环结构"
   ]
  },
  {
   "cell_type": "markdown",
   "metadata": {},
   "source": [
    "### 顺序结构"
   ]
  },
  {
   "cell_type": "markdown",
   "metadata": {},
   "source": [
    "顺序结构就是代码一种自上而下执行的结构，是Python默认的流程。"
   ]
  },
  {
   "cell_type": "markdown",
   "metadata": {},
   "source": [
    "### 分支/选择结构"
   ]
  },
  {
   "cell_type": "markdown",
   "metadata": {},
   "source": [
    "分支结构一共分为四类：\n",
    "- 单项分支\n",
    "- 双项分支\n",
    "- 多项分支\n",
    "- 巢状分支"
   ]
  },
  {
   "cell_type": "markdown",
   "metadata": {},
   "source": [
    "#### 单项分支"
   ]
  },
  {
   "cell_type": "markdown",
   "metadata": {},
   "source": [
    "格式："
   ]
  },
  {
   "cell_type": "code",
   "execution_count": null,
   "metadata": {
    "ExecuteTime": {
     "end_time": "2020-02-20T05:33:21.762671Z",
     "start_time": "2020-02-20T05:33:21.753327Z"
    }
   },
   "outputs": [],
   "source": [
    "if 条件表达式:\n",
    "    一条Python语句\n",
    "    一条Python语句\n",
    "    一条Python语句\n",
    "    ... ..."
   ]
  },
  {
   "cell_type": "markdown",
   "metadata": {},
   "source": [
    "特征：\n",
    "- if条件表达式结果为真，则执行if之后所控制的代码组，如果为假，则不执行后面的代码组\n",
    "- :之后下一行的内容必须缩进，否则语法错误\n",
    "- if:后面的代码是在条件表达式结果为真的条件下执行的，所以称之为真区间或者if区间"
   ]
  },
  {
   "cell_type": "code",
   "execution_count": null,
   "metadata": {
    "ExecuteTime": {
     "end_time": "2020-02-20T05:33:21.763407Z",
     "start_time": "2020-02-20T05:33:21.478Z"
    }
   },
   "outputs": [],
   "source": [
    "Linlin = 'love'\n",
    "if Linlin == 'love':\n",
    "    print('刚他！直接刚！')"
   ]
  },
  {
   "cell_type": "code",
   "execution_count": null,
   "metadata": {
    "ExecuteTime": {
     "end_time": "2020-02-20T05:33:21.764049Z",
     "start_time": "2020-02-20T05:33:21.480Z"
    }
   },
   "outputs": [],
   "source": [
    "Linlin = 'hate'\n",
    "if Linlin == 'love':\n",
    "    print('刚他！直接刚！')"
   ]
  },
  {
   "cell_type": "markdown",
   "metadata": {},
   "source": [
    "#### 双项分支"
   ]
  },
  {
   "cell_type": "markdown",
   "metadata": {},
   "source": [
    "格式："
   ]
  },
  {
   "cell_type": "code",
   "execution_count": null,
   "metadata": {
    "ExecuteTime": {
     "end_time": "2020-02-20T05:33:21.771657Z",
     "start_time": "2020-02-20T05:33:21.483Z"
    }
   },
   "outputs": [],
   "source": [
    "if 条件表达式:\n",
    "    一条Python语句\n",
    "    一条Python语句\n",
    "    一条Python语句\n",
    "    ... ...\n",
    "else:\n",
    "    一条Python语句\n",
    "    一条Python语句\n",
    "    一条Python语句\n",
    "    ... ..."
   ]
  },
  {
   "cell_type": "markdown",
   "metadata": {},
   "source": [
    "特征："
   ]
  },
  {
   "cell_type": "markdown",
   "metadata": {},
   "source": [
    "- 双项分支有2个区间：True控制的if区间和False控制的else区间\n",
    "- :之后下一行的内容必须缩进"
   ]
  },
  {
   "cell_type": "code",
   "execution_count": null,
   "metadata": {
    "ExecuteTime": {
     "end_time": "2020-02-20T05:33:21.772247Z",
     "start_time": "2020-02-20T05:33:21.485Z"
    }
   },
   "outputs": [],
   "source": [
    "Linlin = \"男\"\n",
    "if Linlin == \"男\":\n",
    "    print('刚他！使劲刚！')\n",
    "else:\n",
    "    print('亲她！')"
   ]
  },
  {
   "cell_type": "markdown",
   "metadata": {},
   "source": [
    "#### 多项分支"
   ]
  },
  {
   "cell_type": "markdown",
   "metadata": {},
   "source": [
    "格式："
   ]
  },
  {
   "cell_type": "code",
   "execution_count": null,
   "metadata": {
    "ExecuteTime": {
     "end_time": "2020-02-20T05:33:21.772817Z",
     "start_time": "2020-02-20T05:33:21.487Z"
    }
   },
   "outputs": [],
   "source": [
    "if 条件表达式:\n",
    "    一条Python语句\n",
    "    一条Python语句\n",
    "    一条Python语句\n",
    "elif:\n",
    "    一条Python语句\n",
    "    一条Python语句\n",
    "    一条Python语句\n",
    "elif:\n",
    "    一条Python语句\n",
    "    一条Python语句\n",
    "    一条Python语句\n",
    "\n",
    "else:\n",
    "    一条Python语句\n",
    "    一条Python语句\n",
    "    一条Python语句\n",
    "    ... ..."
   ]
  },
  {
   "cell_type": "markdown",
   "metadata": {},
   "source": [
    "特征："
   ]
  },
  {
   "cell_type": "markdown",
   "metadata": {},
   "source": [
    "- 多项分支可以添加无限个elif分支，如论如何只会执行一个分支\n",
    "- 执行完一个分支后，分支结构就会结束，后面的分支都不会判断也不会执行\n",
    "- 多项分支的判断是自上而下逐个分支进行判断"
   ]
  },
  {
   "cell_type": "markdown",
   "metadata": {},
   "source": [
    "注意：Python没有switch...case分支"
   ]
  },
  {
   "cell_type": "markdown",
   "metadata": {},
   "source": [
    "#### 巢状分支"
   ]
  },
  {
   "cell_type": "code",
   "execution_count": null,
   "metadata": {
    "ExecuteTime": {
     "end_time": "2020-02-20T05:33:21.773406Z",
     "start_time": "2020-02-20T05:33:21.489Z"
    }
   },
   "outputs": [],
   "source": [
    "# 使用巢状分支完成你的欲望\n",
    "#搭讪阶段\n",
    "dashan = False#True:香奈儿，False:花生米\n",
    "#吃饭阶段\n",
    "chifan = False#True:愿意，False：不愿意\n",
    "#牵手阶段\n",
    "lashou = False#True:愿意，False：不愿意\n",
    "#看夜场电影阶段\n",
    "kandianying = False#True:愿意，False：不愿意\n",
    "#没羞没臊阶段\n",
    "meixiumeisao = False#True:愿意，False：不愿意\n",
    "\n",
    "#搭讪阶段\n",
    "if dashan == True:\n",
    "    print('你真是个心的善良的人！')\n",
    "    #吃饭阶段\n",
    "    if chifan == True:\n",
    "        print('愿意吖，我最喜欢6块钱的麻辣烫了！')\n",
    "        #拉手阶段\n",
    "        if lashou == True:\n",
    "            print('你的手真温柔！')\n",
    "            if kandianying == True:\n",
    "                print('这个电影真好看！')\n",
    "                if meixiumeisao == True:\n",
    "                    pass\n",
    "                else:\n",
    "                    pass\n",
    "            else:\n",
    "                print('没想到你是这样的人！凑变态！')\n",
    "        else:\n",
    "            print('你干啥呀！别碰我！')\n",
    "    else:\n",
    "        print('不好意！我有约会了！')\n",
    "else:\n",
    "    print('滚犊子！')\n"
   ]
  },
  {
   "cell_type": "markdown",
   "metadata": {},
   "source": [
    "### 循环结构"
   ]
  },
  {
   "cell_type": "markdown",
   "metadata": {},
   "source": [
    "循环结构就是为了将相似或者相同的代码操作变得更加简洁，使得代码可以重复利用。"
   ]
  },
  {
   "cell_type": "markdown",
   "metadata": {},
   "source": [
    "循环结构分为两类：\n",
    "- while循环\n",
    "- for...in...循环"
   ]
  },
  {
   "cell_type": "code",
   "execution_count": null,
   "metadata": {
    "ExecuteTime": {
     "end_time": "2020-02-20T05:50:52.674796Z",
     "start_time": "2020-02-20T05:50:52.668045Z"
    }
   },
   "outputs": [],
   "source": [
    "#循环结构\n",
    "print('小明，亲了小红一口😚。')\n",
    "print('小明，亲了小红一口😚。')\n",
    "print('小明，亲了小红一口😚。')\n",
    "print('小明，亲了小红一口😚。')\n",
    "print('小明，亲了小红一口😚。')"
   ]
  },
  {
   "cell_type": "code",
   "execution_count": null,
   "metadata": {
    "ExecuteTime": {
     "end_time": "2020-02-20T05:50:53.172355Z",
     "start_time": "2020-02-20T05:50:53.165855Z"
    }
   },
   "outputs": [],
   "source": [
    "num = 0\n",
    "while num < 5:\n",
    "    print('小明，亲了小红一口😚。')\n",
    "    num += 1"
   ]
  },
  {
   "cell_type": "code",
   "execution_count": null,
   "metadata": {
    "ExecuteTime": {
     "end_time": "2020-02-20T05:50:53.774407Z",
     "start_time": "2020-02-20T05:50:53.767891Z"
    }
   },
   "outputs": [],
   "source": [
    "for i in range(5):\n",
    "    print('小明，亲了小红一口😚。')"
   ]
  },
  {
   "cell_type": "markdown",
   "metadata": {},
   "source": [
    "#### while循环"
   ]
  },
  {
   "cell_type": "markdown",
   "metadata": {},
   "source": [
    "##### 格式1："
   ]
  },
  {
   "cell_type": "code",
   "execution_count": null,
   "metadata": {},
   "outputs": [],
   "source": [
    "while 条件表达式:\n",
    "    循环的内容\n",
    "    [变量的变化]"
   ]
  },
  {
   "cell_type": "code",
   "execution_count": null,
   "metadata": {
    "ExecuteTime": {
     "end_time": "2020-02-20T05:52:53.635546Z",
     "start_time": "2020-02-20T05:52:53.621634Z"
    }
   },
   "outputs": [],
   "source": [
    "#声明一个计数的变量\n",
    "num = 0\n",
    "#循环结构\n",
    "while num < 100:\n",
    "    print(num, end=' ')\n",
    "    #计数变量的修改\n",
    "    num += 1"
   ]
  },
  {
   "cell_type": "code",
   "execution_count": null,
   "metadata": {
    "ExecuteTime": {
     "end_time": "2020-02-20T05:58:45.974380Z",
     "start_time": "2020-02-20T05:58:45.964725Z"
    }
   },
   "outputs": [],
   "source": [
    "#计算1-100的和\n",
    "#计数变量\n",
    "num = 1\n",
    "#求和变量\n",
    "total = 0 \n",
    "#开始循环\n",
    "while num <= 100:\n",
    "    total = total + num\n",
    "    #改变计数变量\n",
    "    num += 1\n",
    "#    print(total)\n",
    "print(total)"
   ]
  },
  {
   "cell_type": "code",
   "execution_count": null,
   "metadata": {
    "ExecuteTime": {
     "end_time": "2020-02-20T06:19:11.326172Z",
     "start_time": "2020-02-20T06:19:11.311162Z"
    }
   },
   "outputs": [],
   "source": [
    "#打印10行‘★★★★★★★★★★’\n",
    "row = 0\n",
    "while row < 10:\n",
    "    #打印一行10列★\n",
    "    col = 0\n",
    "    while col < 10:\n",
    "        print('★', end='')\n",
    "        #改变计数变量（列）\n",
    "        col += 1\n",
    "    #换行\n",
    "    print('')\n",
    "    #改变计数变量（行）\n",
    "    row += 1"
   ]
  },
  {
   "cell_type": "code",
   "execution_count": 1,
   "metadata": {},
   "outputs": [
    {
     "name": "stdout",
     "output_type": "stream",
     "text": [
      "0\n",
      "1\n",
      "3\n",
      "6\n"
     ]
    }
   ],
   "source": [
    "num = 0\n",
    "total = 0\n",
    "while num < 4:\n",
    "    total = total + num\n",
    "    num += 1\n",
    "    print(total)"
   ]
  },
  {
   "cell_type": "code",
   "execution_count": null,
   "metadata": {
    "ExecuteTime": {
     "end_time": "2020-02-20T06:12:23.495220Z",
     "start_time": "2020-02-20T06:12:23.490681Z"
    }
   },
   "outputs": [],
   "source": [
    "#作业：打印一个10行10列的隔行变色的五角星"
   ]
  },
  {
   "cell_type": "markdown",
   "metadata": {},
   "source": [
    "☆☆☆☆☆☆☆☆☆☆\n",
    "★★★★★★★★★★\n",
    "☆☆☆☆☆☆☆☆☆☆\n",
    "★★★★★★★★★★\n",
    "☆☆☆☆☆☆☆☆☆☆\n",
    "★★★★★★★★★★\n",
    "☆☆☆☆☆☆☆☆☆☆\n",
    "★★★★★★★★★★\n",
    "☆☆☆☆☆☆☆☆☆☆\n",
    "★★★★★★★★★★"
   ]
  },
  {
   "cell_type": "markdown",
   "metadata": {},
   "source": [
    "##### 格式2:"
   ]
  },
  {
   "cell_type": "code",
   "execution_count": null,
   "metadata": {},
   "outputs": [],
   "source": [
    "while 条件表达式:\n",
    "    循环的内容\n",
    "    [变量的变化]\n",
    "else:\n",
    "    Python语句...."
   ]
  },
  {
   "cell_type": "markdown",
   "metadata": {},
   "source": [
    "注意：while循环中的else是在while条件表达式为假的情况下执行的代码内容，一般用于判断起始条件是否为假等相关操作。"
   ]
  },
  {
   "cell_type": "code",
   "execution_count": null,
   "metadata": {
    "ExecuteTime": {
     "end_time": "2020-02-20T06:27:33.075295Z",
     "start_time": "2020-02-20T06:27:33.067931Z"
    }
   },
   "outputs": [],
   "source": [
    "num = 0\n",
    "while num < 5:\n",
    "    print('小明，亲了小红一口😚。')\n",
    "    num += 1\n",
    "else:\n",
    "    print('判断条件为假')"
   ]
  },
  {
   "cell_type": "markdown",
   "metadata": {},
   "source": [
    "##### 死循环"
   ]
  },
  {
   "cell_type": "markdown",
   "metadata": {},
   "source": [
    "一直执行的循化就是死循环。"
   ]
  },
  {
   "cell_type": "code",
   "execution_count": null,
   "metadata": {
    "ExecuteTime": {
     "end_time": "2020-02-20T06:32:35.571900Z",
     "start_time": "2020-02-20T06:32:28.541137Z"
    }
   },
   "outputs": [],
   "source": [
    "while True:\n",
    "    print('😚😚😚😚😚')"
   ]
  },
  {
   "cell_type": "markdown",
   "metadata": {},
   "source": [
    "##### 遍历容器数据"
   ]
  },
  {
   "cell_type": "code",
   "execution_count": null,
   "metadata": {
    "ExecuteTime": {
     "end_time": "2020-02-20T06:43:50.800877Z",
     "start_time": "2020-02-20T06:43:50.794294Z"
    }
   },
   "outputs": [],
   "source": [
    "girls = ['张哆来', '王咪发', '李索拉']\n",
    "#循环\n",
    "index = 0\n",
    "while index < len(girls):\n",
    "    print(girls[index])\n",
    "    index += 1"
   ]
  },
  {
   "cell_type": "markdown",
   "metadata": {},
   "source": [
    "#### for...in循环"
   ]
  },
  {
   "cell_type": "markdown",
   "metadata": {},
   "source": [
    "for...in循环用于遍历容器类的数据（字符串、列表、元组、字典、集合）"
   ]
  },
  {
   "cell_type": "markdown",
   "metadata": {},
   "source": [
    "格式："
   ]
  },
  {
   "cell_type": "code",
   "execution_count": null,
   "metadata": {},
   "outputs": [],
   "source": [
    "for 变量 in 容器:\n",
    "    Python代码，可以再此使用变量"
   ]
  },
  {
   "cell_type": "code",
   "execution_count": null,
   "metadata": {
    "ExecuteTime": {
     "end_time": "2020-02-20T09:06:07.683232Z",
     "start_time": "2020-02-20T09:06:07.676321Z"
    }
   },
   "outputs": [],
   "source": [
    "#列表\n",
    "girls = ['张哆来', '王咪发', '李索拉']\n",
    "for name in girls:\n",
    "    print(name)"
   ]
  },
  {
   "cell_type": "code",
   "execution_count": null,
   "metadata": {
    "ExecuteTime": {
     "end_time": "2020-02-20T09:08:09.229550Z",
     "start_time": "2020-02-20T09:08:09.222409Z"
    }
   },
   "outputs": [],
   "source": [
    "#集合\n",
    "girls = {'张哆来', '王咪发', '李索拉'}\n",
    "for name in girls:\n",
    "    print(name)"
   ]
  },
  {
   "cell_type": "code",
   "execution_count": null,
   "metadata": {
    "ExecuteTime": {
     "end_time": "2020-02-20T09:12:36.595019Z",
     "start_time": "2020-02-20T09:12:36.587823Z"
    }
   },
   "outputs": [],
   "source": [
    "#字典：使用单个循环遍历字典，只会获取字典里的键\n",
    "heros = {'呼保义':'宋江', '智多星':'吴用', '黑旋风':'李逵', '九纹龙':'史进'}\n",
    "for nickname in heros:\n",
    "    print(nickname)#获取字典的键\n",
    "    print(heros[nickname])"
   ]
  },
  {
   "cell_type": "code",
   "execution_count": null,
   "metadata": {
    "ExecuteTime": {
     "end_time": "2020-02-20T09:17:24.789568Z",
     "start_time": "2020-02-20T09:17:24.782504Z"
    }
   },
   "outputs": [],
   "source": [
    "#类字典数据的遍历（同时遍历键和值）\n",
    "heros = {'呼保义':'宋江', '智多星':'吴用', '黑旋风':'李逵', '九纹龙':'史进'} #-->[['呼保义','宋江'], ['智多星','吴用'], ['黑旋风','李逵'], ['九纹龙','史进']]\n",
    "for nickname,name in heros.items():\n",
    "    print(nickname, name)"
   ]
  },
  {
   "cell_type": "markdown",
   "metadata": {},
   "source": [
    "#### break语句"
   ]
  },
  {
   "cell_type": "markdown",
   "metadata": {},
   "source": [
    "break 破坏、结束、打破"
   ]
  },
  {
   "cell_type": "markdown",
   "metadata": {},
   "source": [
    "作用：在循环中break的作用是终止当前循环结构的后续操作，一旦程序运行break，循环也就终止了！！"
   ]
  },
  {
   "cell_type": "code",
   "execution_count": null,
   "metadata": {
    "ExecuteTime": {
     "end_time": "2020-02-20T09:43:17.391373Z",
     "start_time": "2020-02-20T09:43:17.380473Z"
    }
   },
   "outputs": [],
   "source": [
    "#程序运行到44就停止\n",
    "i = 0 \n",
    "while i < 100:\n",
    "    if i == 44:\n",
    "        break\n",
    "    print(i)\n",
    "    i += 1"
   ]
  },
  {
   "cell_type": "markdown",
   "metadata": {},
   "source": [
    "#### continue语句"
   ]
  },
  {
   "cell_type": "markdown",
   "metadata": {},
   "source": [
    "continue 继续"
   ]
  },
  {
   "cell_type": "markdown",
   "metadata": {},
   "source": [
    "作用：在循环中continue作用是跳过本次循环，开始下一次循环操作，continue执行之后当前循环的后续代码就不会再执行，直接进行下一次循环（主要用于数据过滤）。"
   ]
  },
  {
   "cell_type": "code",
   "execution_count": null,
   "metadata": {
    "ExecuteTime": {
     "end_time": "2020-02-20T09:47:24.107358Z",
     "start_time": "2020-02-20T09:47:24.092354Z"
    }
   },
   "outputs": [],
   "source": [
    "#程序运行到44就跳过\n",
    "i = 0 \n",
    "while i < 100:\n",
    "    if i == 44:\n",
    "        i += 1\n",
    "        continue\n",
    "    print(i)\n",
    "    i += 1"
   ]
  }
 ],
 "metadata": {
  "kernelspec": {
   "display_name": "Python 3",
   "language": "python",
   "name": "python3"
  },
  "language_info": {
   "codemirror_mode": {
    "name": "ipython",
    "version": 3
   },
   "file_extension": ".py",
   "mimetype": "text/x-python",
   "name": "python",
   "nbconvert_exporter": "python",
   "pygments_lexer": "ipython3",
   "version": "3.7.4"
  },
  "toc": {
   "base_numbering": 1,
   "nav_menu": {},
   "number_sections": true,
   "sideBar": true,
   "skip_h1_title": false,
   "title_cell": "Table of Contents",
   "title_sidebar": "Contents",
   "toc_cell": false,
   "toc_position": {
    "height": "calc(100% - 180px)",
    "left": "10px",
    "top": "150px",
    "width": "248px"
   },
   "toc_section_display": true,
   "toc_window_display": true
  },
  "varInspector": {
   "cols": {
    "lenName": 16,
    "lenType": 16,
    "lenVar": 40
   },
   "kernels_config": {
    "python": {
     "delete_cmd_postfix": "",
     "delete_cmd_prefix": "del ",
     "library": "var_list.py",
     "varRefreshCmd": "print(var_dic_list())"
    },
    "r": {
     "delete_cmd_postfix": ") ",
     "delete_cmd_prefix": "rm(",
     "library": "var_list.r",
     "varRefreshCmd": "cat(var_dic_list()) "
    }
   },
   "types_to_exclude": [
    "module",
    "function",
    "builtin_function_or_method",
    "instance",
    "_Feature"
   ],
   "window_display": false
  }
 },
 "nbformat": 4,
 "nbformat_minor": 2
}

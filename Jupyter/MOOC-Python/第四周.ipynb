{
 "cells": [
  {
   "cell_type": "markdown",
   "metadata": {},
   "source": [
    "# 分支结构"
   ]
  },
  {
   "cell_type": "markdown",
   "metadata": {},
   "source": [
    "## if-elif-else"
   ]
  },
  {
   "cell_type": "code",
   "execution_count": 6,
   "metadata": {},
   "outputs": [
    {
     "name": "stdout",
     "output_type": "stream",
     "text": [
      "Please input num of [0-99]:99\n",
      "👎\n"
     ]
    }
   ],
   "source": [
    "guess = eval(input('Please input a Num of [0-99]:'))\n",
    "if guess == 77:\n",
    "    print(\"👍\")\n",
    "elif guess == 66:\n",
    "    print(\"😄\")\n",
    "else:\n",
    "    print('👎')"
   ]
  },
  {
   "cell_type": "code",
   "execution_count": 10,
   "metadata": {},
   "outputs": [
    {
     "name": "stdout",
     "output_type": "stream",
     "text": [
      "Please input num of [0-99]:77\n",
      "👍\n"
     ]
    }
   ],
   "source": [
    "# 紧凑形式\n",
    "#<表达式1>if<条件>else<表达式2>\n",
    "guess = eval(input('Please input a Num of [0-99]:'))\n",
    "print(\"👎\") if(guess>77 or guess<77) else print('👍')"
   ]
  },
  {
   "cell_type": "markdown",
   "metadata": {},
   "source": [
    "## try-except"
   ]
  },
  {
   "cell_type": "code",
   "execution_count": 2,
   "metadata": {},
   "outputs": [
    {
     "name": "stdout",
     "output_type": "stream",
     "text": [
      "Please input an Integer:a\n",
      "👎! Please input an Integer!!!!\n",
      "Please input an Integer:77\n",
      "👍\n"
     ]
    }
   ],
   "source": [
    "# 捕获try语句中的错误，执行except\n",
    "while True:\n",
    "    try:\n",
    "        guess = input('Please input an Integer:')\n",
    "        guess = eval(guess)\n",
    "        print(\"👍\")\n",
    "        break\n",
    "    except NameError:\n",
    "        print('👎! Please input an Integer!!!!')"
   ]
  },
  {
   "cell_type": "markdown",
   "metadata": {},
   "source": [
    "# 循环结构\n",
    "- 重复执行某一固定动作或者任务\n",
    "- 分类\n",
    "    - for\n",
    "    - while"
   ]
  },
  {
   "cell_type": "markdown",
   "metadata": {},
   "source": [
    "## while 循环\n",
    "- 表示当条件成立时， 就循环， 适应于不知道具体循环次数， 但能确定在某个条件成立的情况下就循环"
   ]
  },
  {
   "cell_type": "markdown",
   "metadata": {},
   "source": [
    "## break, continue, pass\n",
    "- break : 无条件结束整个循环， 简称循环猝死\n",
    "- continue : 继续\n",
    "- pass : 只是占位符， 代表这句话啥也不干， 不跳过功能"
   ]
  },
  {
   "cell_type": "markdown",
   "metadata": {},
   "source": [
    "## for-else\n",
    "- for循环结束时，有时候需要执行一些收尾工作，此时需要使用else语句\n",
    "- else语句是可选"
   ]
  },
  {
   "cell_type": "markdown",
   "metadata": {},
   "source": [
    "## range 函数\n",
    "- 生成有序数列\n",
    "- 生成数字队列可以定制"
   ]
  }
 ],
 "metadata": {
  "kernelspec": {
   "display_name": "Python 3",
   "language": "python",
   "name": "python3"
  },
  "language_info": {
   "codemirror_mode": {
    "name": "ipython",
    "version": 3
   },
   "file_extension": ".py",
   "mimetype": "text/x-python",
   "name": "python",
   "nbconvert_exporter": "python",
   "pygments_lexer": "ipython3",
   "version": "3.7.4"
  },
  "toc": {
   "base_numbering": 1,
   "nav_menu": {},
   "number_sections": true,
   "sideBar": false,
   "skip_h1_title": false,
   "title_cell": "Table of Contents",
   "title_sidebar": "Contents",
   "toc_cell": false,
   "toc_position": {
    "height": "257.713px",
    "left": "212px",
    "top": "137.698px",
    "width": "149.247px"
   },
   "toc_section_display": true,
   "toc_window_display": true
  }
 },
 "nbformat": 4,
 "nbformat_minor": 2
}

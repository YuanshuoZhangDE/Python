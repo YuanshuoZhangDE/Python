{
 "cells": [
  {
   "cell_type": "code",
   "execution_count": 1,
   "metadata": {},
   "outputs": [],
   "source": [
    "import os"
   ]
  },
  {
   "cell_type": "code",
   "execution_count": 2,
   "metadata": {},
   "outputs": [],
   "source": [
    "Mn_ls = [1721, 1719, 1725, 1727, 7934, 7933,\n",
    "         7932, 7935, 7936, 1728, 1724, 1722,\n",
    "         1720, 1726, 1723, 5177, 5175, 5181,\n",
    "         5183, 9982, 9981, 9980, 9983, 9984,\n",
    "         5184, 5180, 5178, 5176, 5182, 5179,\n",
    "         3449, 3447, 3453, 3455, 8958, 8957,\n",
    "         8956, 8959, 8960, 3456, 3452, 3450,\n",
    "         3448, 3454, 3451, 6905, 6903, 6909,\n",
    "         6911, 11006, 11005, 11004, 11007, 11008,\n",
    "         6912, 6908, 6906, 6904, 6910, 6907]"
   ]
  },
  {
   "cell_type": "code",
   "execution_count": 5,
   "metadata": {},
   "outputs": [],
   "source": [
    "index = 3\n",
    "\n",
    "finalDir = \"C:/Users/Yuanshuo/Desktop/Mn-neb/11008/Mn5/Mn(终)/\"\n",
    "nebDir = \"C:/Users/Yuanshuo/Desktop/Mn-neb/11008/Mn5/neb/\"\n",
    "\n",
    "file_in = open(\"in.file\", \"r\", encoding=\"utf-8\")\n",
    "file_pbs = open(\"pbs.file\", \"r\", encoding=\"utf-8\")\n",
    "\n",
    "lines_in = file_in.readlines()\n",
    "lines_pbs = file_pbs.readlines()\n",
    "\n",
    "os.chdir(finalDir)\n",
    "\n",
    "for num in Mn_ls:\n",
    "    os.makedirs(nebDir+\"Mn\"+str(num)+\"_\"+str(index)) # 创建文件夹\n",
    "    os.chdir(\"Mn\"+str(num)+\"_\"+str(index)) # 切换到directory路径\n",
    "    \n",
    "    file_xyz = open(\"xyz.lammpstrj\", \"r\", encoding=\"utf-8\")\n",
    "    lines_xyz = file_xyz.readlines()\n",
    "        \n",
    "    file_final = open(nebDir+\"Mn\"+str(num)+\"_\"+str(index)+\"/\"+\"final.file\", \"w\", encoding=\"utf-8\")\n",
    "    file_final.write(\"11008\"+\"\\n\")\n",
    "    for i in range(11026, 22034):        \n",
    "        file_final.write(lines_xyz[i])\n",
    "        \n",
    "    file_final.close()\n",
    "    file_xyz.close()\n",
    "    \n",
    "    \n",
    "    file_in_new = open(nebDir+\"Mn\"+str(num)+\"_\"+str(index)+\"/\"+\"in.file\", \"w\", encoding=\"utf-8\")\n",
    "    for line_in in lines_in:\n",
    "        if line_in.startswith(\"group nebatoms id\"):\n",
    "            line_in = \"group nebatoms id \"+str(num)+\"\\n\"\n",
    "        elif line_in.startswith(\"neb 1.0e-9\"):\n",
    "            line_in = \"neb 1.0e-9 1.0e-4 10000000 10000000 1000 final \"+\"/share/home/yszhang/PBS/myExample/Fe-Cr-Mn/Mn-neb/neb/Mn\"+str(num)+\"_\"+str(index)+\"/final.file\"+\"\\n\"\n",
    "        file_in_new.write(line_in)\n",
    "    file_in_new.close()\n",
    "    \n",
    "    \n",
    "    file_pbs_new = open(nebDir+\"Mn\"+str(num)+\"_\"+str(index)+\"/\"+\"pbs.file\", \"w\", encoding=\"utf-8\")\n",
    "    for line_pbs in lines_pbs:\n",
    "        if line_pbs.startswith(\"#PBS -N\"):\n",
    "            line_pbs = \"#PBS -N Mn\"+str(num)+\"--\"+str(index)+\"\\n\"\n",
    "        elif line_pbs.startswith(\"#PBS -o\"):\n",
    "            line_pbs = \"#PBS -o /share/home/yszhang/PBS/myExample/Fe-Cr-Mn/Mn-neb/neb/\"+\"Mn\"+str(num)+\"_\"+str(index)+\"/PBS.out\"+\"\\n\"\n",
    "        elif line_pbs.startswith(\"#PBS -e\"):\n",
    "            line_pbs = \"#PBS -e /share/home/yszhang/PBS/myExample/Fe-Cr-Mn/Mn-neb/neb/\"+\"Mn\"+str(num)+\"_\"+str(index)+\"/PBS.err\"+\"\\n\"\n",
    "        elif line_pbs.startswith(\"PROGRAM=\"):\n",
    "            line_pbs = \"PROGRAM=/share/home/yszhang/PBS/myExample/Fe-Cr-Mn/Mn-neb/neb/\"+\"Mn\"+str(num)+\"_\"+str(index)+\"/in.file\"+\"\\n\"\n",
    "        file_pbs_new.write(line_pbs)\n",
    "    file_pbs_new.close()\n",
    "    \n",
    "    \n",
    "    os.chdir(finalDir)\n",
    "\n",
    "file_in.close()\n",
    "file_pbs.close()\n",
    "    \n",
    "    \n",
    "    \n",
    "    \n",
    "    \n",
    "    \n",
    "    \n",
    "    \n",
    "    \n",
    "\n",
    "    \n",
    "\n",
    "    \n",
    "        "
   ]
  },
  {
   "cell_type": "code",
   "execution_count": null,
   "metadata": {},
   "outputs": [],
   "source": []
  }
 ],
 "metadata": {
  "kernelspec": {
   "display_name": "Python 3",
   "language": "python",
   "name": "python3"
  },
  "language_info": {
   "codemirror_mode": {
    "name": "ipython",
    "version": 3
   },
   "file_extension": ".py",
   "mimetype": "text/x-python",
   "name": "python",
   "nbconvert_exporter": "python",
   "pygments_lexer": "ipython3",
   "version": "3.7.4"
  }
 },
 "nbformat": 4,
 "nbformat_minor": 2
}

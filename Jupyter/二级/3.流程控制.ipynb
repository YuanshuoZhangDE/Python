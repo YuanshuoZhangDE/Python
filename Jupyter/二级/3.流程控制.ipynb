{
 "cells": [
  {
   "cell_type": "markdown",
   "metadata": {},
   "source": [
    "## 流程控制"
   ]
  },
  {
   "cell_type": "markdown",
   "metadata": {},
   "source": [
    "流程：计算机执行代码的顺序就是流程。"
   ]
  },
  {
   "cell_type": "markdown",
   "metadata": {},
   "source": [
    "流程控制：对计算机代码执行顺序的管理就是流程控制。"
   ]
  },
  {
   "cell_type": "markdown",
   "metadata": {},
   "source": [
    "流程控制一共分为三类：\n",
    "- 顺序结构\n",
    "- 分支结构/选择结构\n",
    "- 循环结构"
   ]
  },
  {
   "cell_type": "markdown",
   "metadata": {},
   "source": [
    "### 顺序结构"
   ]
  },
  {
   "cell_type": "markdown",
   "metadata": {},
   "source": [
    "顺序结构就是代码一种自上而下执行的结构，是Python默认的流程。"
   ]
  },
  {
   "cell_type": "markdown",
   "metadata": {},
   "source": [
    "### 分支/选择结构"
   ]
  },
  {
   "cell_type": "markdown",
   "metadata": {},
   "source": [
    "分支结构一共分为四类：\n",
    "- 单项分支\n",
    "- 双项分支\n",
    "- 多项分支\n",
    "- 巢状分支"
   ]
  },
  {
   "cell_type": "markdown",
   "metadata": {},
   "source": [
    "#### 单项分支"
   ]
  },
  {
   "cell_type": "markdown",
   "metadata": {},
   "source": [
    "格式："
   ]
  },
  {
   "cell_type": "code",
   "execution_count": null,
   "metadata": {},
   "outputs": [],
   "source": [
    "if 条件表达式:\n",
    "    一条Python语句\n",
    "    一条Python语句\n",
    "    一条Python语句\n",
    "    ... ..."
   ]
  },
  {
   "cell_type": "markdown",
   "metadata": {},
   "source": [
    "特征：\n",
    "- if条件表达式结果为真，则执行if之后所控制的代码组，如果为假，则不执行后面的代码组\n",
    "- :之后下一行的内容必须缩进，否则语法错误\n",
    "- if:后面的代码是在条件表达式结果为真的条件下执行的，所以称之为真区间或者if区间"
   ]
  },
  {
   "cell_type": "code",
   "execution_count": 1,
   "metadata": {
    "ExecuteTime": {
     "end_time": "2020-02-18T09:19:31.031204Z",
     "start_time": "2020-02-18T09:19:31.023995Z"
    }
   },
   "outputs": [
    {
     "name": "stdout",
     "output_type": "stream",
     "text": [
      "刚他！直接刚！\n"
     ]
    }
   ],
   "source": [
    "Linlin = 'love'\n",
    "if Linlin == 'love':\n",
    "    print('刚他！直接刚！')"
   ]
  },
  {
   "cell_type": "code",
   "execution_count": 2,
   "metadata": {
    "ExecuteTime": {
     "end_time": "2020-02-18T09:22:05.943657Z",
     "start_time": "2020-02-18T09:22:05.938931Z"
    }
   },
   "outputs": [],
   "source": [
    "Linlin = 'hate'\n",
    "if Linlin == 'love':\n",
    "    print('刚他！直接刚！')"
   ]
  },
  {
   "cell_type": "markdown",
   "metadata": {},
   "source": [
    "#### 双项分支"
   ]
  },
  {
   "cell_type": "markdown",
   "metadata": {},
   "source": [
    "格式："
   ]
  },
  {
   "cell_type": "code",
   "execution_count": null,
   "metadata": {},
   "outputs": [],
   "source": [
    "if 条件表达式:\n",
    "    一条Python语句\n",
    "    一条Python语句\n",
    "    一条Python语句\n",
    "    ... ...\n",
    "else:\n",
    "    一条Python语句\n",
    "    一条Python语句\n",
    "    一条Python语句\n",
    "    ... ..."
   ]
  },
  {
   "cell_type": "markdown",
   "metadata": {},
   "source": [
    "特征："
   ]
  },
  {
   "cell_type": "markdown",
   "metadata": {},
   "source": [
    "- 双项分支有2个区间：True控制的if区间和False控制的else区间\n",
    "- :之后下一行的内容必须缩进"
   ]
  },
  {
   "cell_type": "code",
   "execution_count": 4,
   "metadata": {
    "ExecuteTime": {
     "end_time": "2020-02-18T10:18:37.358932Z",
     "start_time": "2020-02-18T10:18:37.351653Z"
    }
   },
   "outputs": [
    {
     "name": "stdout",
     "output_type": "stream",
     "text": [
      "刚他！使劲刚！\n"
     ]
    }
   ],
   "source": [
    "Linlin = \"男\"\n",
    "if Linlin == \"男\":\n",
    "    print('刚他！使劲刚！')\n",
    "else:\n",
    "    print('亲她！')"
   ]
  },
  {
   "cell_type": "markdown",
   "metadata": {},
   "source": [
    "#### 多项分支"
   ]
  },
  {
   "cell_type": "markdown",
   "metadata": {},
   "source": [
    "格式："
   ]
  },
  {
   "cell_type": "code",
   "execution_count": null,
   "metadata": {},
   "outputs": [],
   "source": [
    "if 条件表达式:\n",
    "    一条Python语句\n",
    "    一条Python语句\n",
    "    一条Python语句\n",
    "elif:\n",
    "    一条Python语句\n",
    "    一条Python语句\n",
    "    一条Python语句\n",
    "elif:\n",
    "    一条Python语句\n",
    "    一条Python语句\n",
    "    一条Python语句\n",
    "\n",
    "else:\n",
    "    一条Python语句\n",
    "    一条Python语句\n",
    "    一条Python语句\n",
    "    ... ..."
   ]
  },
  {
   "cell_type": "markdown",
   "metadata": {},
   "source": [
    "特征："
   ]
  },
  {
   "cell_type": "markdown",
   "metadata": {},
   "source": [
    "- 多项分支可以添加无限个elif分支，如论如何只会执行一个分支\n",
    "- 执行完一个分支后，分支结构就会结束，后面的分支都不会判断也不会执行\n",
    "- 多项分支的判断是自上而下逐个分支进行判断"
   ]
  },
  {
   "cell_type": "markdown",
   "metadata": {},
   "source": [
    "注意：Python没有switch...case分支"
   ]
  },
  {
   "cell_type": "markdown",
   "metadata": {},
   "source": [
    "#### 巢状分支"
   ]
  },
  {
   "cell_type": "code",
   "execution_count": 7,
   "metadata": {
    "ExecuteTime": {
     "end_time": "2020-02-18T11:24:25.366028Z",
     "start_time": "2020-02-18T11:24:25.357506Z"
    }
   },
   "outputs": [
    {
     "name": "stdout",
     "output_type": "stream",
     "text": [
      "滚犊子！\n"
     ]
    }
   ],
   "source": [
    "# 使用巢状分支完成你的欲望\n",
    "#搭讪阶段\n",
    "dashan = False#True:香奈儿，False:花生米\n",
    "#吃饭阶段\n",
    "chifan = False#True:愿意，False：不愿意\n",
    "#牵手阶段\n",
    "lashou = False#True:愿意，False：不愿意\n",
    "#看夜场电影阶段\n",
    "kandianying = False#True:愿意，False：不愿意\n",
    "#没羞没臊阶段\n",
    "meixiumeisao = False#True:愿意，False：不愿意\n",
    "\n",
    "#搭讪阶段\n",
    "if dashan == True:\n",
    "    print('你真是个心的善良的人！')\n",
    "    #吃饭阶段\n",
    "    if chifan == True:\n",
    "        print('愿意吖，我最喜欢6块钱的麻辣烫了！')\n",
    "        #拉手阶段\n",
    "        if lashou == True:\n",
    "            print('你的手真温柔！')\n",
    "            if kandianying == True:\n",
    "                print('这个电影真好看！')\n",
    "                if meixiumeisao == True:\n",
    "                    pass\n",
    "                else:\n",
    "                    pass\n",
    "            else:\n",
    "                print('没想到你是这样的人！凑变态！')\n",
    "        else:\n",
    "            print('你干啥呀！别碰我！')\n",
    "    else:\n",
    "        print('不好意！我有约会了！')\n",
    "else:\n",
    "    print('滚犊子！')\n"
   ]
  },
  {
   "cell_type": "code",
   "execution_count": null,
   "metadata": {},
   "outputs": [],
   "source": []
  }
 ],
 "metadata": {
  "kernelspec": {
   "display_name": "Python 3",
   "language": "python",
   "name": "python3"
  },
  "language_info": {
   "codemirror_mode": {
    "name": "ipython",
    "version": 3
   },
   "file_extension": ".py",
   "mimetype": "text/x-python",
   "name": "python",
   "nbconvert_exporter": "python",
   "pygments_lexer": "ipython3",
   "version": "3.6.5"
  },
  "toc": {
   "base_numbering": 1,
   "nav_menu": {},
   "number_sections": true,
   "sideBar": true,
   "skip_h1_title": false,
   "title_cell": "Table of Contents",
   "title_sidebar": "Contents",
   "toc_cell": false,
   "toc_position": {},
   "toc_section_display": true,
   "toc_window_display": true
  },
  "varInspector": {
   "cols": {
    "lenName": 16,
    "lenType": 16,
    "lenVar": 40
   },
   "kernels_config": {
    "python": {
     "delete_cmd_postfix": "",
     "delete_cmd_prefix": "del ",
     "library": "var_list.py",
     "varRefreshCmd": "print(var_dic_list())"
    },
    "r": {
     "delete_cmd_postfix": ") ",
     "delete_cmd_prefix": "rm(",
     "library": "var_list.r",
     "varRefreshCmd": "cat(var_dic_list()) "
    }
   },
   "types_to_exclude": [
    "module",
    "function",
    "builtin_function_or_method",
    "instance",
    "_Feature"
   ],
   "window_display": false
  }
 },
 "nbformat": 4,
 "nbformat_minor": 2
}

{
 "cells": [
  {
   "cell_type": "code",
   "execution_count": 1,
   "metadata": {},
   "outputs": [],
   "source": [
    "import pandas as pd\n",
    "import numpy as np\n",
    "import matplotlib.pyplot as plt"
   ]
  },
  {
   "cell_type": "code",
   "execution_count": 2,
   "metadata": {},
   "outputs": [
    {
     "data": {
      "text/html": [
       "<div>\n",
       "<style scoped>\n",
       "    .dataframe tbody tr th:only-of-type {\n",
       "        vertical-align: middle;\n",
       "    }\n",
       "\n",
       "    .dataframe tbody tr th {\n",
       "        vertical-align: top;\n",
       "    }\n",
       "\n",
       "    .dataframe thead th {\n",
       "        text-align: right;\n",
       "    }\n",
       "</style>\n",
       "<table border=\"1\" class=\"dataframe\">\n",
       "  <thead>\n",
       "    <tr style=\"text-align: right;\">\n",
       "      <th></th>\n",
       "      <th>@</th>\n",
       "      <th>id</th>\n",
       "      <th>energy</th>\n",
       "    </tr>\n",
       "  </thead>\n",
       "  <tbody>\n",
       "    <tr>\n",
       "      <td>0</td>\n",
       "      <td>@min</td>\n",
       "      <td>1</td>\n",
       "      <td>-4866.876003</td>\n",
       "    </tr>\n",
       "    <tr>\n",
       "      <td>1</td>\n",
       "      <td>@min</td>\n",
       "      <td>2</td>\n",
       "      <td>-4866.906972</td>\n",
       "    </tr>\n",
       "    <tr>\n",
       "      <td>2</td>\n",
       "      <td>@min</td>\n",
       "      <td>3</td>\n",
       "      <td>-4866.896739</td>\n",
       "    </tr>\n",
       "    <tr>\n",
       "      <td>3</td>\n",
       "      <td>@min</td>\n",
       "      <td>4</td>\n",
       "      <td>-4866.832186</td>\n",
       "    </tr>\n",
       "    <tr>\n",
       "      <td>4</td>\n",
       "      <td>@min</td>\n",
       "      <td>5</td>\n",
       "      <td>-4866.899966</td>\n",
       "    </tr>\n",
       "    <tr>\n",
       "      <td>...</td>\n",
       "      <td>...</td>\n",
       "      <td>...</td>\n",
       "      <td>...</td>\n",
       "    </tr>\n",
       "    <tr>\n",
       "      <td>1206704</td>\n",
       "      <td>@min</td>\n",
       "      <td>1206705</td>\n",
       "      <td>-4866.927305</td>\n",
       "    </tr>\n",
       "    <tr>\n",
       "      <td>1206705</td>\n",
       "      <td>@min</td>\n",
       "      <td>1206706</td>\n",
       "      <td>-4866.840572</td>\n",
       "    </tr>\n",
       "    <tr>\n",
       "      <td>1206706</td>\n",
       "      <td>@min</td>\n",
       "      <td>1206707</td>\n",
       "      <td>-4866.967313</td>\n",
       "    </tr>\n",
       "    <tr>\n",
       "      <td>1206707</td>\n",
       "      <td>@min</td>\n",
       "      <td>1206708</td>\n",
       "      <td>-4866.933234</td>\n",
       "    </tr>\n",
       "    <tr>\n",
       "      <td>1206708</td>\n",
       "      <td>@min</td>\n",
       "      <td>1206709</td>\n",
       "      <td>-4866.820214</td>\n",
       "    </tr>\n",
       "  </tbody>\n",
       "</table>\n",
       "<p>1206709 rows × 3 columns</p>\n",
       "</div>"
      ],
      "text/plain": [
       "            @       id       energy\n",
       "0        @min        1 -4866.876003\n",
       "1        @min        2 -4866.906972\n",
       "2        @min        3 -4866.896739\n",
       "3        @min        4 -4866.832186\n",
       "4        @min        5 -4866.899966\n",
       "...       ...      ...          ...\n",
       "1206704  @min  1206705 -4866.927305\n",
       "1206705  @min  1206706 -4866.840572\n",
       "1206706  @min  1206707 -4866.967313\n",
       "1206707  @min  1206708 -4866.933234\n",
       "1206708  @min  1206709 -4866.820214\n",
       "\n",
       "[1206709 rows x 3 columns]"
      ]
     },
     "execution_count": 2,
     "metadata": {},
     "output_type": "execute_result"
    }
   ],
   "source": [
    "data = pd.read_csv(\"vs.txt\", sep=\" \")\n",
    "data"
   ]
  },
  {
   "cell_type": "code",
   "execution_count": 3,
   "metadata": {},
   "outputs": [
    {
     "data": {
      "text/html": [
       "<div>\n",
       "<style scoped>\n",
       "    .dataframe tbody tr th:only-of-type {\n",
       "        vertical-align: middle;\n",
       "    }\n",
       "\n",
       "    .dataframe tbody tr th {\n",
       "        vertical-align: top;\n",
       "    }\n",
       "\n",
       "    .dataframe thead th {\n",
       "        text-align: right;\n",
       "    }\n",
       "</style>\n",
       "<table border=\"1\" class=\"dataframe\">\n",
       "  <thead>\n",
       "    <tr style=\"text-align: right;\">\n",
       "      <th></th>\n",
       "      <th>@</th>\n",
       "      <th>id</th>\n",
       "      <th>energy</th>\n",
       "    </tr>\n",
       "  </thead>\n",
       "  <tbody>\n",
       "    <tr>\n",
       "      <td>0</td>\n",
       "      <td>@min</td>\n",
       "      <td>936913</td>\n",
       "      <td>-4866.554600</td>\n",
       "    </tr>\n",
       "    <tr>\n",
       "      <td>1</td>\n",
       "      <td>@min</td>\n",
       "      <td>620578</td>\n",
       "      <td>-4866.574122</td>\n",
       "    </tr>\n",
       "    <tr>\n",
       "      <td>2</td>\n",
       "      <td>@min</td>\n",
       "      <td>550282</td>\n",
       "      <td>-4866.574427</td>\n",
       "    </tr>\n",
       "    <tr>\n",
       "      <td>3</td>\n",
       "      <td>@min</td>\n",
       "      <td>959312</td>\n",
       "      <td>-4866.578772</td>\n",
       "    </tr>\n",
       "    <tr>\n",
       "      <td>4</td>\n",
       "      <td>@min</td>\n",
       "      <td>1089596</td>\n",
       "      <td>-4866.586317</td>\n",
       "    </tr>\n",
       "    <tr>\n",
       "      <td>...</td>\n",
       "      <td>...</td>\n",
       "      <td>...</td>\n",
       "      <td>...</td>\n",
       "    </tr>\n",
       "    <tr>\n",
       "      <td>1206704</td>\n",
       "      <td>@min</td>\n",
       "      <td>14072</td>\n",
       "      <td>-4867.117823</td>\n",
       "    </tr>\n",
       "    <tr>\n",
       "      <td>1206705</td>\n",
       "      <td>@min</td>\n",
       "      <td>656438</td>\n",
       "      <td>-4867.118912</td>\n",
       "    </tr>\n",
       "    <tr>\n",
       "      <td>1206706</td>\n",
       "      <td>@min</td>\n",
       "      <td>984904</td>\n",
       "      <td>-4867.126341</td>\n",
       "    </tr>\n",
       "    <tr>\n",
       "      <td>1206707</td>\n",
       "      <td>@min</td>\n",
       "      <td>58083</td>\n",
       "      <td>-4867.131050</td>\n",
       "    </tr>\n",
       "    <tr>\n",
       "      <td>1206708</td>\n",
       "      <td>@min</td>\n",
       "      <td>920361</td>\n",
       "      <td>-4867.147255</td>\n",
       "    </tr>\n",
       "  </tbody>\n",
       "</table>\n",
       "<p>1206709 rows × 3 columns</p>\n",
       "</div>"
      ],
      "text/plain": [
       "            @       id       energy\n",
       "0        @min   936913 -4866.554600\n",
       "1        @min   620578 -4866.574122\n",
       "2        @min   550282 -4866.574427\n",
       "3        @min   959312 -4866.578772\n",
       "4        @min  1089596 -4866.586317\n",
       "...       ...      ...          ...\n",
       "1206704  @min    14072 -4867.117823\n",
       "1206705  @min   656438 -4867.118912\n",
       "1206706  @min   984904 -4867.126341\n",
       "1206707  @min    58083 -4867.131050\n",
       "1206708  @min   920361 -4867.147255\n",
       "\n",
       "[1206709 rows x 3 columns]"
      ]
     },
     "execution_count": 3,
     "metadata": {},
     "output_type": "execute_result"
    }
   ],
   "source": [
    "sort = data.sort_values(by='energy', ascending=False)\n",
    "sort.reset_index(drop=True, inplace=True)\n",
    "sort"
   ]
  },
  {
   "cell_type": "code",
   "execution_count": 4,
   "metadata": {},
   "outputs": [],
   "source": [
    "#ID = sort['id']\n",
    "ENERGY = sort['energy']"
   ]
  },
  {
   "cell_type": "code",
   "execution_count": 5,
   "metadata": {},
   "outputs": [
    {
     "data": {
      "text/plain": [
       "[<matplotlib.lines.Line2D at 0x1edb0afb608>]"
      ]
     },
     "execution_count": 5,
     "metadata": {},
     "output_type": "execute_result"
    },
    {
     "data": {
      "image/png": "[encoded data removed]",
      "text/plain": [
       "<Figure size 432x288 with 1 Axes>"
      ]
     },
     "metadata": {
      "needs_background": "light"
     },
     "output_type": "display_data"
    }
   ],
   "source": [
    "plt.xlabel(\"index\")\n",
    "plt.ylabel(\"Energy\")\n",
    "plt.plot(ENERGY)"
   ]
  },
  {
   "cell_type": "code",
   "execution_count": null,
   "metadata": {},
   "outputs": [],
   "source": []
  }
 ],
 "metadata": {
  "kernelspec": {
   "display_name": "Python 3",
   "language": "python",
   "name": "python3"
  },
  "language_info": {
   "codemirror_mode": {
    "name": "ipython",
    "version": 3
   },
   "file_extension": ".py",
   "mimetype": "text/x-python",
   "name": "python",
   "nbconvert_exporter": "python",
   "pygments_lexer": "ipython3",
   "version": "3.7.4"
  }
 },
 "nbformat": 4,
 "nbformat_minor": 4
}

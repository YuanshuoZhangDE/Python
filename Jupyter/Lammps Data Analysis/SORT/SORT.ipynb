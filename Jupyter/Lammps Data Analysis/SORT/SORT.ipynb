{
 "cells": [
  {
   "cell_type": "code",
   "execution_count": 1,
   "metadata": {},
   "outputs": [],
   "source": [
    "import pandas as pd\n",
    "import numpy as np\n",
    "import matplotlib.pyplot as plt"
   ]
  },
  {
   "cell_type": "code",
   "execution_count": 22,
   "metadata": {},
   "outputs": [
    {
     "data": {
      "text/html": [
       "<div>\n",
       "<style scoped>\n",
       "    .dataframe tbody tr th:only-of-type {\n",
       "        vertical-align: middle;\n",
       "    }\n",
       "\n",
       "    .dataframe tbody tr th {\n",
       "        vertical-align: top;\n",
       "    }\n",
       "\n",
       "    .dataframe thead th {\n",
       "        text-align: right;\n",
       "    }\n",
       "</style>\n",
       "<table border=\"1\" class=\"dataframe\">\n",
       "  <thead>\n",
       "    <tr style=\"text-align: right;\">\n",
       "      <th></th>\n",
       "      <th>@</th>\n",
       "      <th>id</th>\n",
       "      <th>energy</th>\n",
       "    </tr>\n",
       "  </thead>\n",
       "  <tbody>\n",
       "    <tr>\n",
       "      <td>0</td>\n",
       "      <td>@min</td>\n",
       "      <td>1</td>\n",
       "      <td>-4871.548832</td>\n",
       "    </tr>\n",
       "    <tr>\n",
       "      <td>1</td>\n",
       "      <td>@min</td>\n",
       "      <td>2</td>\n",
       "      <td>-4871.548832</td>\n",
       "    </tr>\n",
       "    <tr>\n",
       "      <td>2</td>\n",
       "      <td>@min</td>\n",
       "      <td>3</td>\n",
       "      <td>-4871.546428</td>\n",
       "    </tr>\n",
       "    <tr>\n",
       "      <td>3</td>\n",
       "      <td>@min</td>\n",
       "      <td>4</td>\n",
       "      <td>-4871.548198</td>\n",
       "    </tr>\n",
       "    <tr>\n",
       "      <td>4</td>\n",
       "      <td>@min</td>\n",
       "      <td>5</td>\n",
       "      <td>-4872.855638</td>\n",
       "    </tr>\n",
       "    <tr>\n",
       "      <td>...</td>\n",
       "      <td>...</td>\n",
       "      <td>...</td>\n",
       "      <td>...</td>\n",
       "    </tr>\n",
       "    <tr>\n",
       "      <td>1995</td>\n",
       "      <td>@min</td>\n",
       "      <td>1996</td>\n",
       "      <td>-4872.888079</td>\n",
       "    </tr>\n",
       "    <tr>\n",
       "      <td>1996</td>\n",
       "      <td>@min</td>\n",
       "      <td>1997</td>\n",
       "      <td>-4871.550288</td>\n",
       "    </tr>\n",
       "    <tr>\n",
       "      <td>1997</td>\n",
       "      <td>@min</td>\n",
       "      <td>1998</td>\n",
       "      <td>-4872.860912</td>\n",
       "    </tr>\n",
       "    <tr>\n",
       "      <td>1998</td>\n",
       "      <td>@min</td>\n",
       "      <td>1999</td>\n",
       "      <td>-4872.857038</td>\n",
       "    </tr>\n",
       "    <tr>\n",
       "      <td>1999</td>\n",
       "      <td>@min</td>\n",
       "      <td>2000</td>\n",
       "      <td>-4872.854984</td>\n",
       "    </tr>\n",
       "  </tbody>\n",
       "</table>\n",
       "<p>2000 rows × 3 columns</p>\n",
       "</div>"
      ],
      "text/plain": [
       "         @    id       energy\n",
       "0     @min     1 -4871.548832\n",
       "1     @min     2 -4871.548832\n",
       "2     @min     3 -4871.546428\n",
       "3     @min     4 -4871.548198\n",
       "4     @min     5 -4872.855638\n",
       "...    ...   ...          ...\n",
       "1995  @min  1996 -4872.888079\n",
       "1996  @min  1997 -4871.550288\n",
       "1997  @min  1998 -4872.860912\n",
       "1998  @min  1999 -4872.857038\n",
       "1999  @min  2000 -4872.854984\n",
       "\n",
       "[2000 rows x 3 columns]"
      ]
     },
     "execution_count": 22,
     "metadata": {},
     "output_type": "execute_result"
    }
   ],
   "source": [
    "data = pd.read_csv(\"1024-7.txt\", sep=\" \")\n",
    "data"
   ]
  },
  {
   "cell_type": "code",
   "execution_count": 23,
   "metadata": {},
   "outputs": [
    {
     "data": {
      "text/html": [
       "<div>\n",
       "<style scoped>\n",
       "    .dataframe tbody tr th:only-of-type {\n",
       "        vertical-align: middle;\n",
       "    }\n",
       "\n",
       "    .dataframe tbody tr th {\n",
       "        vertical-align: top;\n",
       "    }\n",
       "\n",
       "    .dataframe thead th {\n",
       "        text-align: right;\n",
       "    }\n",
       "</style>\n",
       "<table border=\"1\" class=\"dataframe\">\n",
       "  <thead>\n",
       "    <tr style=\"text-align: right;\">\n",
       "      <th></th>\n",
       "      <th>@</th>\n",
       "      <th>id</th>\n",
       "      <th>energy</th>\n",
       "    </tr>\n",
       "  </thead>\n",
       "  <tbody>\n",
       "    <tr>\n",
       "      <td>0</td>\n",
       "      <td>@min</td>\n",
       "      <td>893</td>\n",
       "      <td>-4871.533078</td>\n",
       "    </tr>\n",
       "    <tr>\n",
       "      <td>1</td>\n",
       "      <td>@min</td>\n",
       "      <td>86</td>\n",
       "      <td>-4871.533078</td>\n",
       "    </tr>\n",
       "    <tr>\n",
       "      <td>2</td>\n",
       "      <td>@min</td>\n",
       "      <td>1842</td>\n",
       "      <td>-4871.533078</td>\n",
       "    </tr>\n",
       "    <tr>\n",
       "      <td>3</td>\n",
       "      <td>@min</td>\n",
       "      <td>678</td>\n",
       "      <td>-4871.533078</td>\n",
       "    </tr>\n",
       "    <tr>\n",
       "      <td>4</td>\n",
       "      <td>@min</td>\n",
       "      <td>773</td>\n",
       "      <td>-4871.533301</td>\n",
       "    </tr>\n",
       "    <tr>\n",
       "      <td>...</td>\n",
       "      <td>...</td>\n",
       "      <td>...</td>\n",
       "      <td>...</td>\n",
       "    </tr>\n",
       "    <tr>\n",
       "      <td>1995</td>\n",
       "      <td>@min</td>\n",
       "      <td>199</td>\n",
       "      <td>-4872.894720</td>\n",
       "    </tr>\n",
       "    <tr>\n",
       "      <td>1996</td>\n",
       "      <td>@min</td>\n",
       "      <td>1198</td>\n",
       "      <td>-4872.894775</td>\n",
       "    </tr>\n",
       "    <tr>\n",
       "      <td>1997</td>\n",
       "      <td>@min</td>\n",
       "      <td>174</td>\n",
       "      <td>-4872.894775</td>\n",
       "    </tr>\n",
       "    <tr>\n",
       "      <td>1998</td>\n",
       "      <td>@min</td>\n",
       "      <td>201</td>\n",
       "      <td>-4872.895172</td>\n",
       "    </tr>\n",
       "    <tr>\n",
       "      <td>1999</td>\n",
       "      <td>@min</td>\n",
       "      <td>68</td>\n",
       "      <td>-4872.895172</td>\n",
       "    </tr>\n",
       "  </tbody>\n",
       "</table>\n",
       "<p>2000 rows × 3 columns</p>\n",
       "</div>"
      ],
      "text/plain": [
       "         @    id       energy\n",
       "0     @min   893 -4871.533078\n",
       "1     @min    86 -4871.533078\n",
       "2     @min  1842 -4871.533078\n",
       "3     @min   678 -4871.533078\n",
       "4     @min   773 -4871.533301\n",
       "...    ...   ...          ...\n",
       "1995  @min   199 -4872.894720\n",
       "1996  @min  1198 -4872.894775\n",
       "1997  @min   174 -4872.894775\n",
       "1998  @min   201 -4872.895172\n",
       "1999  @min    68 -4872.895172\n",
       "\n",
       "[2000 rows x 3 columns]"
      ]
     },
     "execution_count": 23,
     "metadata": {},
     "output_type": "execute_result"
    }
   ],
   "source": [
    "sort = data.sort_values(by='energy', ascending=False)\n",
    "sort.reset_index(drop=True, inplace=True)\n",
    "sort\n"
   ]
  },
  {
   "cell_type": "code",
   "execution_count": 24,
   "metadata": {},
   "outputs": [],
   "source": [
    "# star = int(input(\"起始行数：\"))\n",
    "\n",
    "# end = int(input(\"结束行数：\"))\n",
    "\n",
    "# cut_sort = sort.iloc[star: end+1, :]\n",
    "\n",
    "# cut_sort"
   ]
  },
  {
   "cell_type": "code",
   "execution_count": 25,
   "metadata": {},
   "outputs": [],
   "source": [
    "#ID = sort['id']\n",
    "Energy = sort['energy']"
   ]
  },
  {
   "cell_type": "code",
   "execution_count": 26,
   "metadata": {},
   "outputs": [
    {
     "data": {
      "text/plain": [
       "[<matplotlib.lines.Line2D at 0x1eb8cafb648>]"
      ]
     },
     "execution_count": 26,
     "metadata": {},
     "output_type": "execute_result"
    },
    {
     "data": {
      "image/png": "[encoded data removed]",
      "text/plain": [
       "<Figure size 432x288 with 1 Axes>"
      ]
     },
     "metadata": {
      "needs_background": "light"
     },
     "output_type": "display_data"
    }
   ],
   "source": [
    "plt.xlabel(\"index\")\n",
    "plt.ylabel(\"Energy\")\n",
    "#plt.ylim((-4867.14, -4866.52))\n",
    "#y_ticks = np.arange(-4867.14, -4866.52, 0.1)\n",
    "#plt.yticks(y_ticks)\n",
    "plt.plot(Energy)"
   ]
  },
  {
   "cell_type": "code",
   "execution_count": null,
   "metadata": {},
   "outputs": [],
   "source": []
  }
 ],
 "metadata": {
  "kernelspec": {
   "display_name": "Python 3",
   "language": "python",
   "name": "python3"
  },
  "language_info": {
   "codemirror_mode": {
    "name": "ipython",
    "version": 3
   },
   "file_extension": ".py",
   "mimetype": "text/x-python",
   "name": "python",
   "nbconvert_exporter": "python",
   "pygments_lexer": "ipython3",
   "version": "3.7.4"
  }
 },
 "nbformat": 4,
 "nbformat_minor": 4
}

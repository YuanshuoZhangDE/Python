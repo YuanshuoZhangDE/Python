{
 "cells": [
  {
   "cell_type": "code",
   "execution_count": 1,
   "metadata": {},
   "outputs": [],
   "source": [
    "import pandas as pd\n",
    "import numpy as np\n",
    "import matplotlib.pyplot as plt"
   ]
  },
  {
   "cell_type": "code",
   "execution_count": 2,
   "metadata": {},
   "outputs": [
    {
     "data": {
      "text/html": [
       "<div>\n",
       "<style scoped>\n",
       "    .dataframe tbody tr th:only-of-type {\n",
       "        vertical-align: middle;\n",
       "    }\n",
       "\n",
       "    .dataframe tbody tr th {\n",
       "        vertical-align: top;\n",
       "    }\n",
       "\n",
       "    .dataframe thead th {\n",
       "        text-align: right;\n",
       "    }\n",
       "</style>\n",
       "<table border=\"1\" class=\"dataframe\">\n",
       "  <thead>\n",
       "    <tr style=\"text-align: right;\">\n",
       "      <th></th>\n",
       "      <th>@</th>\n",
       "      <th>id</th>\n",
       "      <th>energy</th>\n",
       "    </tr>\n",
       "  </thead>\n",
       "  <tbody>\n",
       "    <tr>\n",
       "      <td>0</td>\n",
       "      <td>@min</td>\n",
       "      <td>1</td>\n",
       "      <td>-1828.481759</td>\n",
       "    </tr>\n",
       "    <tr>\n",
       "      <td>1</td>\n",
       "      <td>@min</td>\n",
       "      <td>2</td>\n",
       "      <td>-1828.484904</td>\n",
       "    </tr>\n",
       "    <tr>\n",
       "      <td>2</td>\n",
       "      <td>@min</td>\n",
       "      <td>3</td>\n",
       "      <td>-1828.450830</td>\n",
       "    </tr>\n",
       "    <tr>\n",
       "      <td>3</td>\n",
       "      <td>@min</td>\n",
       "      <td>4</td>\n",
       "      <td>-1828.450830</td>\n",
       "    </tr>\n",
       "    <tr>\n",
       "      <td>4</td>\n",
       "      <td>@min</td>\n",
       "      <td>5</td>\n",
       "      <td>-1828.450830</td>\n",
       "    </tr>\n",
       "    <tr>\n",
       "      <td>...</td>\n",
       "      <td>...</td>\n",
       "      <td>...</td>\n",
       "      <td>...</td>\n",
       "    </tr>\n",
       "    <tr>\n",
       "      <td>277772</td>\n",
       "      <td>@min</td>\n",
       "      <td>277773</td>\n",
       "      <td>-1828.481756</td>\n",
       "    </tr>\n",
       "    <tr>\n",
       "      <td>277773</td>\n",
       "      <td>@min</td>\n",
       "      <td>277774</td>\n",
       "      <td>-1828.450982</td>\n",
       "    </tr>\n",
       "    <tr>\n",
       "      <td>277774</td>\n",
       "      <td>@min</td>\n",
       "      <td>277775</td>\n",
       "      <td>-1828.450982</td>\n",
       "    </tr>\n",
       "    <tr>\n",
       "      <td>277775</td>\n",
       "      <td>@min</td>\n",
       "      <td>277776</td>\n",
       "      <td>-1828.481761</td>\n",
       "    </tr>\n",
       "    <tr>\n",
       "      <td>277776</td>\n",
       "      <td>@min</td>\n",
       "      <td>277777</td>\n",
       "      <td>-1828.451057</td>\n",
       "    </tr>\n",
       "  </tbody>\n",
       "</table>\n",
       "<p>277777 rows × 3 columns</p>\n",
       "</div>"
      ],
      "text/plain": [
       "           @      id       energy\n",
       "0       @min       1 -1828.481759\n",
       "1       @min       2 -1828.484904\n",
       "2       @min       3 -1828.450830\n",
       "3       @min       4 -1828.450830\n",
       "4       @min       5 -1828.450830\n",
       "...      ...     ...          ...\n",
       "277772  @min  277773 -1828.481756\n",
       "277773  @min  277774 -1828.450982\n",
       "277774  @min  277775 -1828.450982\n",
       "277775  @min  277776 -1828.481761\n",
       "277776  @min  277777 -1828.451057\n",
       "\n",
       "[277777 rows x 3 columns]"
      ]
     },
     "execution_count": 2,
     "metadata": {},
     "output_type": "execute_result"
    }
   ],
   "source": [
    "data = pd.read_csv(\"3-1-1.txt\", sep=\" \")\n",
    "data"
   ]
  },
  {
   "cell_type": "code",
   "execution_count": 3,
   "metadata": {},
   "outputs": [
    {
     "data": {
      "text/html": [
       "<div>\n",
       "<style scoped>\n",
       "    .dataframe tbody tr th:only-of-type {\n",
       "        vertical-align: middle;\n",
       "    }\n",
       "\n",
       "    .dataframe tbody tr th {\n",
       "        vertical-align: top;\n",
       "    }\n",
       "\n",
       "    .dataframe thead th {\n",
       "        text-align: right;\n",
       "    }\n",
       "</style>\n",
       "<table border=\"1\" class=\"dataframe\">\n",
       "  <thead>\n",
       "    <tr style=\"text-align: right;\">\n",
       "      <th></th>\n",
       "      <th>@</th>\n",
       "      <th>id</th>\n",
       "      <th>energy</th>\n",
       "    </tr>\n",
       "  </thead>\n",
       "  <tbody>\n",
       "    <tr>\n",
       "      <td>0</td>\n",
       "      <td>@min</td>\n",
       "      <td>223657</td>\n",
       "      <td>-1828.40568</td>\n",
       "    </tr>\n",
       "    <tr>\n",
       "      <td>1</td>\n",
       "      <td>@min</td>\n",
       "      <td>186847</td>\n",
       "      <td>-1828.40568</td>\n",
       "    </tr>\n",
       "    <tr>\n",
       "      <td>2</td>\n",
       "      <td>@min</td>\n",
       "      <td>135758</td>\n",
       "      <td>-1828.40568</td>\n",
       "    </tr>\n",
       "    <tr>\n",
       "      <td>3</td>\n",
       "      <td>@min</td>\n",
       "      <td>135759</td>\n",
       "      <td>-1828.40568</td>\n",
       "    </tr>\n",
       "    <tr>\n",
       "      <td>4</td>\n",
       "      <td>@min</td>\n",
       "      <td>135760</td>\n",
       "      <td>-1828.40568</td>\n",
       "    </tr>\n",
       "    <tr>\n",
       "      <td>...</td>\n",
       "      <td>...</td>\n",
       "      <td>...</td>\n",
       "      <td>...</td>\n",
       "    </tr>\n",
       "    <tr>\n",
       "      <td>277772</td>\n",
       "      <td>@min</td>\n",
       "      <td>243608</td>\n",
       "      <td>-1828.52084</td>\n",
       "    </tr>\n",
       "    <tr>\n",
       "      <td>277773</td>\n",
       "      <td>@min</td>\n",
       "      <td>93249</td>\n",
       "      <td>-1828.52084</td>\n",
       "    </tr>\n",
       "    <tr>\n",
       "      <td>277774</td>\n",
       "      <td>@min</td>\n",
       "      <td>255995</td>\n",
       "      <td>-1828.52084</td>\n",
       "    </tr>\n",
       "    <tr>\n",
       "      <td>277775</td>\n",
       "      <td>@min</td>\n",
       "      <td>37673</td>\n",
       "      <td>-1828.52084</td>\n",
       "    </tr>\n",
       "    <tr>\n",
       "      <td>277776</td>\n",
       "      <td>@min</td>\n",
       "      <td>202950</td>\n",
       "      <td>-1828.52084</td>\n",
       "    </tr>\n",
       "  </tbody>\n",
       "</table>\n",
       "<p>277777 rows × 3 columns</p>\n",
       "</div>"
      ],
      "text/plain": [
       "           @      id      energy\n",
       "0       @min  223657 -1828.40568\n",
       "1       @min  186847 -1828.40568\n",
       "2       @min  135758 -1828.40568\n",
       "3       @min  135759 -1828.40568\n",
       "4       @min  135760 -1828.40568\n",
       "...      ...     ...         ...\n",
       "277772  @min  243608 -1828.52084\n",
       "277773  @min   93249 -1828.52084\n",
       "277774  @min  255995 -1828.52084\n",
       "277775  @min   37673 -1828.52084\n",
       "277776  @min  202950 -1828.52084\n",
       "\n",
       "[277777 rows x 3 columns]"
      ]
     },
     "execution_count": 3,
     "metadata": {},
     "output_type": "execute_result"
    }
   ],
   "source": [
    "sort = data.sort_values(by='energy', ascending=False)\n",
    "sort.reset_index(drop=True, inplace=True)\n",
    "sort\n"
   ]
  },
  {
   "cell_type": "code",
   "execution_count": 5,
   "metadata": {},
   "outputs": [],
   "source": [
    "# star = int(input(\"起始行数：\"))\n",
    "\n",
    "# end = int(input(\"结束行数：\"))\n",
    "\n",
    "# cut_sort = sort.iloc[star: end+1, :]\n",
    "\n",
    "# cut_sort"
   ]
  },
  {
   "cell_type": "code",
   "execution_count": 4,
   "metadata": {},
   "outputs": [],
   "source": [
    "#ID = sort['id']\n",
    "Energy = sort['energy']"
   ]
  },
  {
   "cell_type": "code",
   "execution_count": 5,
   "metadata": {},
   "outputs": [
    {
     "data": {
      "text/plain": [
       "[<matplotlib.lines.Line2D at 0x177c7861b88>]"
      ]
     },
     "execution_count": 5,
     "metadata": {},
     "output_type": "execute_result"
    },
    {
     "data": {
      "image/png": "[encoded data removed]",
      "text/plain": [
       "<Figure size 432x288 with 1 Axes>"
      ]
     },
     "metadata": {
      "needs_background": "light"
     },
     "output_type": "display_data"
    }
   ],
   "source": [
    "plt.xlabel(\"index\")\n",
    "plt.ylabel(\"Energy\")\n",
    "#plt.ylim((-4867.14, -4866.52))\n",
    "#y_ticks = np.arange(-4867.14, -4866.52, 0.1)\n",
    "#plt.yticks(y_ticks)\n",
    "plt.plot(Energy)"
   ]
  },
  {
   "cell_type": "code",
   "execution_count": null,
   "metadata": {},
   "outputs": [],
   "source": []
  }
 ],
 "metadata": {
  "kernelspec": {
   "display_name": "Python 3",
   "language": "python",
   "name": "python3"
  },
  "language_info": {
   "codemirror_mode": {
    "name": "ipython",
    "version": 3
   },
   "file_extension": ".py",
   "mimetype": "text/x-python",
   "name": "python",
   "nbconvert_exporter": "python",
   "pygments_lexer": "ipython3",
   "version": "3.7.4"
  }
 },
 "nbformat": 4,
 "nbformat_minor": 4
}

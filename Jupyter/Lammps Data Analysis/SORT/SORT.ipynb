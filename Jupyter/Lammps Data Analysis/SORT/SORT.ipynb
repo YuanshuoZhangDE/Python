{
 "cells": [
  {
   "cell_type": "code",
   "execution_count": 2,
   "metadata": {},
   "outputs": [],
   "source": [
    "import pandas as pd\n",
    "import numpy as np\n",
    "import matplotlib.pyplot as plt"
   ]
  },
  {
   "cell_type": "code",
   "execution_count": 3,
   "metadata": {},
   "outputs": [
    {
     "data": {
      "text/html": [
       "<div>\n",
       "<style scoped>\n",
       "    .dataframe tbody tr th:only-of-type {\n",
       "        vertical-align: middle;\n",
       "    }\n",
       "\n",
       "    .dataframe tbody tr th {\n",
       "        vertical-align: top;\n",
       "    }\n",
       "\n",
       "    .dataframe thead th {\n",
       "        text-align: right;\n",
       "    }\n",
       "</style>\n",
       "<table border=\"1\" class=\"dataframe\">\n",
       "  <thead>\n",
       "    <tr style=\"text-align: right;\">\n",
       "      <th></th>\n",
       "      <th>min</th>\n",
       "      <th>id</th>\n",
       "      <th>energy</th>\n",
       "    </tr>\n",
       "  </thead>\n",
       "  <tbody>\n",
       "    <tr>\n",
       "      <th>0</th>\n",
       "      <td>@min</td>\n",
       "      <td>1</td>\n",
       "      <td>-1008.458218</td>\n",
       "    </tr>\n",
       "    <tr>\n",
       "      <th>1</th>\n",
       "      <td>@min</td>\n",
       "      <td>2</td>\n",
       "      <td>-1012.793607</td>\n",
       "    </tr>\n",
       "    <tr>\n",
       "      <th>2</th>\n",
       "      <td>@min</td>\n",
       "      <td>3</td>\n",
       "      <td>-1007.734987</td>\n",
       "    </tr>\n",
       "    <tr>\n",
       "      <th>3</th>\n",
       "      <td>@min</td>\n",
       "      <td>4</td>\n",
       "      <td>-1009.475210</td>\n",
       "    </tr>\n",
       "    <tr>\n",
       "      <th>4</th>\n",
       "      <td>@min</td>\n",
       "      <td>5</td>\n",
       "      <td>-1013.809638</td>\n",
       "    </tr>\n",
       "  </tbody>\n",
       "</table>\n",
       "</div>"
      ],
      "text/plain": [
       "    min  id       energy\n",
       "0  @min   1 -1008.458218\n",
       "1  @min   2 -1012.793607\n",
       "2  @min   3 -1007.734987\n",
       "3  @min   4 -1009.475210\n",
       "4  @min   5 -1013.809638"
      ]
     },
     "execution_count": 3,
     "metadata": {},
     "output_type": "execute_result"
    }
   ],
   "source": [
    "data = pd.read_csv(\"vs.txt\", sep=\" \")\n",
    "data.head()"
   ]
  },
  {
   "cell_type": "code",
   "execution_count": 4,
   "metadata": {},
   "outputs": [],
   "source": [
    "ID = data['id']\n",
    "ENERGY = data['energy']"
   ]
  },
  {
   "cell_type": "code",
   "execution_count": 5,
   "metadata": {},
   "outputs": [
    {
     "data": {
      "text/plain": [
       "[<matplotlib.lines.Line2D at 0x1247e4d90>]"
      ]
     },
     "execution_count": 5,
     "metadata": {},
     "output_type": "execute_result"
    },
    {
     "data": {
      "image/png": "[encoded data removed]",
      "text/plain": [
       "<Figure size 432x288 with 1 Axes>"
      ]
     },
     "metadata": {
      "needs_background": "light"
     },
     "output_type": "display_data"
    }
   ],
   "source": [
    "plt.xlabel(\"ID\")\n",
    "plt.ylabel(\"Energy\")\n",
    "plt.plot(ID, ENERGY)"
   ]
  },
  {
   "cell_type": "code",
   "execution_count": 7,
   "metadata": {},
   "outputs": [
    {
     "data": {
      "text/html": [
       "<div>\n",
       "<style scoped>\n",
       "    .dataframe tbody tr th:only-of-type {\n",
       "        vertical-align: middle;\n",
       "    }\n",
       "\n",
       "    .dataframe tbody tr th {\n",
       "        vertical-align: top;\n",
       "    }\n",
       "\n",
       "    .dataframe thead th {\n",
       "        text-align: right;\n",
       "    }\n",
       "</style>\n",
       "<table border=\"1\" class=\"dataframe\">\n",
       "  <thead>\n",
       "    <tr style=\"text-align: right;\">\n",
       "      <th></th>\n",
       "      <th>min</th>\n",
       "      <th>id</th>\n",
       "      <th>energy</th>\n",
       "    </tr>\n",
       "  </thead>\n",
       "  <tbody>\n",
       "    <tr>\n",
       "      <th>828240</th>\n",
       "      <td>@min</td>\n",
       "      <td>828241</td>\n",
       "      <td>-1024.508741</td>\n",
       "    </tr>\n",
       "    <tr>\n",
       "      <th>66852</th>\n",
       "      <td>@min</td>\n",
       "      <td>66853</td>\n",
       "      <td>-1024.335410</td>\n",
       "    </tr>\n",
       "    <tr>\n",
       "      <th>598469</th>\n",
       "      <td>@min</td>\n",
       "      <td>598470</td>\n",
       "      <td>-1024.191658</td>\n",
       "    </tr>\n",
       "    <tr>\n",
       "      <th>1043654</th>\n",
       "      <td>@min</td>\n",
       "      <td>1043655</td>\n",
       "      <td>-1024.184223</td>\n",
       "    </tr>\n",
       "    <tr>\n",
       "      <th>262561</th>\n",
       "      <td>@min</td>\n",
       "      <td>262562</td>\n",
       "      <td>-1023.965175</td>\n",
       "    </tr>\n",
       "  </tbody>\n",
       "</table>\n",
       "</div>"
      ],
      "text/plain": [
       "          min       id       energy\n",
       "828240   @min   828241 -1024.508741\n",
       "66852    @min    66853 -1024.335410\n",
       "598469   @min   598470 -1024.191658\n",
       "1043654  @min  1043655 -1024.184223\n",
       "262561   @min   262562 -1023.965175"
      ]
     },
     "execution_count": 7,
     "metadata": {},
     "output_type": "execute_result"
    }
   ],
   "source": [
    "sort = data.sort_values(by='energy', ascending=True)\n",
    "sort.head()"
   ]
  },
  {
   "cell_type": "code",
   "execution_count": null,
   "metadata": {},
   "outputs": [],
   "source": []
  }
 ],
 "metadata": {
  "kernelspec": {
   "display_name": "Python 3",
   "language": "python",
   "name": "python3"
  },
  "language_info": {
   "codemirror_mode": {
    "name": "ipython",
    "version": 3
   },
   "file_extension": ".py",
   "mimetype": "text/x-python",
   "name": "python",
   "nbconvert_exporter": "python",
   "pygments_lexer": "ipython3",
   "version": "3.7.6"
  }
 },
 "nbformat": 4,
 "nbformat_minor": 4
}

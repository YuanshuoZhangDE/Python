{
 "cells": [
  {
   "cell_type": "code",
   "execution_count": 17,
   "metadata": {},
   "outputs": [],
   "source": [
    "import pandas as pd\n",
    "import numpy as np\n",
    "import matplotlib.pyplot as plt"
   ]
  },
  {
   "cell_type": "code",
   "execution_count": 18,
   "metadata": {},
   "outputs": [
    {
     "data": {
      "text/html": [
       "<div>\n",
       "<style scoped>\n",
       "    .dataframe tbody tr th:only-of-type {\n",
       "        vertical-align: middle;\n",
       "    }\n",
       "\n",
       "    .dataframe tbody tr th {\n",
       "        vertical-align: top;\n",
       "    }\n",
       "\n",
       "    .dataframe thead th {\n",
       "        text-align: right;\n",
       "    }\n",
       "</style>\n",
       "<table border=\"1\" class=\"dataframe\">\n",
       "  <thead>\n",
       "    <tr style=\"text-align: right;\">\n",
       "      <th></th>\n",
       "      <th>@</th>\n",
       "      <th>id</th>\n",
       "      <th>energy</th>\n",
       "    </tr>\n",
       "  </thead>\n",
       "  <tbody>\n",
       "    <tr>\n",
       "      <td>0</td>\n",
       "      <td>@min</td>\n",
       "      <td>1</td>\n",
       "      <td>-1008.458218</td>\n",
       "    </tr>\n",
       "    <tr>\n",
       "      <td>1</td>\n",
       "      <td>@min</td>\n",
       "      <td>2</td>\n",
       "      <td>-1012.793607</td>\n",
       "    </tr>\n",
       "    <tr>\n",
       "      <td>2</td>\n",
       "      <td>@min</td>\n",
       "      <td>3</td>\n",
       "      <td>-1007.734987</td>\n",
       "    </tr>\n",
       "    <tr>\n",
       "      <td>3</td>\n",
       "      <td>@min</td>\n",
       "      <td>4</td>\n",
       "      <td>-1009.475210</td>\n",
       "    </tr>\n",
       "    <tr>\n",
       "      <td>4</td>\n",
       "      <td>@min</td>\n",
       "      <td>5</td>\n",
       "      <td>-1013.809638</td>\n",
       "    </tr>\n",
       "    <tr>\n",
       "      <td>...</td>\n",
       "      <td>...</td>\n",
       "      <td>...</td>\n",
       "      <td>...</td>\n",
       "    </tr>\n",
       "    <tr>\n",
       "      <td>2036541</td>\n",
       "      <td>@min</td>\n",
       "      <td>2036542</td>\n",
       "      <td>-1010.834659</td>\n",
       "    </tr>\n",
       "    <tr>\n",
       "      <td>2036542</td>\n",
       "      <td>@min</td>\n",
       "      <td>2036543</td>\n",
       "      <td>-1007.163148</td>\n",
       "    </tr>\n",
       "    <tr>\n",
       "      <td>2036543</td>\n",
       "      <td>@min</td>\n",
       "      <td>2036544</td>\n",
       "      <td>-1010.964606</td>\n",
       "    </tr>\n",
       "    <tr>\n",
       "      <td>2036544</td>\n",
       "      <td>@min</td>\n",
       "      <td>2036545</td>\n",
       "      <td>-1009.369798</td>\n",
       "    </tr>\n",
       "    <tr>\n",
       "      <td>2036545</td>\n",
       "      <td>@min</td>\n",
       "      <td>2036546</td>\n",
       "      <td>-1007.554262</td>\n",
       "    </tr>\n",
       "  </tbody>\n",
       "</table>\n",
       "<p>2036546 rows × 3 columns</p>\n",
       "</div>"
      ],
      "text/plain": [
       "            @       id       energy\n",
       "0        @min        1 -1008.458218\n",
       "1        @min        2 -1012.793607\n",
       "2        @min        3 -1007.734987\n",
       "3        @min        4 -1009.475210\n",
       "4        @min        5 -1013.809638\n",
       "...       ...      ...          ...\n",
       "2036541  @min  2036542 -1010.834659\n",
       "2036542  @min  2036543 -1007.163148\n",
       "2036543  @min  2036544 -1010.964606\n",
       "2036544  @min  2036545 -1009.369798\n",
       "2036545  @min  2036546 -1007.554262\n",
       "\n",
       "[2036546 rows x 3 columns]"
      ]
     },
     "execution_count": 18,
     "metadata": {},
     "output_type": "execute_result"
    }
   ],
   "source": [
    "data = pd.read_csv(\"vs.txt\", sep=\" \")\n",
    "data"
   ]
  },
  {
   "cell_type": "code",
   "execution_count": 24,
   "metadata": {},
   "outputs": [
    {
     "data": {
      "text/html": [
       "<div>\n",
       "<style scoped>\n",
       "    .dataframe tbody tr th:only-of-type {\n",
       "        vertical-align: middle;\n",
       "    }\n",
       "\n",
       "    .dataframe tbody tr th {\n",
       "        vertical-align: top;\n",
       "    }\n",
       "\n",
       "    .dataframe thead th {\n",
       "        text-align: right;\n",
       "    }\n",
       "</style>\n",
       "<table border=\"1\" class=\"dataframe\">\n",
       "  <thead>\n",
       "    <tr style=\"text-align: right;\">\n",
       "      <th></th>\n",
       "      <th>@</th>\n",
       "      <th>id</th>\n",
       "      <th>energy</th>\n",
       "    </tr>\n",
       "  </thead>\n",
       "  <tbody>\n",
       "    <tr>\n",
       "      <td>0</td>\n",
       "      <td>@min</td>\n",
       "      <td>828241</td>\n",
       "      <td>-1024.508741</td>\n",
       "    </tr>\n",
       "    <tr>\n",
       "      <td>1</td>\n",
       "      <td>@min</td>\n",
       "      <td>66853</td>\n",
       "      <td>-1024.335410</td>\n",
       "    </tr>\n",
       "    <tr>\n",
       "      <td>2</td>\n",
       "      <td>@min</td>\n",
       "      <td>598470</td>\n",
       "      <td>-1024.191658</td>\n",
       "    </tr>\n",
       "    <tr>\n",
       "      <td>3</td>\n",
       "      <td>@min</td>\n",
       "      <td>1043655</td>\n",
       "      <td>-1024.184223</td>\n",
       "    </tr>\n",
       "    <tr>\n",
       "      <td>4</td>\n",
       "      <td>@min</td>\n",
       "      <td>262562</td>\n",
       "      <td>-1023.965175</td>\n",
       "    </tr>\n",
       "  </tbody>\n",
       "</table>\n",
       "</div>"
      ],
      "text/plain": [
       "      @       id       energy\n",
       "0  @min   828241 -1024.508741\n",
       "1  @min    66853 -1024.335410\n",
       "2  @min   598470 -1024.191658\n",
       "3  @min  1043655 -1024.184223\n",
       "4  @min   262562 -1023.965175"
      ]
     },
     "execution_count": 24,
     "metadata": {},
     "output_type": "execute_result"
    }
   ],
   "source": [
    "sort = data.sort_values(by='energy', ascending=True)\n",
    "sort.reset_index(drop=True, inplace=True)\n",
    "sort.head()"
   ]
  },
  {
   "cell_type": "code",
   "execution_count": 25,
   "metadata": {},
   "outputs": [],
   "source": [
    "#ID = sort['id']\n",
    "ENERGY = sort['energy']"
   ]
  },
  {
   "cell_type": "code",
   "execution_count": 26,
   "metadata": {},
   "outputs": [
    {
     "data": {
      "text/plain": [
       "[<matplotlib.lines.Line2D at 0x1a5f86a3808>]"
      ]
     },
     "execution_count": 26,
     "metadata": {},
     "output_type": "execute_result"
    },
    {
     "data": {
      "image/png": "[encoded data removed]",
      "text/plain": [
       "<Figure size 432x288 with 1 Axes>"
      ]
     },
     "metadata": {
      "needs_background": "light"
     },
     "output_type": "display_data"
    }
   ],
   "source": [
    "plt.xlabel(\"Index\")\n",
    "plt.ylabel(\"Energy\")\n",
    "plt.plot(ENERGY)"
   ]
  },
  {
   "cell_type": "code",
   "execution_count": null,
   "metadata": {},
   "outputs": [],
   "source": []
  }
 ],
 "metadata": {
  "kernelspec": {
   "display_name": "Python 3",
   "language": "python",
   "name": "python3"
  },
  "language_info": {
   "codemirror_mode": {
    "name": "ipython",
    "version": 3
   },
   "file_extension": ".py",
   "mimetype": "text/x-python",
   "name": "python",
   "nbconvert_exporter": "python",
   "pygments_lexer": "ipython3",
   "version": "3.7.4"
  }
 },
 "nbformat": 4,
 "nbformat_minor": 4
}

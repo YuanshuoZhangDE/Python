{
 "cells": [
  {
   "cell_type": "markdown",
   "metadata": {},
   "source": [
    "## 函数"
   ]
  },
  {
   "cell_type": "markdown",
   "metadata": {},
   "source": [
    "函数是能够实现特定功能的计算机代码，是一种特定的代码组结构。"
   ]
  },
  {
   "cell_type": "markdown",
   "metadata": {},
   "source": [
    "- 在编程语言中称之为函数\n",
    "- 在现实生活中称之为功能"
   ]
  },
  {
   "cell_type": "code",
   "execution_count": null,
   "metadata": {
    "ExecuteTime": {
     "end_time": "2020-02-08T04:45:42.905974Z",
     "start_time": "2020-02-08T04:45:42.898263Z"
    }
   },
   "outputs": [],
   "source": [
    "# 写一个一行三列的\"白裤裆寒冬一击\"\n",
    "col = 0\n",
    "while col < 3:\n",
    "    print(\"白裤裆寒冬一击\", end='')\n",
    "    col += 1"
   ]
  },
  {
   "cell_type": "code",
   "execution_count": null,
   "metadata": {
    "ExecuteTime": {
     "end_time": "2020-02-08T04:48:55.906660Z",
     "start_time": "2020-02-08T04:48:55.898254Z"
    }
   },
   "outputs": [],
   "source": [
    "#写一个三行三列的\"白裤裆寒冬一击\"\n",
    "row = 0\n",
    "while row < 3:\n",
    "    #输出一行\"白裤裆寒冬一击\"\n",
    "    #一行七三的\"白裤裆寒冬一击\"\n",
    "    col = 0\n",
    "    while col < 3:\n",
    "        print(\"白裤裆寒冬一击 \", end='')\n",
    "        col += 1\n",
    "    #换行\n",
    "    print('')\n",
    "    row += 1"
   ]
  },
  {
   "cell_type": "code",
   "execution_count": null,
   "metadata": {
    "ExecuteTime": {
     "end_time": "2020-02-08T05:03:02.135951Z",
     "start_time": "2020-02-08T05:03:02.127190Z"
    }
   },
   "outputs": [],
   "source": [
    "#r行c列的\"白裤裆寒冬一击\"\n",
    "def myPrint(r, c, s='白裤裆寒冬一击'):\n",
    "    row = 0\n",
    "    while row < r:\n",
    "        col = 0\n",
    "        while col < c:\n",
    "            print(s, \" \", end='')\n",
    "            col += 1\n",
    "        print('')\n",
    "        row += 1\n",
    "\n",
    "myPrint(2, 2)        "
   ]
  },
  {
   "cell_type": "markdown",
   "metadata": {},
   "source": [
    "### 函数的作用"
   ]
  },
  {
   "cell_type": "markdown",
   "metadata": {},
   "source": [
    "- 提升代码的重复利用率，避免重复开发相同代码\n",
    "- 提高程序开发效率\n",
    "- 便于程序维护"
   ]
  },
  {
   "cell_type": "markdown",
   "metadata": {},
   "source": [
    "### 函数的定义"
   ]
  },
  {
   "cell_type": "markdown",
   "metadata": {},
   "source": [
    "#### 基本格式"
   ]
  },
  {
   "cell_type": "code",
   "execution_count": null,
   "metadata": {},
   "outputs": [],
   "source": [
    "def 函数名():\n",
    "    函数功能代码...\n",
    "    ... ...\n",
    "    \n",
    "#调用函数\n",
    "函数名()"
   ]
  },
  {
   "cell_type": "markdown",
   "metadata": {},
   "source": [
    "函数定义后不会自动执行，必须在调用函数后才会执行"
   ]
  },
  {
   "cell_type": "markdown",
   "metadata": {},
   "source": [
    "#### 函数名的命名规则（和变量基本一样）"
   ]
  },
  {
   "cell_type": "markdown",
   "metadata": {},
   "source": [
    "- 推荐使用英文或者拼音，禁止使用中文\n",
    "- 可以使用数字，但是不能以数字开头\n",
    "- 不可以使用特殊字符，除了_\n",
    "- 函数名严格区分大小写\n",
    "- 函数名必须要有意义\n",
    "- 不能和系统已经存在的保留关键字冲突\n",
    "- 禁止使用和系统提供函数相同的函数名"
   ]
  },
  {
   "cell_type": "markdown",
   "metadata": {},
   "source": [
    "#### 含有参数的格式"
   ]
  },
  {
   "cell_type": "code",
   "execution_count": null,
   "metadata": {},
   "outputs": [],
   "source": [
    "def 函数名(参数, 参数, 参数, ...):\n",
    "    函数功能代码...\n",
    "    ... ...\n",
    "    \n",
    "#调用函数\n",
    "函数名(参数, 参数, 参数, ...)"
   ]
  },
  {
   "cell_type": "markdown",
   "metadata": {},
   "source": [
    "1. 调用函数的位置传入的数据叫实参(本质是值)\n",
    "2. 定义函数的位置的参数是形参（本质是变量名）\n",
    "3. 将实参的值传递给形参的过程叫做传参（本质是赋值）"
   ]
  },
  {
   "cell_type": "markdown",
   "metadata": {},
   "source": [
    "#### 带有默认值的参数"
   ]
  },
  {
   "cell_type": "code",
   "execution_count": null,
   "metadata": {},
   "outputs": [],
   "source": [
    "def 函数名(形参=默认值, 形参=默认值, 形参=默认值, ...):\n",
    "    函数功能代码...\n",
    "    ... ...\n",
    "    \n",
    "#调用函数\n",
    "函数名() #调用函数时所有形参采用默认值操作\n",
    "函数名(实参, 实参, 实参, ...) ##调用函数时形参采用实参的值而抛弃默认值"
   ]
  },
  {
   "cell_type": "markdown",
   "metadata": {},
   "source": [
    "在此情况下，使用实参值覆盖原有形参的默认值，本质上就是变量的重新赋值工作"
   ]
  },
  {
   "cell_type": "markdown",
   "metadata": {},
   "source": [
    "#### 关键字参数"
   ]
  },
  {
   "cell_type": "markdown",
   "metadata": {},
   "source": [
    "关键字参数就是调用函数时，在实参前面指定形参的做法，为了防止参数按照位置传递出现错误"
   ]
  },
  {
   "cell_type": "code",
   "execution_count": null,
   "metadata": {
    "ExecuteTime": {
     "end_time": "2020-02-09T10:21:00.054822Z",
     "start_time": "2020-02-09T10:21:00.046802Z"
    }
   },
   "outputs": [],
   "source": [
    "def create_role(name, clothes, shoes, weapon):\n",
    "    print('我是：', name)\n",
    "    print('身披：', clothes)\n",
    "    print('脚踏：', shoes)\n",
    "    print('手握：', weapon)\n",
    "    \n",
    "create_role('孙悟空', '锁子黄金甲', '藕丝步云履', '金箍棒')\n"
   ]
  },
  {
   "cell_type": "code",
   "execution_count": null,
   "metadata": {
    "ExecuteTime": {
     "end_time": "2020-02-09T10:22:04.385172Z",
     "start_time": "2020-02-09T10:22:04.377005Z"
    }
   },
   "outputs": [],
   "source": [
    "def create_role(name, clothes, shoes, weapon):\n",
    "    print('我是：', name)\n",
    "    print('身披：', clothes)\n",
    "    print('脚踏：', shoes)\n",
    "    print('手握：', weapon)\n",
    "    \n",
    "create_role('锁子黄金甲', '孙悟空', '金箍棒', '藕丝步云履' )\n"
   ]
  },
  {
   "cell_type": "code",
   "execution_count": null,
   "metadata": {
    "ExecuteTime": {
     "end_time": "2020-02-09T10:22:51.264191Z",
     "start_time": "2020-02-09T10:22:51.255925Z"
    }
   },
   "outputs": [],
   "source": [
    "def create_role(name, clothes, shoes, weapon):\n",
    "    print('我是：', name)\n",
    "    print('身披：', clothes)\n",
    "    print('脚踏：', shoes)\n",
    "    print('手握：', weapon)\n",
    "    \n",
    "create_role(clothes='锁子黄金甲', name='孙悟空', weapon='金箍棒', shoes='藕丝步云履' )\n",
    "\n"
   ]
  },
  {
   "cell_type": "markdown",
   "metadata": {},
   "source": [
    "#### 收集参数"
   ]
  },
  {
   "cell_type": "markdown",
   "metadata": {},
   "source": [
    "- 非关键字收集参数，在形参前添加一个*即可\n",
    "- 非关键字收集参数收集实参组成一个元组\n",
    "- 非关键字收集参数，仅收集没有任何形参接收的非关键字实参\n",
    "- 非关键字收集参数和普通形参可以共存"
   ]
  },
  {
   "cell_type": "code",
   "execution_count": null,
   "metadata": {
    "ExecuteTime": {
     "end_time": "2020-02-09T10:32:51.272608Z",
     "start_time": "2020-02-09T10:32:51.265840Z"
    }
   },
   "outputs": [],
   "source": [
    "#计算2个数的和的函数\n",
    "def my_sum(a, b):\n",
    "    result = a + b\n",
    "    print(result)\n",
    "my_sum(1, 1)"
   ]
  },
  {
   "cell_type": "code",
   "execution_count": null,
   "metadata": {
    "ExecuteTime": {
     "end_time": "2020-02-09T10:35:10.622233Z",
     "start_time": "2020-02-09T10:35:10.615377Z"
    }
   },
   "outputs": [],
   "source": [
    "#计算任意个数据的和的函数\n",
    "def my_supersum(*args):\n",
    "    print(args)\n",
    "    total = 0\n",
    "    for i in args:\n",
    "        total += i\n",
    "    print(total)\n",
    "my_supersum(1, 2, 3, 4, 5)"
   ]
  },
  {
   "cell_type": "code",
   "execution_count": null,
   "metadata": {
    "ExecuteTime": {
     "end_time": "2020-02-09T10:38:53.529200Z",
     "start_time": "2020-02-09T10:38:53.518383Z"
    }
   },
   "outputs": [],
   "source": [
    "#计算任意个数据的和的函数\n",
    "#收集参数，仅仅收集没有形参接收的参数\n",
    "def my_supersum(a, b, c, *args):\n",
    "    print(args)\n",
    "    total = 0\n",
    "    for i in args:\n",
    "        total += i\n",
    "    print(total)\n",
    "my_supersum(1, 2, 3, 4, 5)"
   ]
  },
  {
   "cell_type": "markdown",
   "metadata": {},
   "source": [
    "- 关键字收集参数，在形参前添加两个\\*\\*即可\n",
    "- 关键字收集参数，收集的结果组成一个字典，关键字成为字典的键，实参成为值\n",
    "- 关键字收集参数，仅收集没有任何形参接收的关键字参数\n",
    "- 关键字参数可以和普通的形参共存"
   ]
  },
  {
   "cell_type": "code",
   "execution_count": null,
   "metadata": {},
   "outputs": [],
   "source": [
    "# 输出参加party的用户和性别\n",
    "def party(**args):\n",
    "    print(args)\n",
    "    for name, gender in args.items():\n",
    "        print(name, gender)\n",
    "party(Wukong='Male', Qiqi='Female', Wufan='Male')"
   ]
  },
  {
   "cell_type": "code",
   "execution_count": null,
   "metadata": {
    "ExecuteTime": {
     "end_time": "2020-02-09T10:50:41.410258Z",
     "start_time": "2020-02-09T10:50:41.403010Z"
    }
   },
   "outputs": [],
   "source": [
    "# 输出参加party的用户和性别\n",
    "#收集参数，仅仅收集没有形参接收的参数\n",
    "def party(Qiqi, **args):\n",
    "    print(args)\n",
    "    for name, gender in args.items():\n",
    "        print(name, gender)\n",
    "party(Wukong='Male', Qiqi='Female', Wufan='Male')"
   ]
  },
  {
   "cell_type": "markdown",
   "metadata": {},
   "source": [
    "### 关于返回值的问题"
   ]
  },
  {
   "cell_type": "markdown",
   "metadata": {},
   "source": [
    "函数根据执行完毕是否可以得到一个结果，将函数分为两个类型：\n",
    "- 执行过程函数：print()\n",
    "        函数执行完毕之后，不会有任何结果可以被接受的函数\n",
    "- 具有返回值的函数：id() type()\n",
    "        函数执行完毕之后，会产生一个结果，可以被变量接收或者使用的函数\n"
   ]
  },
  {
   "cell_type": "code",
   "execution_count": null,
   "metadata": {},
   "outputs": [],
   "source": [
    "def 函数名(参数...):\n",
    "    函数功能代码...\n",
    "    ... ...\n",
    "    return 语句 "
   ]
  },
  {
   "cell_type": "markdown",
   "metadata": {},
   "source": [
    "return的特征：\n",
    "- 具有return语句的函数称为具有返回值的函数\n",
    "- return可以为当前函数执行完毕返回一个结果， 这样的函数调用可以被接受\n",
    "- return执行之后，函数则会终止，所有return之后的语句不会被执行\n",
    "- 一个函数可以书写多个return语句，但是一般会放入分支结构当中\n",
    "- 一个函数如果需要返回多个数据，需要借助复合数据类型（list, tuple, set, dict）来操作即可"
   ]
  },
  {
   "cell_type": "code",
   "execution_count": null,
   "metadata": {
    "ExecuteTime": {
     "end_time": "2020-02-09T11:29:39.079939Z",
     "start_time": "2020-02-09T11:29:39.072686Z"
    }
   },
   "outputs": [],
   "source": [
    "# 执行过程函数\n",
    "def shashou():\n",
    "    print('白裤裆寒冬一击')\n",
    "    \n",
    "I = shashou()\n",
    "print(I)"
   ]
  },
  {
   "cell_type": "code",
   "execution_count": null,
   "metadata": {
    "ExecuteTime": {
     "end_time": "2020-02-09T11:32:13.479763Z",
     "start_time": "2020-02-09T11:32:13.472043Z"
    }
   },
   "outputs": [],
   "source": [
    "# 具有返回值的函数\n",
    "def shashou():\n",
    "    print('白裤裆寒冬一击')\n",
    "    \n",
    "    # 为函数添加返回结果\n",
    "    return '🩲'\n",
    "\n",
    "I = shashou()\n",
    "print(I)"
   ]
  },
  {
   "cell_type": "code",
   "execution_count": null,
   "metadata": {
    "ExecuteTime": {
     "end_time": "2020-02-09T11:35:27.691766Z",
     "start_time": "2020-02-09T11:35:27.685032Z"
    }
   },
   "outputs": [],
   "source": [
    "# 执行过程的加法运算\n",
    "def my_sum(a, b):\n",
    "    result = a + b\n",
    "\n",
    "my_sum = my_sum(1, 2)\n",
    "print(my_sum)"
   ]
  },
  {
   "cell_type": "code",
   "execution_count": null,
   "metadata": {
    "ExecuteTime": {
     "end_time": "2020-02-09T11:36:10.455148Z",
     "start_time": "2020-02-09T11:36:10.447689Z"
    }
   },
   "outputs": [],
   "source": [
    "# 具有返回值的加法运算\n",
    "def my_sum(a, b):\n",
    "    result = a + b\n",
    "    return result\n",
    "\n",
    "my_sum = my_sum(1, 2)\n",
    "print(my_sum)"
   ]
  },
  {
   "cell_type": "code",
   "execution_count": null,
   "metadata": {
    "ExecuteTime": {
     "end_time": "2020-02-09T11:43:37.272391Z",
     "start_time": "2020-02-09T11:43:37.261968Z"
    }
   },
   "outputs": [],
   "source": [
    "def study():\n",
    "    print('不辅导作业')\n",
    "    print('母慈子孝')\n",
    "    print('一辅导作业')\n",
    "    print('鸡飞狗跳')\n",
    "    return '合家欢乐'\n",
    "\n",
    "study()"
   ]
  },
  {
   "cell_type": "code",
   "execution_count": null,
   "metadata": {
    "ExecuteTime": {
     "end_time": "2020-02-09T11:43:38.769568Z",
     "start_time": "2020-02-09T11:43:38.762339Z"
    }
   },
   "outputs": [],
   "source": [
    "def study():\n",
    "    print('不辅导作业')\n",
    "    print('母慈子孝')\n",
    "    print('一辅导作业')\n",
    "    print('鸡飞狗跳')\n",
    "    return '合家欢乐'\n",
    "\n",
    "result = study()\n",
    "print('返回结果',result)"
   ]
  },
  {
   "cell_type": "code",
   "execution_count": null,
   "metadata": {
    "ExecuteTime": {
     "end_time": "2020-02-09T11:43:40.956292Z",
     "start_time": "2020-02-09T11:43:40.948674Z"
    }
   },
   "outputs": [],
   "source": [
    "def study():\n",
    "    print('不辅导作业')\n",
    "    print('母慈子孝')\n",
    "    return '合家欢乐'\n",
    "    print('一辅导作业')\n",
    "    print('鸡飞狗跳')\n",
    "\n",
    "result = study()\n",
    "print('返回结果',result)"
   ]
  },
  {
   "cell_type": "markdown",
   "metadata": {},
   "source": [
    "### 变量的作用域"
   ]
  },
  {
   "cell_type": "markdown",
   "metadata": {
    "ExecuteTime": {
     "end_time": "2020-02-09T11:48:36.759435Z",
     "start_time": "2020-02-09T11:48:36.752783Z"
    }
   },
   "source": [
    "变量的作用域就是指变量的有效范围。"
   ]
  },
  {
   "cell_type": "markdown",
   "metadata": {},
   "source": [
    "变量按照作用范围非为两类：\n",
    "- 全局变量：\n",
    "        在函数外部声明的变量就是全局变量（在函数内部需要global关键字才可以使用）\n",
    "- 局部变量\n",
    "        在函数内部声明的变量就是局部变量"
   ]
  },
  {
   "cell_type": "markdown",
   "metadata": {},
   "source": [
    "全局变量和局部变量的有效范围：\n",
    "- 全局变量在函数外部可以正常使用\n",
    "- 全局变量在函数内部也可以正常使用（需要global声明）\n",
    "- 局部变量在函数内部可以正常使用\n",
    "- 局部变量在函数外部不可以被访问"
   ]
  },
  {
   "cell_type": "code",
   "execution_count": null,
   "metadata": {
    "ExecuteTime": {
     "end_time": "2020-02-09T12:01:53.304768Z",
     "start_time": "2020-02-09T12:01:53.297424Z"
    }
   },
   "outputs": [],
   "source": [
    "# 局部变量\n",
    "def juhua():\n",
    "    #定义一个麻药\n",
    "    my = '局部麻醉剂'\n",
    "    print('函数内部调用：',my)\n",
    "juhua()"
   ]
  },
  {
   "cell_type": "code",
   "execution_count": null,
   "metadata": {
    "ExecuteTime": {
     "end_time": "2020-02-09T12:03:05.264180Z",
     "start_time": "2020-02-09T12:03:05.253325Z"
    }
   },
   "outputs": [],
   "source": [
    "def juhua():\n",
    "    #定义一个麻药\n",
    "    my = '局部麻醉剂'\n",
    "    print('函数内部调用：',my)\n",
    "\n",
    "#在函数外部调用麻药\n",
    "print(my)"
   ]
  },
  {
   "cell_type": "code",
   "execution_count": null,
   "metadata": {
    "ExecuteTime": {
     "end_time": "2020-02-09T12:06:02.348489Z",
     "start_time": "2020-02-09T12:06:02.341116Z"
    }
   },
   "outputs": [],
   "source": [
    "# 全局变量\n",
    "# 定义全局变量\n",
    "my = '全身麻醉剂'\n",
    "def juhua():\n",
    "    #在函数内部调用全局变量\n",
    "    print('在函数内部调用：',my)\n",
    "\n",
    "juhua()"
   ]
  },
  {
   "cell_type": "code",
   "execution_count": null,
   "metadata": {
    "ExecuteTime": {
     "end_time": "2020-02-09T12:07:56.827253Z",
     "start_time": "2020-02-09T12:07:56.816306Z"
    }
   },
   "outputs": [],
   "source": [
    "# 全局变量\n",
    "# 定义全局变量\n",
    "my = '全身麻醉剂'\n",
    "def juhua():\n",
    "    #在函数内部调用全局变量\n",
    "    print('在函数内部调用：',my)\n",
    "\n",
    "# 在函数外部调用全局变量\n",
    "print('函数外部调用：',my)"
   ]
  },
  {
   "cell_type": "code",
   "execution_count": null,
   "metadata": {
    "ExecuteTime": {
     "end_time": "2020-02-09T12:13:12.094746Z",
     "start_time": "2020-02-09T12:13:12.087835Z"
    }
   },
   "outputs": [],
   "source": [
    "#局部变量\n",
    "def juhua():\n",
    "    #局部变量\n",
    "    num = 99\n",
    "    #使用局部变量\n",
    "    print(num)\n",
    "    #运算\n",
    "    num += 1\n",
    "    #使用局部变量\n",
    "    print(num)\n",
    "juhua()"
   ]
  },
  {
   "cell_type": "code",
   "execution_count": null,
   "metadata": {
    "ExecuteTime": {
     "end_time": "2020-02-09T12:15:43.230655Z",
     "start_time": "2020-02-09T12:15:43.216913Z"
    }
   },
   "outputs": [],
   "source": [
    "# 全局变量\n",
    "num = 99\n",
    "def juhua():\n",
    "    #使用全局变量\n",
    "    print(num)\n",
    "    #运算\n",
    "    num += 1\n",
    "    #使用变量\n",
    "    print(num)\n",
    "    \n",
    "juhua()    "
   ]
  },
  {
   "cell_type": "code",
   "execution_count": null,
   "metadata": {
    "ExecuteTime": {
     "end_time": "2020-02-09T12:16:41.543332Z",
     "start_time": "2020-02-09T12:16:41.536229Z"
    }
   },
   "outputs": [],
   "source": [
    "# 全局变量\n",
    "num = 99\n",
    "def juhua():\n",
    "    #声明全局变量\n",
    "    global num\n",
    "    #使用全局变量\n",
    "    print(num)\n",
    "    #运算\n",
    "    num += 1\n",
    "    #使用变量\n",
    "    print(num)\n",
    "    \n",
    "juhua()    \n",
    "\n",
    "print(num)"
   ]
  },
  {
   "cell_type": "markdown",
   "metadata": {},
   "source": [
    "#### global关键字"
   ]
  },
  {
   "cell_type": "markdown",
   "metadata": {},
   "source": [
    "将局部变量提升为全局变量。\n",
    "\n",
    "只有在函数内部使用global关键字对变量进行全局声明，该变量才是一个完整的全局变量，在函数内外可以进行任意获取修改删除等操作。"
   ]
  },
  {
   "cell_type": "markdown",
   "metadata": {},
   "source": [
    "#### 内部函数"
   ]
  },
  {
   "cell_type": "markdown",
   "metadata": {},
   "source": [
    "在函数内部声明的函数就是内部函数。"
   ]
  },
  {
   "cell_type": "markdown",
   "metadata": {},
   "source": [
    "特征：\n",
    "- 内部函数的本质就是局部变量（函数就是一个变量）\n",
    "- 内部函数在函数外部不可以直接调用\n",
    "- 内部函数在函数内部调用必须在定义了内部函数之后才可以调用\n",
    "\n"
   ]
  },
  {
   "cell_type": "code",
   "execution_count": null,
   "metadata": {
    "ExecuteTime": {
     "end_time": "2020-02-09T12:26:02.761702Z",
     "start_time": "2020-02-09T12:26:02.754981Z"
    }
   },
   "outputs": [],
   "source": [
    "# 内部函数\n",
    "# 内部函数可以在函数内部访问吗？ 可以！\n",
    "def outer():\n",
    "    #声明一个内部函数\n",
    "    def inner():\n",
    "        print('这是一个内部函数')\n",
    "    #调用内部函数\n",
    "    inner()\n",
    "\n",
    "outer()"
   ]
  },
  {
   "cell_type": "code",
   "execution_count": null,
   "metadata": {
    "ExecuteTime": {
     "end_time": "2020-02-09T12:29:10.141186Z",
     "start_time": "2020-02-09T12:29:10.127852Z"
    }
   },
   "outputs": [],
   "source": [
    "# 内部函数\n",
    "# 内部函数在函数内部调用是否有顺序？ 有！必须先定义后使用！！\n",
    "def outer():\n",
    "    inner()\n",
    "    #声明一个内部函数\n",
    "    def inner():\n",
    "        print('这是一个内部函数')\n",
    "    #调用内部函数\n",
    "    \n",
    "\n",
    "outer()"
   ]
  },
  {
   "cell_type": "code",
   "execution_count": null,
   "metadata": {
    "ExecuteTime": {
     "end_time": "2020-02-09T12:30:22.870825Z",
     "start_time": "2020-02-09T12:30:22.859701Z"
    }
   },
   "outputs": [],
   "source": [
    "# 内部函数\n",
    "# 内部函数在函数外部使用嘛？ 不可以！\n",
    "def outer():\n",
    "    #声明一个内部函数\n",
    "    def inner():\n",
    "        print('这是一个内部函数')\n",
    "    #调用内部函数\n",
    "    \n",
    "\n",
    "inner()"
   ]
  },
  {
   "cell_type": "code",
   "execution_count": null,
   "metadata": {
    "ExecuteTime": {
     "end_time": "2020-02-09T12:31:41.994470Z",
     "start_time": "2020-02-09T12:31:41.982252Z"
    }
   },
   "outputs": [],
   "source": [
    "# 内部函数\n",
    "# 调用外部函数之后，可以调用内部函数嘛？不可以！\n",
    "def outer():\n",
    "    #声明一个内部函数\n",
    "    def inner():\n",
    "        print('这是一个内部函数')\n",
    "    #调用内部函数\n",
    "    inner()\n",
    "\n",
    "outer()\n",
    "inner()"
   ]
  },
  {
   "cell_type": "markdown",
   "metadata": {},
   "source": [
    "#### 变量作用域链"
   ]
  },
  {
   "cell_type": "markdown",
   "metadata": {},
   "source": [
    "变量可以按照函数的嵌套结构组层向下传递下去。\n",
    "\n",
    "nonlocal关键字允许修改外部函数的变量值！（既不是全局也不是局部！ ）"
   ]
  },
  {
   "cell_type": "code",
   "execution_count": null,
   "metadata": {
    "ExecuteTime": {
     "end_time": "2020-02-09T12:39:28.467851Z",
     "start_time": "2020-02-09T12:39:28.461657Z"
    }
   },
   "outputs": [],
   "source": [
    "leader = '习大大'\n",
    "#山西省\n",
    "def shanxi():\n",
    "    #太原市\n",
    "    def taiyuan():\n",
    "        #万柏林区\n",
    "        def wanbolin():\n",
    "            #窊流村\n",
    "            def waliu():\n",
    "                pass\n",
    "            "
   ]
  },
  {
   "cell_type": "code",
   "execution_count": null,
   "metadata": {
    "ExecuteTime": {
     "end_time": "2020-02-09T12:54:28.070144Z",
     "start_time": "2020-02-09T12:54:28.061692Z"
    }
   },
   "outputs": [],
   "source": [
    "#测试\n",
    "leader = '习大大'\n",
    "#山西省\n",
    "def shanxi():\n",
    "    print('山西省：',leader)\n",
    "    #太原市\n",
    "    def taiyuan():\n",
    "        print('太原市：',leader)\n",
    "        #万柏林区    \n",
    "        def wanbolin():\n",
    "            print('万柏林区：',leader)\n",
    "            #窊流村\n",
    "            def waliu():\n",
    "                print('窊流村：',leader)\n",
    "            waliu()\n",
    "        wanbolin()\n",
    "    taiyuan()\n",
    "shanxi()\n"
   ]
  }
 ],
 "metadata": {
  "kernelspec": {
   "display_name": "Python 3",
   "language": "python",
   "name": "python3"
  },
  "language_info": {
   "codemirror_mode": {
    "name": "ipython",
    "version": 3
   },
   "file_extension": ".py",
   "mimetype": "text/x-python",
   "name": "python",
   "nbconvert_exporter": "python",
   "pygments_lexer": "ipython3",
   "version": "3.6.5"
  },
  "toc": {
   "base_numbering": 1,
   "nav_menu": {},
   "number_sections": true,
   "sideBar": true,
   "skip_h1_title": false,
   "title_cell": "Table of Contents",
   "title_sidebar": "Contents",
   "toc_cell": false,
   "toc_position": {},
   "toc_section_display": true,
   "toc_window_display": true
  },
  "varInspector": {
   "cols": {
    "lenName": 16,
    "lenType": 16,
    "lenVar": 40
   },
   "kernels_config": {
    "python": {
     "delete_cmd_postfix": "",
     "delete_cmd_prefix": "del ",
     "library": "var_list.py",
     "varRefreshCmd": "print(var_dic_list())"
    },
    "r": {
     "delete_cmd_postfix": ") ",
     "delete_cmd_prefix": "rm(",
     "library": "var_list.r",
     "varRefreshCmd": "cat(var_dic_list()) "
    }
   },
   "types_to_exclude": [
    "module",
    "function",
    "builtin_function_or_method",
    "instance",
    "_Feature"
   ],
   "window_display": false
  }
 },
 "nbformat": 4,
 "nbformat_minor": 2
}

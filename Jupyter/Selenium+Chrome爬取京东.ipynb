{
 "cells": [
  {
   "cell_type": "markdown",
   "metadata": {},
   "source": [
    "## 流程框架"
   ]
  },
  {
   "cell_type": "markdown",
   "metadata": {},
   "source": [
    "- 搜索关键字，利用selenium驱动浏览器搜索关键字\n",
    "- 分析页码并翻页，得到商品页码数，模拟翻页，得到后续页码的商品列表\n",
    "- 分析提取商品内容，利用PyQuery分析源码，解析得到商品列表\n",
    "- 存储至MongoDB，将商品列表信息存储到数据库"
   ]
  },
  {
   "cell_type": "code",
   "execution_count": null,
   "metadata": {
    "ExecuteTime": {
     "end_time": "2020-01-31T13:27:14.349758Z",
     "start_time": "2020-01-31T13:27:14.100353Z"
    }
   },
   "outputs": [],
   "source": [
    "from selenium import webdriver\n",
    "from selenium.webdriver.common.by import By\n",
    "from selenium.webdriver.support.ui import WebDriverWait\n",
    "from selenium.webdriver.support import expected_conditions as EC\n",
    "from selenium.common.exceptions import TimeoutException\n",
    "from bs4 import BeautifulSoup\n",
    "import json"
   ]
  },
  {
   "cell_type": "code",
   "execution_count": null,
   "metadata": {
    "ExecuteTime": {
     "end_time": "2020-01-31T13:27:19.507686Z",
     "start_time": "2020-01-31T13:27:14.351700Z"
    }
   },
   "outputs": [],
   "source": [
    "broswer = webdriver.Chrome()\n",
    "wait = WebDriverWait(broswer, 10)"
   ]
  },
  {
   "cell_type": "code",
   "execution_count": null,
   "metadata": {
    "ExecuteTime": {
     "end_time": "2020-01-31T13:27:19.520406Z",
     "start_time": "2020-01-31T13:27:19.510433Z"
    }
   },
   "outputs": [],
   "source": [
    "def search():\n",
    "    try:\n",
    "        broswer.get('https://www.jd.com')\n",
    "        input = wait.until(\n",
    "            EC.presence_of_element_located((By.CSS_SELECTOR, '#key'))\n",
    "        )\n",
    "        submit = wait.until(\n",
    "            EC.element_to_be_clickable((By.CSS_SELECTOR, '#search > div > div.form > button')) \n",
    "        )\n",
    "        input.send_keys('口罩')\n",
    "        submit.click()\n",
    "        total = wait.until(\n",
    "            EC.presence_of_element_located((By.CSS_SELECTOR, '#J_bottomPage > span.p-skip > em:nth-child(1) > b'))\n",
    "        ) \n",
    "        get_products()\n",
    "        return total.text\n",
    "    except TimeoutException:\n",
    "        return search()"
   ]
  },
  {
   "cell_type": "code",
   "execution_count": null,
   "metadata": {
    "ExecuteTime": {
     "end_time": "2020-01-31T13:27:19.530897Z",
     "start_time": "2020-01-31T13:27:19.522914Z"
    }
   },
   "outputs": [],
   "source": [
    "def next_page(pager_number):\n",
    "    try:\n",
    "        input = wait.until(\n",
    "                EC.presence_of_element_located((By.CSS_SELECTOR, '#J_bottomPage > span.p-skip > input'))\n",
    "            )\n",
    "        submit = wait.until(\n",
    "                EC.element_to_be_clickable((By.CSS_SELECTOR, '#J_bottomPage > span.p-skip > a')) \n",
    "            )\n",
    "        input.clear()\n",
    "        input.send_keys(pager_number)\n",
    "        submit.click()\n",
    "        wait.until(EC.text_to_be_present_in_element(\n",
    "            (By.CSS_SELECTOR,'#J_bottomPage > span.p-num > a.curr'), str(pager_number))\n",
    "                  )\n",
    "        get_products()\n",
    "    except TimeoutException:\n",
    "        return next_page(pager_number)\n",
    "        \n",
    "        "
   ]
  },
  {
   "cell_type": "code",
   "execution_count": null,
   "metadata": {
    "ExecuteTime": {
     "end_time": "2020-01-31T13:27:19.538872Z",
     "start_time": "2020-01-31T13:27:19.532885Z"
    }
   },
   "outputs": [],
   "source": [
    "def get_products():\n",
    "    wait.until(\n",
    "            EC.presence_of_element_located((By.CSS_SELECTOR, '#J_bottomPage > span.p-skip > em:nth-child(1) > b'))\n",
    "        ) \n",
    "    html = broswer.page_source\n",
    "    soup = BeautifulSoup(html, 'lxml')\n",
    "    titles = soup.select('.gl-item .p-name.p-name-type-2 a em')\n",
    "    urls = soup.select('.gl-item .p-img a')\n",
    "    \n",
    "    for title, url in zip(titles, urls):\n",
    "        product = {\n",
    "            'title':title.get_text(),\n",
    "            'url':url['href']\n",
    "        }\n",
    "        write_to_file(product)\n",
    "        print(product)\n",
    "    \n",
    "    "
   ]
  },
  {
   "cell_type": "code",
   "execution_count": null,
   "metadata": {
    "ExecuteTime": {
     "end_time": "2020-01-31T13:27:19.546848Z",
     "start_time": "2020-01-31T13:27:19.541863Z"
    }
   },
   "outputs": [],
   "source": [
    "def write_to_file(product):\n",
    "    with open('JD_product.txt', 'a', encoding='utf-8') as f:\n",
    "        f.write(json.dumps(product, ensure_ascii=False) + '\\n')\n",
    "        f.close"
   ]
  },
  {
   "cell_type": "code",
   "execution_count": null,
   "metadata": {
    "ExecuteTime": {
     "end_time": "2020-01-31T13:27:19.554827Z",
     "start_time": "2020-01-31T13:27:19.549843Z"
    }
   },
   "outputs": [],
   "source": [
    "def main():\n",
    "    total = int(search())\n",
    "    for i in range(2, total+1):\n",
    "        next_page(i)\n",
    "    "
   ]
  },
  {
   "cell_type": "code",
   "execution_count": null,
   "metadata": {
    "ExecuteTime": {
     "end_time": "2020-01-31T13:28:21.167856Z",
     "start_time": "2020-01-31T13:27:19.557820Z"
    }
   },
   "outputs": [],
   "source": [
    "if __name__ == '__main__':\n",
    "    main()"
   ]
  }
 ],
 "metadata": {
  "kernelspec": {
   "display_name": "Python 3",
   "language": "python",
   "name": "python3"
  },
  "language_info": {
   "codemirror_mode": {
    "name": "ipython",
    "version": 3
   },
   "file_extension": ".py",
   "mimetype": "text/x-python",
   "name": "python",
   "nbconvert_exporter": "python",
   "pygments_lexer": "ipython3",
   "version": "3.7.4"
  },
  "toc": {
   "base_numbering": 1,
   "nav_menu": {},
   "number_sections": true,
   "sideBar": true,
   "skip_h1_title": false,
   "title_cell": "Table of Contents",
   "title_sidebar": "Contents",
   "toc_cell": false,
   "toc_position": {},
   "toc_section_display": true,
   "toc_window_display": false
  }
 },
 "nbformat": 4,
 "nbformat_minor": 2
}

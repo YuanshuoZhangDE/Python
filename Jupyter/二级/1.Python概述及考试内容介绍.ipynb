{
 "cells": [
  {
   "cell_type": "markdown",
   "metadata": {},
   "source": [
    "- [考试内容](#考试内容)\n",
    "    - [Python语言的基本语法元素](#Python语言的基本语法元素)\n",
    "    - [基本数据类型（重点）](#基本数据类型（重点）)\n",
    "    - [程序控制结构（重点）](#程序控制结构（重点）)\n",
    "    - [函数和代码复用（次重点）](#函数和代码复用（次重点）)\n",
    "    - [组合数据类型](#组合数据类型)\n",
    "    - [文件和数据格式化](#文件和数据格式化)\n",
    "    - [Python计算生态](#Python计算生态)\n",
    "- [基础](#基础)\n",
    "    - [Python语言特点](#Python语言特点)\n",
    "    - [特点](#特点)\n",
    "    - [Python解释器](#Python解释器)\n",
    "    - [如何创建Python文件](#如何创建Python文件)\n",
    "        - [文件名](#文件名)\n",
    "        - [文件后缀](#文件后缀)\n",
    "    - [Example](#Example)\n",
    "    - [注释](#注释)"
   ]
  },
  {
   "cell_type": "markdown",
   "metadata": {},
   "source": [
    "## 考试内容"
   ]
  },
  {
   "cell_type": "markdown",
   "metadata": {},
   "source": [
    "### Python语言的基本语法元素\n",
    "程序的基本语法元素：程序的格式框架、缩进、注释、变量、命名、保留字、数据类型、赋值语句、引用；\n",
    "\n",
    "基本输入输出函数：input()、eval()、print()。\n",
    "### 基本数据类型（重点）\n",
    "数字类型：整数类型、浮点数类型、复数类型；\n",
    "\n",
    "数字类型的运算：数值运算操作符、数值运算函数；\n",
    "\n",
    "字符串类型及格式化：索引、切片、基本的format()格式化方法；\n",
    "\n",
    "字符串类型的操作：字符串操作符、处理函数和处理方法；\n",
    "\n",
    "类型判断和类型间转换。\n",
    "### 程序控制结构（重点）\n",
    "程序的三种控制结构；\n",
    "\n",
    "分支结构：单分支结构、二分支结构、多分支结构；\n",
    "\n",
    "循环结构：遍历循环、无限循环、break和continue循环控制；\n",
    "\n",
    "程序的异常处理：try-except。\n",
    "### 函数和代码服用（次重点）\n",
    "函数的定义和使用；\n",
    "\n",
    "函数的参数传递：可选参数传递、传输名称传递、函数的返回值；\n",
    "\n",
    "变量的作用域：局部变量和全局变量。\n",
    "### 组合数据类型\n",
    "组合数据类型的概念；\n",
    "\n",
    "列表类型：定义、索引、切片；\n",
    "\n",
    "列表类型的操作：列表的操作函数、列表的操作方法；\n",
    "\n",
    "字典类型：定义、索引；\n",
    "\n",
    "字典类型的操作：字典的操作函数、字典的操作方法。\n",
    "### 文件和数据格式化（重点）\n",
    "文件的使用：文件的打开、读写和关闭；\n",
    "\n",
    "数据组织的维度：一维数据、二维数据；\n",
    "\n",
    "一维数据的处理：表示、存储和处理；\n",
    "\n",
    "二维数据的处理：表示、存储和处理；\n",
    "\n",
    "采用CSV格式对一二维数据的读写。\n",
    "### Python计算生态\n",
    "标准库：turtle库（必选）、random库（必选）、time库（可选）；\n",
    "\n",
    "基本的Python内置函数；\n",
    "\n",
    "第三方库的获取和安装；\n",
    "\n",
    "脚本程序转变为可执行程序的第三方库：PyInstaller库（必选）；\n",
    "\n",
    "第三方库：jieba库（必选）、wordcloud库（可选）；\n",
    "\n",
    "更广泛的Python计算生态，只要求了解第三方库的名称，不限于以下领域：网络爬虫、数据分析、文本处理、数据可视化、用户图形界面、机器学习、 Web开发、游戏开发等。"
   ]
  },
  {
   "cell_type": "markdown",
   "metadata": {},
   "source": [
    ">考试方式：上机考试，时长120分钟，满分100分。\n",
    ">题型及分值：单项选择题40分。操作题60分。\n",
    ">考试环境：Windows7 + IDLE(Python3)"
   ]
  },
  {
   "cell_type": "markdown",
   "metadata": {},
   "source": [
    "## 基础"
   ]
  },
  {
   "cell_type": "markdown",
   "metadata": {},
   "source": [
    "### Python语言特点\n",
    "Python是一门优雅而健壮的编程语言，它继承了传统编译语言的强大性和通用性，同时也借鉴了简单脚本和解释语言的易用性。它可以帮你完成工作，而且一段时间以后，你还能看明白自己写的这段代码。"
   ]
  },
  {
   "cell_type": "markdown",
   "metadata": {},
   "source": [
    "### 特点"
   ]
  },
  {
   "cell_type": "markdown",
   "metadata": {},
   "source": [
    "#### 高级语言(重点)\n",
    "伴随着每一代编程语言的产生，我们会达到新的高度。汇编语言是上帝献给那些挣扎在机器代码中的人的礼物，后来又来Fortran、C和Pascal语言，他们将计算机提升到了崭新的高度，并且开创了软件开发行业。伴随着C语言的诞生更多的像C++、Java这样的现代编译语言。我们没有止步于此，于是有了强大的、可以进行系统调用的解释性脚本语言，例如Tcl、Perl和Python。"
   ]
  },
  {
   "cell_type": "markdown",
   "metadata": {},
   "source": [
    "机器语言 --》机器代码 对机器有非常高的执行效率，对人是非常低的读取效率\n",
    "低级语言 --》汇编语言 人能看懂，并且很接近硬件\n",
    "高级语言 --》C++，C#、Java、JavaScript、Python..... 在开发过程中是不需要管机器操作的，至于专注业务逻辑  \n",
    "高级语言能做的事情，低级语言都能做到"
   ]
  },
  {
   "cell_type": "markdown",
   "metadata": {},
   "source": [
    "#### 面向对象\n",
    "一种编程思维，开发思路，人思维的应用，方便维护管理。"
   ]
  },
  {
   "cell_type": "markdown",
   "metadata": {},
   "source": [
    "#### 解释性脚本语言\n",
    "Python是一种解释性脚本语言，这意味着开发过程中没有了编译这个环节。一般来见，由于不是以本地机器码运行，纯粹的解释型语言通常比编译型语言运行的慢。然而，类似于Java、Python实际上是字节编译的，其结果就是可以生成一种近似机器语言的中间形式。这不仅改善了Python的性能，还同时使它保持了解释型语言的优点。"
   ]
  },
  {
   "cell_type": "markdown",
   "metadata": {},
   "source": [
    "解释型语言：在系统运行时需要解释器将代码翻译成计算机可识别的语言，这种类型就是解释型语言。Java、Python、PHP  \n",
    "编译型语言：在系统运行之前，已经由开发者将源代码翻译成计算机的可识别的代码，计算机直接运行即可，不需要任何解释器，这就是编译型语言。C、object-C  \n",
    "解释语言的运行效率要比编译型低。"
   ]
  },
  {
   "cell_type": "markdown",
   "metadata": {},
   "source": [
    "#### 多平台可移植性\n",
    "在各种不同的系统上可以看到Python的身影，这是由于在今天的计算机领域，Python取得了持续快速的成长。因为Python使用C写的，又由于C的可移植性，使得Python可以运行在任何带有ANSI C编译器的平台上。尽管有一些针对不同平台开发的模块，但是在任何一个平台上用Python开发的通用软件都可以稍事修改或者原封不动的在其他平台上运行。这种可移植性适用于不同的架构，也适用于不用的操作系统。"
   ]
  },
  {
   "cell_type": "markdown",
   "metadata": {},
   "source": [
    "### Python解释器\n",
    "Python是一门解释型语言，代码想运行，必须通过解释器执行，Python存在多种解释器，分别给予不同语言开发，每个解释器有不同的特点，但都能正常运行Python代码，一下是常用的物种Python解释器：  \n",
    "CPython官方自带：用C语言开发的，是官方标准实现。\n",
    "IPython：是在CPython的基础之上，在交互式方面得到增强的解释器。\n",
    "PyPy：是Python语言的一种快速、兼容的实现方式，以速度快著称。\n",
    "Jython：是专为Java平台设计的Python解释器，他把Python代码编译成Java字节码执行。\n",
    "IronPython"
   ]
  },
  {
   "cell_type": "markdown",
   "metadata": {},
   "source": [
    "### 如何创建Python文件\n"
   ]
  },
  {
   "cell_type": "markdown",
   "metadata": {},
   "source": [
    "#### 文件名\n",
    "可以使用英文，不要使用中文；\n",
    "\n",
    "可以使用数字，但是不要全用数字；\n",
    "\n",
    "可以使用-或者_等部分字符分隔文件名；\n",
    "\n",
    "文件命名要有意义方便维护；\n",
    "\n",
    "变量命名要避免和系统使用的保留关键字冲突\n",
    "#### 文件后缀\n",
    "常用文件后缀\n",
    ".py"
   ]
  },
  {
   "cell_type": "markdown",
   "metadata": {},
   "source": [
    "### Example"
   ]
  },
  {
   "cell_type": "code",
   "execution_count": null,
   "metadata": {
    "ExecuteTime": {
     "end_time": "2020-03-09T11:22:54.950144Z",
     "start_time": "2020-03-09T11:22:54.943823Z"
    }
   },
   "outputs": [],
   "source": [
    "print('白裤裆寒冬一击')"
   ]
  },
  {
   "cell_type": "markdown",
   "metadata": {},
   "source": [
    "### 注释\n",
    "注释就是注解、解释，主要用于在代码中进行代码相关的文字提示或者程序调试功能\n",
    "- 单行注释\n",
    "- 多行注释"
   ]
  },
  {
   "cell_type": "code",
   "execution_count": null,
   "metadata": {
    "ExecuteTime": {
     "end_time": "2020-03-09T11:23:48.342855Z",
     "start_time": "2020-03-09T11:23:48.336049Z"
    }
   },
   "outputs": [],
   "source": [
    "#屏幕输出：白裤档寒冬一击\n",
    "print('白裤档寒冬一击')"
   ]
  },
  {
   "cell_type": "code",
   "execution_count": null,
   "metadata": {
    "ExecuteTime": {
     "end_time": "2020-02-10T02:53:45.509108Z",
     "start_time": "2020-02-10T02:53:45.502715Z"
    }
   },
   "outputs": [],
   "source": [
    "'''\n",
    "print('白裤裆寒冬一击')\n",
    "print('白裤裆寒冬一击')\n",
    "print('白裤裆寒冬一击')\n",
    "'''\n",
    "print('白裤裆寒冬一击')"
   ]
  },
  {
   "cell_type": "code",
   "execution_count": null,
   "metadata": {
    "ExecuteTime": {
     "end_time": "2020-03-09T11:25:43.033140Z",
     "start_time": "2020-03-09T11:25:43.024735Z"
    }
   },
   "outputs": [],
   "source": [
    "#调试程序\n",
    "print('白裤档寒冬一击')\n",
    "print('白裤档寒冬一击')\n",
    "print('白裤档寒冬一击')\n",
    "print('白裤档寒冬一击’)\n",
    "print('白裤档寒冬一击')"
   ]
  },
  {
   "cell_type": "markdown",
   "metadata": {},
   "source": [
    "## 作业"
   ]
  },
  {
   "cell_type": "markdown",
   "metadata": {},
   "source": [
    "### 题一"
   ]
  },
  {
   "cell_type": "markdown",
   "metadata": {},
   "source": [
    "仅使用Python基本语法，即不使用任何模块，编写Python程序计算下列数学表达式的结果并输出，小数点后保留3位。"
   ]
  },
  {
   "cell_type": "markdown",
   "metadata": {},
   "source": [
    "$${x\\text{ }=\\text{ }\\sqrt{{\\frac{{{ \\left( {3\\mathop{{}}\\nolimits^{{4{}}}+\\text{ }5\\text{ } \\times \\text{ }6\\mathop{{}}\\nolimits^{{7}}} \\right) }}}{{8}}}}}$$"
   ]
  },
  {
   "cell_type": "code",
   "execution_count": null,
   "metadata": {},
   "outputs": [],
   "source": [
    "pow((),0.5)"
   ]
  },
  {
   "cell_type": "code",
   "execution_count": 24,
   "metadata": {
    "ExecuteTime": {
     "end_time": "2020-03-09T11:53:28.354496Z",
     "start_time": "2020-03-09T11:53:28.348172Z"
    }
   },
   "outputs": [
    {
     "name": "stdout",
     "output_type": "stream",
     "text": [
      "418.294\n"
     ]
    }
   ],
   "source": [
    "# 算数\n",
    "x_1 = 3 ** 4\n",
    "x_2 = 6 ** 7\n",
    "x_3 = (x_1 + 5 * x_2)/8\n",
    "y = pow(x_3, 0.5)\n",
    "# 输出\n",
    "print('{0:.3f}'.format(y))"
   ]
  },
  {
   "cell_type": "markdown",
   "metadata": {},
   "source": [
    "### 参考："
   ]
  },
  {
   "cell_type": "code",
   "execution_count": 25,
   "metadata": {
    "ExecuteTime": {
     "end_time": "2020-03-09T11:53:40.419655Z",
     "start_time": "2020-03-09T11:53:40.412734Z"
    }
   },
   "outputs": [
    {
     "name": "stdout",
     "output_type": "stream",
     "text": [
      "418.294\n"
     ]
    }
   ],
   "source": [
    "#完成运算式\n",
    "x_1 = 3 ** 4\n",
    "x_2 = 6 ** 7\n",
    "y_1 = (x_1 + 5 * x_2) / 8\n",
    "x = pow(y_1, 0.5)\n",
    "#格式化输出\n",
    "print('{:.3f}'.format(x))"
   ]
  },
  {
   "cell_type": "markdown",
   "metadata": {},
   "source": [
    "### 题二"
   ]
  },
  {
   "cell_type": "markdown",
   "metadata": {},
   "source": [
    "编写Python程序输出一个具有如下风格效果的文本，用作文本进度条样式，部分代码如下，填写空格处。"
   ]
  },
  {
   "cell_type": "markdown",
   "metadata": {},
   "source": [
    ">10@==  \n",
    "20@====  \n",
    "30@======"
   ]
  },
  {
   "cell_type": "markdown",
   "metadata": {},
   "source": [
    "文本左侧一段输出N的值，右侧一段根据N的值输出等号，中间用@分隔，等号个数为N与5的整数商的值，例如，当N等于10时，输出2个等号。"
   ]
  },
  {
   "cell_type": "code",
   "execution_count": null,
   "metadata": {},
   "outputs": [],
   "source": [
    "N = eval(input()) # N取值范围是0-100，整数\n",
    "print(________) # 填写代码"
   ]
  },
  {
   "cell_type": "markdown",
   "metadata": {
    "heading_collapsed": true
   },
   "source": [
    "### 参考："
   ]
  },
  {
   "cell_type": "code",
   "execution_count": 1,
   "metadata": {
    "ExecuteTime": {
     "end_time": "2020-03-09T09:10:40.373644Z",
     "start_time": "2020-03-09T09:10:37.559505Z"
    },
    "hidden": true
   },
   "outputs": [
    {
     "name": "stdout",
     "output_type": "stream",
     "text": [
      "60\n",
      " 60@============\n"
     ]
    }
   ],
   "source": [
    "N = eval(input())\n",
    "print('{0:' '>3}@{1}'.format(N, '='*(N//5)))"
   ]
  },
  {
   "cell_type": "code",
   "execution_count": null,
   "metadata": {},
   "outputs": [],
   "source": []
  }
 ],
 "metadata": {
  "kernelspec": {
   "display_name": "Python 3",
   "language": "python",
   "name": "python3"
  },
  "language_info": {
   "codemirror_mode": {
    "name": "ipython",
    "version": 3
   },
   "file_extension": ".py",
   "mimetype": "text/x-python",
   "name": "python",
   "nbconvert_exporter": "python",
   "pygments_lexer": "ipython3",
   "version": "3.7.4"
  },
  "toc": {
   "base_numbering": 1,
   "nav_menu": {},
   "number_sections": true,
   "sideBar": true,
   "skip_h1_title": false,
   "title_cell": "Table of Contents",
   "title_sidebar": "Contents",
   "toc_cell": false,
   "toc_position": {
    "height": "calc(100% - 180px)",
    "left": "10px",
    "top": "150px",
    "width": "279px"
   },
   "toc_section_display": true,
   "toc_window_display": true
  },
  "varInspector": {
   "cols": {
    "lenName": 16,
    "lenType": 16,
    "lenVar": 40
   },
   "kernels_config": {
    "python": {
     "delete_cmd_postfix": "",
     "delete_cmd_prefix": "del ",
     "library": "var_list.py",
     "varRefreshCmd": "print(var_dic_list())"
    },
    "r": {
     "delete_cmd_postfix": ") ",
     "delete_cmd_prefix": "rm(",
     "library": "var_list.r",
     "varRefreshCmd": "cat(var_dic_list()) "
    }
   },
   "types_to_exclude": [
    "module",
    "function",
    "builtin_function_or_method",
    "instance",
    "_Feature"
   ],
   "window_display": false
  }
 },
 "nbformat": 4,
 "nbformat_minor": 2
}

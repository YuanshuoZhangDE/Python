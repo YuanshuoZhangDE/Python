{
 "cells": [
  {
   "cell_type": "code",
   "execution_count": 4,
   "metadata": {},
   "outputs": [],
   "source": [
    "import os"
   ]
  },
  {
   "cell_type": "code",
   "execution_count": 5,
   "metadata": {},
   "outputs": [],
   "source": [
    "Mn_ls = [1721, 1719, 1725, 1727, 7934, 7933,\n",
    "         7932, 7935, 7936, 1728, 1724, 1722,\n",
    "         1720, 1726, 1723, 5177, 5175, 5181,\n",
    "         5183, 9982, 9981, 9980, 9983, 9984,\n",
    "         5184, 5180, 5178, 5176, 5182, 5179,\n",
    "         3449, 3447, 3453, 3455, 8958, 8957,\n",
    "         8956, 8959, 8960, 3456, 3452, 3450,\n",
    "         3448, 3454, 3451, 6905, 6903, 6909,\n",
    "         6911, 11006, 11005, 11004, 11007, 11008,\n",
    "         6912, 6908, 6906, 6904, 6910, 6907]"
   ]
  },
  {
   "cell_type": "code",
   "execution_count": 6,
   "metadata": {},
   "outputs": [],
   "source": [
    "# 1 5163 15.5665 38.2124 60.7731\n",
    "# 2 5854 26.8901 26.8897 60.7726\n",
    "# 3 2826 33.9674 2.82889 59.5632\n",
    "\n",
    "index = 3\n",
    "position = \"33.9674 2.82889 59.5632\"\n",
    "\n",
    "file_initial_data = open(\"data.data\", \"r\", encoding=\"utf-8\")\n",
    "file_initial_in = open(\"in.file\", \"r\", encoding=\"utf-8\")\n",
    "file_initial_pbs = open(\"pbs.file\", \"r\", encoding=\"utf-8\")\n",
    "\n",
    "lines_data = file_initial_data.readlines()\n",
    "lines_in = file_initial_in.readlines()\n",
    "lines_pbs = file_initial_pbs.readlines()\n",
    "\n",
    "for num in Mn_ls:\n",
    "    os.makedirs(\"Mn\"+str(num)+\"_\"+str(index)) # 创建文件夹\n",
    "    os.chdir(\"Mn\"+str(num)+\"_\"+str(index)) # 切换到directory路径\n",
    "    \n",
    "    file_data = open(\"Mn.data\", \"w\", encoding=\"utf-8\")\n",
    "    file_in = open(\"in.file\", \"w\", encoding=\"utf-8\")\n",
    "    file_pbs = open(\"pbs.file\", \"w\", encoding=\"utf-8\")\n",
    "    \n",
    "    for line_data in lines_data:    \n",
    "        if line_data.startswith(str(num)+\" 3 \"):\n",
    "            #line = line.strip('\\n') # 去除换行符\n",
    "            #line = line.replace(line, str(num) + \" 3 \" + \"15.5665 38.2124 60.7731\")\n",
    "            line_data = str(num) + \" 3 \" + str(position) + \"\\n\"\n",
    "            #print(line_data)\n",
    "        file_data.write(line_data)\n",
    "    file_data.close()\n",
    "    \n",
    "    for line_in in lines_in:\n",
    "        if line_in.startswith(\"read_data\"):\n",
    "            line_in = \"read_data /share/home/yszhang/PBS/myExample/Fe-Cr-Mn/Mn-neb/Mn/\"+\"Mn\"+str(num)+\"_\"+str(index)+\"/Mn.data\"+\"\\n\"\n",
    "        file_in.write(line_in)\n",
    "    file_in.close()\n",
    "    \n",
    "    for line_pbs in lines_pbs:\n",
    "        if line_pbs.startswith(\"#PBS -o\"):\n",
    "            line_pbs = \"#PBS -o /share/home/yszhang/PBS/myExample/Fe-Cr-Mn/Mn-neb/Mn/\"+\"Mn\"+str(num)+\"_\"+str(index)+\"/PBS.out\"+\"\\n\"\n",
    "        elif line_pbs.startswith(\"#PBS -e\"):\n",
    "            line_pbs = \"#PBS -e /share/home/yszhang/PBS/myExample/Fe-Cr-Mn/Mn-neb/Mn/\"+\"Mn\"+str(num)+\"_\"+str(index)+\"/PBS.err\"+\"\\n\"\n",
    "        elif line_pbs.startswith(\"PROGRAM=\"):\n",
    "            line_pbs = \"PROGRAM=/share/home/yszhang/PBS/myExample/Fe-Cr-Mn/Mn-neb/Mn/\"+\"Mn\"+str(num)+\"_\"+str(index)+\"/in.file\"+\"\\n\"\n",
    "        file_pbs.write(line_pbs)\n",
    "    file_pbs.close()\n",
    "    \n",
    "        \n",
    "    os.chdir(\"..\")\n",
    "    \n",
    "    \n",
    "    \n",
    "    \n",
    "\n",
    "file_initial_data.close()\n",
    "file_initial_in.close()\n",
    "file_initial_pbs.close()\n"
   ]
  },
  {
   "cell_type": "code",
   "execution_count": null,
   "metadata": {},
   "outputs": [],
   "source": []
  }
 ],
 "metadata": {
  "kernelspec": {
   "display_name": "Python 3",
   "language": "python",
   "name": "python3"
  },
  "language_info": {
   "codemirror_mode": {
    "name": "ipython",
    "version": 3
   },
   "file_extension": ".py",
   "mimetype": "text/x-python",
   "name": "python",
   "nbconvert_exporter": "python",
   "pygments_lexer": "ipython3",
   "version": "3.7.6"
  }
 },
 "nbformat": 4,
 "nbformat_minor": 2
}

{
 "cells": [
  {
   "cell_type": "markdown",
   "metadata": {},
   "source": [
    "## 考试内容"
   ]
  },
  {
   "cell_type": "markdown",
   "metadata": {},
   "source": [
    "### 一、Python语言的基本语法元素\n",
    "程序的基本语法元素：程序的格式框架、缩进、注释、变量、命名、保留字、数据类型、赋值语句、引用；\n",
    "\n",
    "基本输入输出函数：input()、eval()、print()。\n",
    "### 二、基本数据类型（重点）\n",
    "数字类型：整数类型、浮点数类型、复数类型；\n",
    "\n",
    "数字类型的运算：数值运算操作符、数值运算函数；\n",
    "\n",
    "字符串类型及格式化：索引、切片、基本的format()格式化方法；\n",
    "\n",
    "字符串类型的操作：字符串操作符、处理函数和处理方法；\n",
    "\n",
    "类型判断和类型间转换。\n",
    "### 三、程序控制结构（重点）\n",
    "程序的三种控制结构；\n",
    "\n",
    "分支结构：单分支结构、二分支结构、多分支结构；\n",
    "\n",
    "循环结构：遍历循环、无限循环、break和continue循环控制；\n",
    "\n",
    "程序的异常处理：try-except。\n",
    "### 四、函数和代码服用（次重点）\n",
    "函数的定义和使用；\n",
    "\n",
    "函数的参数传递：可选参数传递、传输名称传递、函数的返回值；\n",
    "\n",
    "变量的作用域：局部变量和全局变量。\n",
    "### 组合数据类型\n",
    "组合数据类型的概念；\n",
    "\n",
    "列表类型：定义、索引、切片；\n",
    "\n",
    "列表类型的操作：列表的操作函数、列表的操作方法；\n",
    "\n",
    "字典类型：定义、索引；\n",
    "\n",
    "字典类型的操作：字典的操作函数、字典的操作方法。\n",
    "### 文件和数据格式化\n",
    "文件的使用：文件的打开、读写和关闭；\n",
    "\n",
    "数据组织的维度：一维数据、二维数据；\n",
    "\n",
    "一维数据的处理：表示、存储和处理；\n",
    "\n",
    "二维数据的处理：表示、存储和处理；\n",
    "\n",
    "采用CSV格式对一二维数据的读写。\n",
    "### Python计算生态\n",
    "标准库：turtle库（必选）、random库（必选）、time库（可选）；\n",
    "\n",
    "基本的Python内置函数；\n",
    "\n",
    "第三方库的获取和安装；\n",
    "\n",
    "脚本程序转变为可执行程序的第三方库：PyInstaller库（必选）；\n",
    "\n",
    "第三方库：jieba库（必选）、wordcloud库（可选）；\n",
    "\n",
    "更广泛的Python计算生态，只要求了解第三方库的名称，不限于以下领域：网络爬虫、数据分析、文本处理、数据可视化、用户图形界面、机器学习、 Web开发、游戏开发等。"
   ]
  },
  {
   "cell_type": "markdown",
   "metadata": {},
   "source": [
    ">考试方式：上机考试，时长120分钟，满分100分。\n",
    ">题型及分值：单项选择题40分（含公共基础知识部分10分）。操作题60分（包括基本编程题和综合编程题）。\n",
    ">考试环境：Windows7 + IDLE(Python3)"
   ]
  },
  {
   "cell_type": "markdown",
   "metadata": {},
   "source": [
    "## 基础"
   ]
  },
  {
   "cell_type": "markdown",
   "metadata": {},
   "source": [
    "### Python语言特点\n",
    "Python是一门优雅而健壮的编程语言，它继承了传统编译语言的强大性和通用性，同时也借鉴了简单脚本和解释语言的易用性。它可以帮你完成工作，而且一段时间以后，你还能看明白自己写的这段代码。"
   ]
  },
  {
   "cell_type": "markdown",
   "metadata": {},
   "source": [
    "### 特点 \n",
    "- 高级语言\n",
    "- 面向对象\n",
    "- 解释性脚本语言\n",
    "- 多平台可以执行"
   ]
  },
  {
   "cell_type": "markdown",
   "metadata": {},
   "source": [
    "### Python解释器\n",
    "CPython官方自带\n",
    "IPython\n",
    "PyPy\n",
    "Jython\n",
    "IronPython"
   ]
  },
  {
   "cell_type": "markdown",
   "metadata": {},
   "source": [
    "### 如何创建Python文件\n"
   ]
  },
  {
   "cell_type": "markdown",
   "metadata": {},
   "source": [
    "#### 文件名\n",
    "可以使用英文，不要使用英文；\n",
    "\n",
    "可以使用数字，但是不要全用数字；\n",
    "\n",
    "可以使用-或者_等部分字符分隔文件名；\n",
    "\n",
    "文件命名要有意义方便维护；\n",
    "\n",
    "变量命名要避免和系统使用的保留关键字冲突\n",
    "#### 文件后缀\n",
    "常用文件后缀\n",
    ".py"
   ]
  },
  {
   "cell_type": "markdown",
   "metadata": {},
   "source": [
    "### Example"
   ]
  },
  {
   "cell_type": "code",
   "execution_count": null,
   "metadata": {
    "ExecuteTime": {
     "end_time": "2020-02-10T02:46:50.524625Z",
     "start_time": "2020-02-10T02:46:50.518072Z"
    }
   },
   "outputs": [],
   "source": [
    "#向界面中输出一句话\n",
    "print('白裤裆寒冬一击')"
   ]
  },
  {
   "cell_type": "markdown",
   "metadata": {},
   "source": [
    "### 注释\n",
    "注释就是注解、解释，主要用于在代码中进行代码相关的文字提示或者程序调试功能\n",
    "- 单行注释\n",
    "- 多行注释"
   ]
  },
  {
   "cell_type": "code",
   "execution_count": null,
   "metadata": {
    "ExecuteTime": {
     "end_time": "2020-02-10T02:53:44.926966Z",
     "start_time": "2020-02-10T02:53:44.921705Z"
    }
   },
   "outputs": [],
   "source": [
    "#单行注释"
   ]
  },
  {
   "cell_type": "code",
   "execution_count": null,
   "metadata": {
    "ExecuteTime": {
     "end_time": "2020-02-10T02:53:45.509108Z",
     "start_time": "2020-02-10T02:53:45.502715Z"
    }
   },
   "outputs": [],
   "source": [
    "'''\n",
    "print('白裤裆寒冬一击')\n",
    "print('白裤裆寒冬一击')\n",
    "print('白裤裆寒冬一击')\n",
    "'''\n",
    "print('白裤裆寒冬一击')"
   ]
  }
 ],
 "metadata": {
  "kernelspec": {
   "display_name": "Python 3",
   "language": "python",
   "name": "python3"
  },
  "language_info": {
   "codemirror_mode": {
    "name": "ipython",
    "version": 3
   },
   "file_extension": ".py",
   "mimetype": "text/x-python",
   "name": "python",
   "nbconvert_exporter": "python",
   "pygments_lexer": "ipython3",
   "version": "3.6.5"
  },
  "toc": {
   "base_numbering": 1,
   "nav_menu": {},
   "number_sections": true,
   "sideBar": true,
   "skip_h1_title": false,
   "title_cell": "Table of Contents",
   "title_sidebar": "Contents",
   "toc_cell": false,
   "toc_position": {
    "height": "calc(100% - 180px)",
    "left": "10px",
    "top": "150px",
    "width": "271px"
   },
   "toc_section_display": true,
   "toc_window_display": true
  },
  "varInspector": {
   "cols": {
    "lenName": 16,
    "lenType": 16,
    "lenVar": 40
   },
   "kernels_config": {
    "python": {
     "delete_cmd_postfix": "",
     "delete_cmd_prefix": "del ",
     "library": "var_list.py",
     "varRefreshCmd": "print(var_dic_list())"
    },
    "r": {
     "delete_cmd_postfix": ") ",
     "delete_cmd_prefix": "rm(",
     "library": "var_list.r",
     "varRefreshCmd": "cat(var_dic_list()) "
    }
   },
   "types_to_exclude": [
    "module",
    "function",
    "builtin_function_or_method",
    "instance",
    "_Feature"
   ],
   "window_display": false
  }
 },
 "nbformat": 4,
 "nbformat_minor": 2
}

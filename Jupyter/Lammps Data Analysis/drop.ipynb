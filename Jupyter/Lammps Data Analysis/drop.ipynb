{
 "cells": [
  {
   "cell_type": "code",
   "execution_count": 1,
   "metadata": {},
   "outputs": [],
   "source": [
    "import pandas as pd\n",
    "import numpy as np"
   ]
  },
  {
   "cell_type": "code",
   "execution_count": 13,
   "metadata": {},
   "outputs": [],
   "source": [
    "#数据格式化\n",
    "\n",
    "datafile = open('dump-min.lammpstrj', 'r', encoding='utf-8')\n",
    "datas = datafile.readlines()\n",
    "#print(type(datas))\n",
    "datalist = []\n",
    "for i in range(len(datas)-1):\n",
    "    datas[i] = ' '.join(datas[i].split())\n",
    "    datalist.append(datas[i])\n",
    "\n",
    "#print(datalist)\n",
    "    \n",
    "datafile.close()\n",
    "\n",
    "\n",
    "\n",
    "datafile = open('dump.txt', 'w')\n",
    "\n",
    "data = '\\n'.join(datalist)\n",
    "\n",
    "datafile.write(data)\n",
    "\n",
    "datafile.close()"
   ]
  },
  {
   "cell_type": "code",
   "execution_count": 14,
   "metadata": {},
   "outputs": [
    {
     "data": {
      "text/html": [
       "<div>\n",
       "<style scoped>\n",
       "    .dataframe tbody tr th:only-of-type {\n",
       "        vertical-align: middle;\n",
       "    }\n",
       "\n",
       "    .dataframe tbody tr th {\n",
       "        vertical-align: top;\n",
       "    }\n",
       "\n",
       "    .dataframe thead th {\n",
       "        text-align: right;\n",
       "    }\n",
       "</style>\n",
       "<table border=\"1\" class=\"dataframe\">\n",
       "  <thead>\n",
       "    <tr style=\"text-align: right;\">\n",
       "      <th></th>\n",
       "      <th>id</th>\n",
       "      <th>x</th>\n",
       "      <th>y</th>\n",
       "      <th>z</th>\n",
       "    </tr>\n",
       "  </thead>\n",
       "  <tbody>\n",
       "    <tr>\n",
       "      <td>0</td>\n",
       "      <td>481</td>\n",
       "      <td>4.122830</td>\n",
       "      <td>1.637560</td>\n",
       "      <td>6.84725</td>\n",
       "    </tr>\n",
       "    <tr>\n",
       "      <td>1</td>\n",
       "      <td>482</td>\n",
       "      <td>2.726470</td>\n",
       "      <td>26.806100</td>\n",
       "      <td>4.99423</td>\n",
       "    </tr>\n",
       "    <tr>\n",
       "      <td>2</td>\n",
       "      <td>483</td>\n",
       "      <td>0.192467</td>\n",
       "      <td>2.225050</td>\n",
       "      <td>6.89315</td>\n",
       "    </tr>\n",
       "    <tr>\n",
       "      <td>3</td>\n",
       "      <td>486</td>\n",
       "      <td>6.623700</td>\n",
       "      <td>3.326080</td>\n",
       "      <td>6.69354</td>\n",
       "    </tr>\n",
       "    <tr>\n",
       "      <td>4</td>\n",
       "      <td>488</td>\n",
       "      <td>6.752160</td>\n",
       "      <td>0.639887</td>\n",
       "      <td>5.52796</td>\n",
       "    </tr>\n",
       "  </tbody>\n",
       "</table>\n",
       "</div>"
      ],
      "text/plain": [
       "    id         x          y        z\n",
       "0  481  4.122830   1.637560  6.84725\n",
       "1  482  2.726470  26.806100  4.99423\n",
       "2  483  0.192467   2.225050  6.89315\n",
       "3  486  6.623700   3.326080  6.69354\n",
       "4  488  6.752160   0.639887  5.52796"
      ]
     },
     "execution_count": 14,
     "metadata": {},
     "output_type": "execute_result"
    }
   ],
   "source": [
    "contents = pd.read_csv('dump.txt', sep=' ')\n",
    "contents = contents.drop([\"type\"], axis=1)\n",
    "contents.head()"
   ]
  },
  {
   "cell_type": "code",
   "execution_count": 17,
   "metadata": {},
   "outputs": [],
   "source": [
    "contents.to_csv('final.data', sep=' ', index=False)"
   ]
  },
  {
   "cell_type": "code",
   "execution_count": 5,
   "metadata": {},
   "outputs": [
    {
     "data": {
      "text/html": [
       "<div>\n",
       "<style scoped>\n",
       "    .dataframe tbody tr th:only-of-type {\n",
       "        vertical-align: middle;\n",
       "    }\n",
       "\n",
       "    .dataframe tbody tr th {\n",
       "        vertical-align: top;\n",
       "    }\n",
       "\n",
       "    .dataframe thead th {\n",
       "        text-align: right;\n",
       "    }\n",
       "</style>\n",
       "<table border=\"1\" class=\"dataframe\">\n",
       "  <thead>\n",
       "    <tr style=\"text-align: right;\">\n",
       "      <th></th>\n",
       "      <th>id</th>\n",
       "      <th>x</th>\n",
       "      <th>y</th>\n",
       "      <th>z</th>\n",
       "    </tr>\n",
       "  </thead>\n",
       "  <tbody>\n",
       "    <tr>\n",
       "      <td>1180</td>\n",
       "      <td>1</td>\n",
       "      <td>4.596110</td>\n",
       "      <td>2.429000</td>\n",
       "      <td>24.3296</td>\n",
       "    </tr>\n",
       "    <tr>\n",
       "      <td>1181</td>\n",
       "      <td>2</td>\n",
       "      <td>2.661720</td>\n",
       "      <td>26.754800</td>\n",
       "      <td>21.8527</td>\n",
       "    </tr>\n",
       "    <tr>\n",
       "      <td>1182</td>\n",
       "      <td>3</td>\n",
       "      <td>-0.162201</td>\n",
       "      <td>4.984770</td>\n",
       "      <td>25.2161</td>\n",
       "    </tr>\n",
       "    <tr>\n",
       "      <td>1183</td>\n",
       "      <td>4</td>\n",
       "      <td>2.737840</td>\n",
       "      <td>0.072017</td>\n",
       "      <td>24.9711</td>\n",
       "    </tr>\n",
       "    <tr>\n",
       "      <td>1184</td>\n",
       "      <td>5</td>\n",
       "      <td>8.519780</td>\n",
       "      <td>0.160532</td>\n",
       "      <td>25.6068</td>\n",
       "    </tr>\n",
       "  </tbody>\n",
       "</table>\n",
       "</div>"
      ],
      "text/plain": [
       "      id         x          y        z\n",
       "1180   1  4.596110   2.429000  24.3296\n",
       "1181   2  2.661720  26.754800  21.8527\n",
       "1182   3 -0.162201   4.984770  25.2161\n",
       "1183   4  2.737840   0.072017  24.9711\n",
       "1184   5  8.519780   0.160532  25.6068"
      ]
     },
     "execution_count": 5,
     "metadata": {},
     "output_type": "execute_result"
    }
   ],
   "source": [
    "# 排序\n",
    "contents = pd.read_csv('final.data', sep=' ')\n",
    "contents = contents.sort_values('id')\n",
    "contents.head()"
   ]
  },
  {
   "cell_type": "code",
   "execution_count": 6,
   "metadata": {},
   "outputs": [],
   "source": [
    "contents.to_csv('final.data', sep=' ', index=False)"
   ]
  },
  {
   "cell_type": "code",
   "execution_count": null,
   "metadata": {},
   "outputs": [],
   "source": []
  }
 ],
 "metadata": {
  "kernelspec": {
   "display_name": "Python 3",
   "language": "python",
   "name": "python3"
  },
  "language_info": {
   "codemirror_mode": {
    "name": "ipython",
    "version": 3
   },
   "file_extension": ".py",
   "mimetype": "text/x-python",
   "name": "python",
   "nbconvert_exporter": "python",
   "pygments_lexer": "ipython3",
   "version": "3.7.4"
  }
 },
 "nbformat": 4,
 "nbformat_minor": 2
}
